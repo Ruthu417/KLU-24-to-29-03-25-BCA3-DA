{
 "cells": [
  {
   "cell_type": "markdown",
   "id": "f1acc80e",
   "metadata": {},
   "source": [
    "#### Review of Python Basics\n",
    "- Python is a general purpose,high level,interpreted and semi-object oriented programming language\n",
    "- **General Purpose**\n",
    "    - used for multiple purposes such as web development,system s/w development,mobile app development etc\n",
    "- **high level programming**\n",
    "    - user understandable language\n",
    "- **semi object oriented**\n",
    "    - it works as the procedural language and it supports oops concepts also\n",
    "    \n",
    "- **Features of Python**\n",
    "    1. It is dynamically typed language\n",
    "        - Datatypes of variables allocated when the time of execution by the interpreter\n",
    "    2. Interpreted language\n",
    "        - There is line by line execution of program means no compiler\n",
    "    3. It is both case sensitive and space sensitive\n",
    "        - Indentation\n",
    "    4. Syntax free language\n",
    "        - sometimes we can ignore the syntax\n",
    "    5. it seems to be English language\n",
    "        - it is some what similar to English\n",
    "    6. It is easy to learn and simple to code\n",
    "- **Applications of Python**\n",
    "    1. Data Science\n",
    "        - Machine Learning and Aritificial Intelligence are the parts of Data Science\n",
    "    2. Cloud Computing,IOT,Robotics,Web development etc \n",
    "- **Platforms that supports to run Python**\n",
    "    - IDLE(Integrated Development Learning Environment) from official website of python -> python.org\n",
    "    - PyCharm\n",
    "    - Spider\n",
    "    - Jupyter(Anaconda)\n",
    "    - Pydroid3(Android mobile app)\n",
    "    - current version of python is 3.13+ version\n",
    "    \n",
    "- **Types of Errors**\n",
    "    - an invalid statement in the program said to be Error\n",
    "    - 3types of errors\n",
    "        1. Syntax Error\n",
    "            - Error related to syntax\n",
    "        2. Value Error and\n",
    "            - value error,type error,key error,name error and file not found etc.\n",
    "        3. Indentation Error\n",
    "            - Error related to space\n",
    "    "
   ]
  },
  {
   "cell_type": "code",
   "execution_count": 1,
   "id": "196a8862",
   "metadata": {
    "collapsed": true
   },
   "outputs": [
    {
     "name": "stdout",
     "output_type": "stream",
     "text": [
      "Welcome to Data Analysis using Python workshop\n"
     ]
    }
   ],
   "source": [
    "print(\"Welcome to Data Analysis using Python workshop\")"
   ]
  },
  {
   "cell_type": "code",
   "execution_count": 2,
   "id": "85ced47f",
   "metadata": {
    "collapsed": true
   },
   "outputs": [
    {
     "ename": "SyntaxError",
     "evalue": "EOL while scanning string literal (1476558777.py, line 2)",
     "output_type": "error",
     "traceback": [
      "\u001b[1;36m  File \u001b[1;32m\"C:\\Users\\ruthu\\AppData\\Local\\Temp\\ipykernel_28404\\1476558777.py\"\u001b[1;36m, line \u001b[1;32m2\u001b[0m\n\u001b[1;33m    print(\"Welcome to Data Analysis using Python workshop')\u001b[0m\n\u001b[1;37m                                                           ^\u001b[0m\n\u001b[1;31mSyntaxError\u001b[0m\u001b[1;31m:\u001b[0m EOL while scanning string literal\n"
     ]
    }
   ],
   "source": [
    "# comment \n",
    "print(\"Welcome to Data Analysis using Python workshop')"
   ]
  },
  {
   "cell_type": "code",
   "execution_count": 4,
   "id": "dbf44bf7",
   "metadata": {
    "collapsed": true
   },
   "outputs": [
    {
     "name": "stdout",
     "output_type": "stream",
     "text": [
      "DA Workshop conducted by APSSDC\n"
     ]
    }
   ],
   "source": [
    "# single quote/double quotes/multiple quotes-->strings\n",
    "print('DA Workshop conducted by APSSDC')"
   ]
  },
  {
   "cell_type": "code",
   "execution_count": 5,
   "id": "a2b4c0ba",
   "metadata": {},
   "outputs": [
    {
     "name": "stdout",
     "output_type": "stream",
     "text": [
      " I am from APSSDC\n"
     ]
    }
   ],
   "source": [
    "# Triple quotes\n",
    "print(''' I am from APSSDC''')"
   ]
  },
  {
   "cell_type": "markdown",
   "id": "2b73692f",
   "metadata": {},
   "source": [
    "#### keywords in python\n",
    "- A reserved word which has a special meaning and purpose\n",
    "- 35 keywords in python\n",
    "- keyword is a module that contains all the list of keywords"
   ]
  },
  {
   "cell_type": "code",
   "execution_count": 6,
   "id": "ac2e5290",
   "metadata": {
    "collapsed": true
   },
   "outputs": [
    {
     "name": "stdout",
     "output_type": "stream",
     "text": [
      "['False', 'None', 'True', '__peg_parser__', 'and', 'as', 'assert', 'async', 'await', 'break', 'class', 'continue', 'def', 'del', 'elif', 'else', 'except', 'finally', 'for', 'from', 'global', 'if', 'import', 'in', 'is', 'lambda', 'nonlocal', 'not', 'or', 'pass', 'raise', 'return', 'try', 'while', 'with', 'yield']\n"
     ]
    }
   ],
   "source": [
    "import keyword\n",
    "print(keyword.kwlist)"
   ]
  },
  {
   "cell_type": "code",
   "execution_count": 7,
   "id": "4f52e39e",
   "metadata": {
    "collapsed": true
   },
   "outputs": [
    {
     "name": "stdout",
     "output_type": "stream",
     "text": [
      "I am  Vivek 18 years old and my roll id is 22001A001\n"
     ]
    }
   ],
   "source": [
    "# variable creation in python;there is no datatype declaration\n",
    "student=\"Vivek\"\n",
    "age=18\n",
    "roll_id=\"22001A001\"\n",
    "print(\"I am \",student,age,\"years old and my roll id is\",roll_id)"
   ]
  },
  {
   "cell_type": "code",
   "execution_count": 8,
   "id": "04f47f01",
   "metadata": {
    "collapsed": true
   },
   "outputs": [
    {
     "name": "stdout",
     "output_type": "stream",
     "text": [
      "10 kavya 15 Bhavya 20\n"
     ]
    }
   ],
   "source": [
    "# creating multiple variables in a line\n",
    "a,b,c=10,15,20\n",
    "name,name2=\"kavya\",'Bhavya'\n",
    "print(a,name,b,name2,c)"
   ]
  },
  {
   "cell_type": "code",
   "execution_count": 9,
   "id": "806165b2",
   "metadata": {
    "collapsed": true
   },
   "outputs": [
    {
     "name": "stdout",
     "output_type": "stream",
     "text": [
      "20 20 20\n"
     ]
    }
   ],
   "source": [
    "# single value to multiple vars\n",
    "f=s=th=20\n",
    "print(f,s,th)"
   ]
  },
  {
   "cell_type": "code",
   "execution_count": 11,
   "id": "1c911643",
   "metadata": {
    "collapsed": true
   },
   "outputs": [
    {
     "name": "stdout",
     "output_type": "stream",
     "text": [
      "Ruthu\n",
      "enter your name:vanitha\n",
      "I am Ruthu\n",
      "I am vanitha\n"
     ]
    }
   ],
   "source": [
    "# how to read dynamic values from user/keyboard\n",
    "st=input() # str data bydefault\n",
    "st2=input(\"enter your name:\")\n",
    "print(\"I am\",st)\n",
    "print(\"I am\",st2)"
   ]
  },
  {
   "cell_type": "code",
   "execution_count": 12,
   "id": "1ab7a27d",
   "metadata": {
    "collapsed": true
   },
   "outputs": [
    {
     "name": "stdout",
     "output_type": "stream",
     "text": [
      "mobile number:9876543210\n",
      "cgpa:9.4\n",
      "contact me @ 9876543210 I got 9.4\n"
     ]
    }
   ],
   "source": [
    "# int and float value from keyboard/user\n",
    "mbl=int(input(\"mobile number:\")) #explicit\n",
    "gpa=float(input(\"cgpa:\"))\n",
    "print(\"contact me @\",mbl,\"I got\",gpa)"
   ]
  },
  {
   "cell_type": "markdown",
   "id": "cf2c5193",
   "metadata": {},
   "source": [
    "#### Type casting/conversion\n",
    "- conversion of datatype of variable from one format to another\n",
    "- 2types of conversions\n",
    "    1. Implicit conversion\n",
    "        - Default conversion by the interpreter\n",
    "    2. Explicit conversion\n",
    "        - conversion by the user"
   ]
  },
  {
   "cell_type": "code",
   "execution_count": 13,
   "id": "a457bba2",
   "metadata": {
    "collapsed": true
   },
   "outputs": [
    {
     "ename": "ValueError",
     "evalue": "invalid literal for int() with base 10: 'ruthu'",
     "output_type": "error",
     "traceback": [
      "\u001b[1;31m---------------------------------------------------------------------------\u001b[0m",
      "\u001b[1;31mValueError\u001b[0m                                Traceback (most recent call last)",
      "\u001b[1;32m~\\AppData\\Local\\Temp\\ipykernel_28404\\1302645995.py\u001b[0m in \u001b[0;36m<module>\u001b[1;34m\u001b[0m\n\u001b[1;32m----> 1\u001b[1;33m \u001b[0mint\u001b[0m\u001b[1;33m(\u001b[0m\u001b[1;34m\"ruthu\"\u001b[0m\u001b[1;33m)\u001b[0m \u001b[1;31m# error\u001b[0m\u001b[1;33m\u001b[0m\u001b[1;33m\u001b[0m\u001b[0m\n\u001b[0m",
      "\u001b[1;31mValueError\u001b[0m: invalid literal for int() with base 10: 'ruthu'"
     ]
    }
   ],
   "source": [
    "int(\"ruthu\") # error"
   ]
  },
  {
   "cell_type": "code",
   "execution_count": 14,
   "id": "ce19207e",
   "metadata": {
    "collapsed": true
   },
   "outputs": [
    {
     "data": {
      "text/plain": [
       "9876543210"
      ]
     },
     "execution_count": 14,
     "metadata": {},
     "output_type": "execute_result"
    }
   ],
   "source": [
    "int(\"9876543210\") # explicit conversion"
   ]
  },
  {
   "cell_type": "code",
   "execution_count": 15,
   "id": "54939665",
   "metadata": {
    "collapsed": true
   },
   "outputs": [
    {
     "data": {
      "text/plain": [
       "180.45"
      ]
     },
     "execution_count": 15,
     "metadata": {},
     "output_type": "execute_result"
    }
   ],
   "source": [
    "90+90.45 # implicit conversion"
   ]
  },
  {
   "cell_type": "code",
   "execution_count": 19,
   "id": "5126802b",
   "metadata": {
    "collapsed": true
   },
   "outputs": [
    {
     "name": "stdout",
     "output_type": "stream",
     "text": [
      "10\n",
      "4\n",
      "sum= 14\n",
      "difference= 6\n",
      "product= 40\n",
      "coefficient= 2.5\n",
      "exact coefficient= 2\n",
      "remainder= 2\n",
      "exponential= 10000\n"
     ]
    }
   ],
   "source": [
    "# read 2 integers from user and perform all the arithmetic operations\n",
    "f,s=int(input()),int(input())\n",
    "print(\"sum=\",f+s)\n",
    "print(\"difference=\",f-s)\n",
    "print(\"product=\",f*s)\n",
    "print(\"coefficient=\",f/s)\n",
    "print(\"exact coefficient=\",f//s)\n",
    "print(\"remainder=\",f%s)\n",
    "print(\"exponential=\",f**s)"
   ]
  },
  {
   "cell_type": "markdown",
   "id": "8940be04",
   "metadata": {},
   "source": [
    "##### Files in python\n",
    "- anything that contains the data with a specific extension is called a file\n",
    "- .txt,.doc,.xls,.ppt,.exe,.py,.c,.jpg etc\n",
    "- .apk files\n",
    "\n",
    "- **File Operations**\n",
    "    1. open()\n",
    "        - open() is the predefined function to open the files\n",
    "    2. close()\n",
    "    3. read()\n",
    "    4. write()\n",
    "    5. append()"
   ]
  },
  {
   "cell_type": "code",
   "execution_count": 3,
   "id": "317f6ac1",
   "metadata": {},
   "outputs": [
    {
     "name": "stdout",
     "output_type": "stream",
     "text": [
      "This is day1\n",
      "we have the review on basics\n",
      "now we are working with files\n"
     ]
    }
   ],
   "source": [
    "# open(filename,mode)\n",
    "data=open(\"first.txt\",'r') #\n",
    "print(data.read()) # file operation/method\n",
    "data.close()"
   ]
  },
  {
   "cell_type": "code",
   "execution_count": 5,
   "id": "10519bed",
   "metadata": {
    "collapsed": true
   },
   "outputs": [
    {
     "name": "stdout",
     "output_type": "stream",
     "text": [
      "['This is day1\\n', 'we have the review on basics\\n', 'now we are working with files']\n"
     ]
    }
   ],
   "source": [
    "# open(filename,mode)\n",
    "data=open(\"first.txt\",'r') #\n",
    "print(data.readlines()) # file operation/method\n",
    "data.close()"
   ]
  },
  {
   "cell_type": "code",
   "execution_count": 6,
   "id": "ab03661d",
   "metadata": {
    "collapsed": true
   },
   "outputs": [
    {
     "name": "stdout",
     "output_type": "stream",
     "text": [
      "def is_prime(n):\n",
      "    fc=0\n",
      "    for dig in range(1,n//2+1):\n",
      "        if n%dig==0:\n",
      "            fc+=1\n",
      "    if fc==1:\n",
      "        return True\n",
      "    else:return False\n",
      "    \n",
      "    \n",
      "#is_prime(10)\n"
     ]
    }
   ],
   "source": [
    "# with \n",
    "with open(\"second.py\",'r') as file:\n",
    "    print(file.read())"
   ]
  },
  {
   "cell_type": "code",
   "execution_count": 7,
   "id": "137c5b53",
   "metadata": {},
   "outputs": [],
   "source": [
    "# write() operation ,we can create new file with write()\n",
    "new=open(\"new.txt\",'w')\n",
    "new.write(\"file is created using write()\")\n",
    "new.close()"
   ]
  },
  {
   "cell_type": "code",
   "execution_count": 8,
   "id": "924ec8a5",
   "metadata": {},
   "outputs": [],
   "source": [
    "#write() on the existed file\n",
    "with open(\"new.txt\",'w') as w:\n",
    "    w.write(\"existed data is overwrited..!\")\n",
    "    "
   ]
  },
  {
   "cell_type": "code",
   "execution_count": 9,
   "id": "ad64f760",
   "metadata": {},
   "outputs": [],
   "source": [
    "# writelines()\n"
   ]
  },
  {
   "cell_type": "code",
   "execution_count": 10,
   "id": "90bb1660",
   "metadata": {},
   "outputs": [],
   "source": [
    "#append mode in write()\n",
    "with open(\"first.txt\",'a') as ap:\n",
    "    ap.write(\"\\nThis new data is added using append mode\")\n",
    "    "
   ]
  },
  {
   "cell_type": "code",
   "execution_count": 11,
   "id": "5504cae3",
   "metadata": {
    "collapsed": true
   },
   "outputs": [
    {
     "name": "stdout",
     "output_type": "stream",
     "text": [
      "def is_prime(n):\n",
      "    fc=0\n",
      "    for dig in range(1,n//2+1):\n",
      "        if n%dig==0:\n",
      "            fc+=1\n",
      "    if fc==1:\n",
      "        return True\n",
      "    else:return False\n",
      "    \n",
      "    \n",
      "#is_prime(10)\n"
     ]
    }
   ],
   "source": [
    "# both operations at a time read()&Write()--> r+ mode\n",
    "both=open(\"second.py\",'r+')\n",
    "print(both.read())\n",
    "both.write(\"\\nprint('working with r+ mode')\")\n",
    "both.close()"
   ]
  },
  {
   "cell_type": "code",
   "execution_count": 13,
   "id": "19202a9a",
   "metadata": {},
   "outputs": [
    {
     "name": "stdout",
     "output_type": "stream",
     "text": [
      "writed..!\n"
     ]
    }
   ],
   "source": [
    "# first write() and read()\n",
    "with open(\"new.txt\",'r+') as op:\n",
    "    op.write(\"\\nadding new data..!\")\n",
    "    print(op.read())"
   ]
  },
  {
   "cell_type": "markdown",
   "id": "1bd2e980",
   "metadata": {},
   "source": [
    "#### modules and packages\n",
    "- group/collection of statements called as function\n",
    "- collection of functions called as module\n",
    "- collection of modules called as package\n",
    "- a user can create his/her own packages in python"
   ]
  },
  {
   "cell_type": "code",
   "execution_count": 14,
   "id": "e9444867",
   "metadata": {},
   "outputs": [],
   "source": [
    "import package"
   ]
  },
  {
   "cell_type": "code",
   "execution_count": 15,
   "id": "960467c2",
   "metadata": {
    "collapsed": true
   },
   "outputs": [
    {
     "name": "stdout",
     "output_type": "stream",
     "text": [
      "['__doc__', '__file__', '__loader__', '__name__', '__package__', '__path__', '__spec__']\n"
     ]
    }
   ],
   "source": [
    "print(dir(package))"
   ]
  },
  {
   "cell_type": "code",
   "execution_count": 16,
   "id": "3cc851e8",
   "metadata": {},
   "outputs": [],
   "source": [
    "from package import fmodule,smodule"
   ]
  },
  {
   "cell_type": "code",
   "execution_count": 17,
   "id": "060bfb73",
   "metadata": {},
   "outputs": [
    {
     "name": "stdout",
     "output_type": "stream",
     "text": [
      "['__builtins__', '__cached__', '__doc__', '__file__', '__loader__', '__name__', '__package__', '__spec__', 'is_even', 'is_odd']\n"
     ]
    }
   ],
   "source": [
    "print(dir(fmodule))"
   ]
  },
  {
   "cell_type": "code",
   "execution_count": 18,
   "id": "60e118d3",
   "metadata": {},
   "outputs": [
    {
     "name": "stdout",
     "output_type": "stream",
     "text": [
      "['__builtins__', '__cached__', '__doc__', '__file__', '__loader__', '__name__', '__package__', '__spec__', 'frequency', 'is_palindrome']\n"
     ]
    }
   ],
   "source": [
    "print(dir(smodule))"
   ]
  },
  {
   "cell_type": "code",
   "execution_count": 23,
   "id": "83ced40e",
   "metadata": {},
   "outputs": [
    {
     "name": "stdout",
     "output_type": "stream",
     "text": [
      "True\n"
     ]
    }
   ],
   "source": [
    "print(fmodule.is_even(4))"
   ]
  },
  {
   "cell_type": "code",
   "execution_count": 31,
   "id": "60f4df9b",
   "metadata": {},
   "outputs": [
    {
     "data": {
      "text/plain": [
       "False"
      ]
     },
     "execution_count": 31,
     "metadata": {},
     "output_type": "execute_result"
    }
   ],
   "source": [
    "fmodule.is_odd(4)"
   ]
  },
  {
   "cell_type": "code",
   "execution_count": 24,
   "id": "8260427d",
   "metadata": {},
   "outputs": [
    {
     "data": {
      "text/plain": [
       "True"
      ]
     },
     "execution_count": 24,
     "metadata": {},
     "output_type": "execute_result"
    }
   ],
   "source": [
    "smodule.is_palindrome('wow')"
   ]
  },
  {
   "cell_type": "code",
   "execution_count": null,
   "id": "7bc634d5",
   "metadata": {},
   "outputs": [],
   "source": []
  }
 ],
 "metadata": {
  "kernelspec": {
   "display_name": "Python 3 (ipykernel)",
   "language": "python",
   "name": "python3"
  },
  "language_info": {
   "codemirror_mode": {
    "name": "ipython",
    "version": 3
   },
   "file_extension": ".py",
   "mimetype": "text/x-python",
   "name": "python",
   "nbconvert_exporter": "python",
   "pygments_lexer": "ipython3",
   "version": "3.9.13"
  }
 },
 "nbformat": 4,
 "nbformat_minor": 5
}
