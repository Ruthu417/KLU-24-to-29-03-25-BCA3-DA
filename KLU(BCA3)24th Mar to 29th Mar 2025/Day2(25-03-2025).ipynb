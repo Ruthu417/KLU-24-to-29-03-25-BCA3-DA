{
 "cells": [
  {
   "cell_type": "markdown",
   "id": "4671300d",
   "metadata": {},
   "source": [
    "#### Today Topics\n",
    "- Introduction to Data Analysis\n",
    "- The information stored in a file is called data\n",
    "- The complete study of data is called data science\n",
    "- Aritificial Intelligence and Machine Learning are the parts of Data Science"
   ]
  },
  {
   "cell_type": "markdown",
   "id": "028c7731",
   "metadata": {},
   "source": [
    "<img src=\"ds.jpg\" height=170px width=170px>"
   ]
  },
  {
   "cell_type": "markdown",
   "id": "6928dca9",
   "metadata": {},
   "source": [
    "#### Data Sources\n",
    "- Data in realtime/real world\n",
    "    - 2types of data\n",
    "        1. Discrete\n",
    "            - This type of data is fixed/constant\n",
    "            - Ex:Name,Roll number,Aadhar etc.\n",
    "            - 2types of data\n",
    "                1. Quantitative\n",
    "                    - This type of data is organized on the basis of size/volume\n",
    "                    - Ex:fize size(mb)\n",
    "                2. Qualitative\n",
    "                    - This type of data is categorized on the basis of quality\n",
    "                    - Ex:feedback form\n",
    "                        - good\n",
    "                        - average\n",
    "                        - excellent\n",
    "                        - outstanding\n",
    "        2. Continuous\n",
    "            - this type of data is continuous in nature\n",
    "            - Ex:height,weight, transactions etc.\n",
    "- data in our devices\n",
    "    - data is present in the forms of files such as \n",
    "    - .txt,.xls,.doc,.ppt,.mp3,.mp4,.jpg,.exe,.py,.apk etc\n",
    "- data in statistics\n",
    "    - 4 types of data\n",
    "        1. Nominal data\n",
    "            - this data is categorized on the basis of names\n",
    "        2. Ordinal\n",
    "            - the data points can be arranged in an order\n",
    "                - ascending order/descending order\n",
    "        3. Rational\n",
    "            - Data in the form of p/q \n",
    "            - ratio or proportion\n",
    "        4. Interval\n",
    "            - data is present in a range(lower bound,upper bound)\n",
    "            \n",
    "            \n",
    "- Now a days,everybody is using the data and generating the data,Hence, data is increasing day by day."
   ]
  },
  {
   "cell_type": "markdown",
   "id": "908a8510",
   "metadata": {},
   "source": [
    "#### Data Science Modules\n",
    "    1. Numpy\n",
    "    2. Pandas\n",
    "    3. Matplot library\n",
    "    4. Searborn\n",
    "    5. Scikit Learn"
   ]
  },
  {
   "cell_type": "markdown",
   "id": "0e4eebde",
   "metadata": {},
   "source": [
    "#### Numpy\n",
    "- Numpy stands for Numerical Python used for the scientific computation of data\n",
    "- if our data is numerical , the data is arranged in the array format \n",
    "- **installation of numpy**\n",
    "    1. pip install numpy(local machine/device)\n",
    "    2. import numpy(workspace)\n"
   ]
  },
  {
   "cell_type": "code",
   "execution_count": 2,
   "id": "962898f6",
   "metadata": {},
   "outputs": [],
   "source": [
    "import numpy as np"
   ]
  },
  {
   "cell_type": "code",
   "execution_count": 3,
   "id": "1d274187",
   "metadata": {
    "collapsed": true
   },
   "outputs": [
    {
     "name": "stdout",
     "output_type": "stream",
     "text": [
      "['ALLOW_THREADS', 'AxisError', 'BUFSIZE', 'Bytes0', 'CLIP', 'ComplexWarning', 'DataSource', 'Datetime64', 'ERR_CALL', 'ERR_DEFAULT', 'ERR_IGNORE', 'ERR_LOG', 'ERR_PRINT', 'ERR_RAISE', 'ERR_WARN', 'FLOATING_POINT_SUPPORT', 'FPE_DIVIDEBYZERO', 'FPE_INVALID', 'FPE_OVERFLOW', 'FPE_UNDERFLOW', 'False_', 'Inf', 'Infinity', 'MAXDIMS', 'MAY_SHARE_BOUNDS', 'MAY_SHARE_EXACT', 'MachAr', 'ModuleDeprecationWarning', 'NAN', 'NINF', 'NZERO', 'NaN', 'PINF', 'PZERO', 'RAISE', 'RankWarning', 'SHIFT_DIVIDEBYZERO', 'SHIFT_INVALID', 'SHIFT_OVERFLOW', 'SHIFT_UNDERFLOW', 'ScalarType', 'Str0', 'Tester', 'TooHardError', 'True_', 'UFUNC_BUFSIZE_DEFAULT', 'UFUNC_PYVALS_NAME', 'Uint64', 'VisibleDeprecationWarning', 'WRAP', '_NoValue', '_UFUNC_API', '__NUMPY_SETUP__', '__all__', '__builtins__', '__cached__', '__config__', '__deprecated_attrs__', '__dir__', '__doc__', '__expired_functions__', '__file__', '__getattr__', '__git_version__', '__loader__', '__mkl_version__', '__name__', '__package__', '__path__', '__spec__', '__version__', '_add_newdoc_ufunc', '_distributor_init', '_financial_names', '_globals', '_mat', '_pytesttester', '_version', 'abs', 'absolute', 'add', 'add_docstring', 'add_newdoc', 'add_newdoc_ufunc', 'alen', 'all', 'allclose', 'alltrue', 'amax', 'amin', 'angle', 'any', 'append', 'apply_along_axis', 'apply_over_axes', 'arange', 'arccos', 'arccosh', 'arcsin', 'arcsinh', 'arctan', 'arctan2', 'arctanh', 'argmax', 'argmin', 'argpartition', 'argsort', 'argwhere', 'around', 'array', 'array2string', 'array_equal', 'array_equiv', 'array_repr', 'array_split', 'array_str', 'asanyarray', 'asarray', 'asarray_chkfinite', 'ascontiguousarray', 'asfarray', 'asfortranarray', 'asmatrix', 'asscalar', 'atleast_1d', 'atleast_2d', 'atleast_3d', 'average', 'bartlett', 'base_repr', 'binary_repr', 'bincount', 'bitwise_and', 'bitwise_not', 'bitwise_or', 'bitwise_xor', 'blackman', 'block', 'bmat', 'bool8', 'bool_', 'broadcast', 'broadcast_arrays', 'broadcast_shapes', 'broadcast_to', 'busday_count', 'busday_offset', 'busdaycalendar', 'byte', 'byte_bounds', 'bytes0', 'bytes_', 'c_', 'can_cast', 'cast', 'cbrt', 'cdouble', 'ceil', 'cfloat', 'char', 'character', 'chararray', 'choose', 'clip', 'clongdouble', 'clongfloat', 'column_stack', 'common_type', 'compare_chararrays', 'compat', 'complex128', 'complex64', 'complex_', 'complexfloating', 'compress', 'concatenate', 'conj', 'conjugate', 'convolve', 'copy', 'copysign', 'copyto', 'core', 'corrcoef', 'correlate', 'cos', 'cosh', 'count_nonzero', 'cov', 'cross', 'csingle', 'ctypeslib', 'cumprod', 'cumproduct', 'cumsum', 'datetime64', 'datetime_as_string', 'datetime_data', 'deg2rad', 'degrees', 'delete', 'deprecate', 'deprecate_with_doc', 'diag', 'diag_indices', 'diag_indices_from', 'diagflat', 'diagonal', 'diff', 'digitize', 'disp', 'divide', 'divmod', 'dot', 'double', 'dsplit', 'dstack', 'dtype', 'e', 'ediff1d', 'einsum', 'einsum_path', 'emath', 'empty', 'empty_like', 'equal', 'errstate', 'euler_gamma', 'exp', 'exp2', 'expand_dims', 'expm1', 'extract', 'eye', 'fabs', 'fastCopyAndTranspose', 'fft', 'fill_diagonal', 'find_common_type', 'finfo', 'fix', 'flatiter', 'flatnonzero', 'flexible', 'flip', 'fliplr', 'flipud', 'float16', 'float32', 'float64', 'float_', 'float_power', 'floating', 'floor', 'floor_divide', 'fmax', 'fmin', 'fmod', 'format_float_positional', 'format_float_scientific', 'format_parser', 'frexp', 'frombuffer', 'fromfile', 'fromfunction', 'fromiter', 'frompyfunc', 'fromregex', 'fromstring', 'full', 'full_like', 'gcd', 'generic', 'genfromtxt', 'geomspace', 'get_array_wrap', 'get_include', 'get_printoptions', 'getbufsize', 'geterr', 'geterrcall', 'geterrobj', 'gradient', 'greater', 'greater_equal', 'half', 'hamming', 'hanning', 'heaviside', 'histogram', 'histogram2d', 'histogram_bin_edges', 'histogramdd', 'hsplit', 'hstack', 'hypot', 'i0', 'identity', 'iinfo', 'imag', 'in1d', 'index_exp', 'indices', 'inexact', 'inf', 'info', 'infty', 'inner', 'insert', 'int0', 'int16', 'int32', 'int64', 'int8', 'int_', 'intc', 'integer', 'interp', 'intersect1d', 'intp', 'invert', 'is_busday', 'isclose', 'iscomplex', 'iscomplexobj', 'isfinite', 'isfortran', 'isin', 'isinf', 'isnan', 'isnat', 'isneginf', 'isposinf', 'isreal', 'isrealobj', 'isscalar', 'issctype', 'issubclass_', 'issubdtype', 'issubsctype', 'iterable', 'ix_', 'kaiser', 'kron', 'lcm', 'ldexp', 'left_shift', 'less', 'less_equal', 'lexsort', 'lib', 'linalg', 'linspace', 'little_endian', 'load', 'loads', 'loadtxt', 'log', 'log10', 'log1p', 'log2', 'logaddexp', 'logaddexp2', 'logical_and', 'logical_not', 'logical_or', 'logical_xor', 'logspace', 'longcomplex', 'longdouble', 'longfloat', 'longlong', 'lookfor', 'ma', 'mafromtxt', 'mask_indices', 'mat', 'math', 'matmul', 'matrix', 'matrixlib', 'max', 'maximum', 'maximum_sctype', 'may_share_memory', 'mean', 'median', 'memmap', 'meshgrid', 'mgrid', 'min', 'min_scalar_type', 'minimum', 'mintypecode', 'mkl', 'mod', 'modf', 'moveaxis', 'msort', 'multiply', 'nan', 'nan_to_num', 'nanargmax', 'nanargmin', 'nancumprod', 'nancumsum', 'nanmax', 'nanmean', 'nanmedian', 'nanmin', 'nanpercentile', 'nanprod', 'nanquantile', 'nanstd', 'nansum', 'nanvar', 'nbytes', 'ndarray', 'ndenumerate', 'ndfromtxt', 'ndim', 'ndindex', 'nditer', 'negative', 'nested_iters', 'newaxis', 'nextafter', 'nonzero', 'not_equal', 'numarray', 'number', 'obj2sctype', 'object0', 'object_', 'ogrid', 'oldnumeric', 'ones', 'ones_like', 'os', 'outer', 'packbits', 'pad', 'partition', 'percentile', 'pi', 'piecewise', 'place', 'poly', 'poly1d', 'polyadd', 'polyder', 'polydiv', 'polyfit', 'polyint', 'polymul', 'polynomial', 'polysub', 'polyval', 'positive', 'power', 'printoptions', 'prod', 'product', 'promote_types', 'ptp', 'put', 'put_along_axis', 'putmask', 'quantile', 'r_', 'rad2deg', 'radians', 'random', 'ravel', 'ravel_multi_index', 'real', 'real_if_close', 'rec', 'recarray', 'recfromcsv', 'recfromtxt', 'reciprocal', 'record', 'remainder', 'repeat', 'require', 'reshape', 'resize', 'result_type', 'right_shift', 'rint', 'roll', 'rollaxis', 'roots', 'rot90', 'round', 'round_', 'row_stack', 's_', 'safe_eval', 'save', 'savetxt', 'savez', 'savez_compressed', 'sctype2char', 'sctypeDict', 'sctypes', 'searchsorted', 'select', 'set_numeric_ops', 'set_printoptions', 'set_string_function', 'setbufsize', 'setdiff1d', 'seterr', 'seterrcall', 'seterrobj', 'setxor1d', 'shape', 'shares_memory', 'short', 'show_config', 'sign', 'signbit', 'signedinteger', 'sin', 'sinc', 'single', 'singlecomplex', 'sinh', 'size', 'sometrue', 'sort', 'sort_complex', 'source', 'spacing', 'split', 'sqrt', 'square', 'squeeze', 'stack', 'std', 'str0', 'str_', 'string_', 'subtract', 'sum', 'swapaxes', 'sys', 'take', 'take_along_axis', 'tan', 'tanh', 'tensordot', 'test', 'testing', 'tile', 'timedelta64', 'trace', 'tracemalloc_domain', 'transpose', 'trapz', 'tri', 'tril', 'tril_indices', 'tril_indices_from', 'trim_zeros', 'triu', 'triu_indices', 'triu_indices_from', 'true_divide', 'trunc', 'typecodes', 'typename', 'ubyte', 'ufunc', 'uint', 'uint0', 'uint16', 'uint32', 'uint64', 'uint8', 'uintc', 'uintp', 'ulonglong', 'unicode_', 'union1d', 'unique', 'unpackbits', 'unravel_index', 'unsignedinteger', 'unwrap', 'use_hugepage', 'ushort', 'vander', 'var', 'vdot', 'vectorize', 'version', 'void', 'void0', 'vsplit', 'vstack', 'warnings', 'where', 'who', 'zeros', 'zeros_like']\n"
     ]
    }
   ],
   "source": [
    "print(dir(np))"
   ]
  },
  {
   "cell_type": "markdown",
   "id": "d2f17c72",
   "metadata": {},
   "source": [
    "#### functions that supports to store data in a array format\n",
    "1. np.array()\n",
    "2. np.arange()\n",
    "3. np.ones()\n",
    "4. np.zeros()\n",
    "5. np.full()\n",
    "6. np.fill()\n",
    "7. np.linspace()\n",
    "8. np.diag()\n",
    "9. np.random()\n",
    "10. np.identity()\n",
    "11. np.eye()"
   ]
  },
  {
   "cell_type": "code",
   "execution_count": 4,
   "id": "a6de6513",
   "metadata": {
    "collapsed": true
   },
   "outputs": [
    {
     "name": "stdout",
     "output_type": "stream",
     "text": [
      "[1 2 3 4 9]\n"
     ]
    }
   ],
   "source": [
    "# array creation using tuple/list/set/dict\n",
    "a=np.array((1,2,3,4,9))\n",
    "print(a) # 1 dimensional array:only one row of element"
   ]
  },
  {
   "cell_type": "code",
   "execution_count": 6,
   "id": "b60f548b",
   "metadata": {
    "collapsed": true
   },
   "outputs": [
    {
     "name": "stdout",
     "output_type": "stream",
     "text": [
      "[ 3 45 13 24 15]\n",
      "[[1 2 3]\n",
      " [4 5 6]]\n"
     ]
    }
   ],
   "source": [
    "# 2d array contains row and column\n",
    "print(np.array([3,45,13,24,15]))\n",
    "ar=np.array([[1,2,3],[4,5,6]])\n",
    "print(ar)"
   ]
  },
  {
   "cell_type": "code",
   "execution_count": 11,
   "id": "9ca11cd9",
   "metadata": {
    "collapsed": true
   },
   "outputs": [
    {
     "name": "stdout",
     "output_type": "stream",
     "text": [
      "['A' 'B' 'C' 'D' 'E' 'F' 'G']\n"
     ]
    }
   ],
   "source": [
    "# array is the homogenous data structure that alllows only one type of data\n",
    "# str/int/float \n",
    "char=np.array([chr(val) for val in range(65,72)])\n",
    "print(char)"
   ]
  },
  {
   "cell_type": "code",
   "execution_count": 13,
   "id": "ce6cf40f",
   "metadata": {
    "collapsed": true
   },
   "outputs": [
    {
     "name": "stdout",
     "output_type": "stream",
     "text": [
      "{67.3, 35.4, 90.45, 12.34, 45.6}\n"
     ]
    }
   ],
   "source": [
    "# float array\n",
    "print(np.array({45.6,12.34,90.45,67.3,35.4}))"
   ]
  },
  {
   "cell_type": "code",
   "execution_count": 14,
   "id": "c5d9edb3",
   "metadata": {
    "collapsed": true
   },
   "outputs": [
    {
     "name": "stdout",
     "output_type": "stream",
     "text": [
      "[[ 0  1  2  3  4]\n",
      " [ 5  6  7  8  9]\n",
      " [10 11 12 13 14]]\n"
     ]
    }
   ],
   "source": [
    "#conversion of 1d array into 2d and 3d\n",
    "ar=np.arange(15).reshape(3,5)\n",
    "print(ar)"
   ]
  },
  {
   "cell_type": "code",
   "execution_count": 17,
   "id": "a2f2cbdc",
   "metadata": {
    "collapsed": true
   },
   "outputs": [
    {
     "name": "stdout",
     "output_type": "stream",
     "text": [
      "[[[ 0  1  2]\n",
      "  [ 3  4  5]\n",
      "  [ 6  7  8]\n",
      "  [ 9 10 11]\n",
      "  [12 13 14]]\n",
      "\n",
      " [[15 16 17]\n",
      "  [18 19 20]\n",
      "  [21 22 23]\n",
      "  [24 25 26]\n",
      "  [27 28 29]]\n",
      "\n",
      " [[30 31 32]\n",
      "  [33 34 35]\n",
      "  [36 37 38]\n",
      "  [39 40 41]\n",
      "  [42 43 44]]]\n"
     ]
    }
   ],
   "source": [
    "# 1d into 3d: 45 values -->(3,15)-->(3,3,5) or(3,5,3)\n",
    "ar=np.arange(45).reshape(3,5,3)\n",
    "print(ar)"
   ]
  },
  {
   "cell_type": "code",
   "execution_count": 18,
   "id": "0fee00a8",
   "metadata": {
    "collapsed": true
   },
   "outputs": [
    {
     "name": "stdout",
     "output_type": "stream",
     "text": [
      "[[[ 0  1  2]\n",
      "  [ 3  4  5]\n",
      "  [ 6  7  8]]\n",
      "\n",
      " [[ 9 10 11]\n",
      "  [12 13 14]\n",
      "  [15 16 17]]\n",
      "\n",
      " [[18 19 20]\n",
      "  [21 22 23]\n",
      "  [24 25 26]]\n",
      "\n",
      " [[27 28 29]\n",
      "  [30 31 32]\n",
      "  [33 34 35]]\n",
      "\n",
      " [[36 37 38]\n",
      "  [39 40 41]\n",
      "  [42 43 44]]]\n"
     ]
    }
   ],
   "source": [
    "print(np.arange(45).reshape(5,3,3))"
   ]
  },
  {
   "cell_type": "code",
   "execution_count": 22,
   "id": "0a469cf4",
   "metadata": {
    "collapsed": true
   },
   "outputs": [
    {
     "data": {
      "text/plain": [
       "array([[[[[[[[[[[[[[[[[[[[[[[[[[[[[[[[3, 4,\n",
       "                                      5, 6]]]]]]]]]]]]]]]]]]]]]]]]]]]]]]]])"
      ]
     },
     "execution_count": 22,
     "metadata": {},
     "output_type": "execute_result"
    }
   ],
   "source": [
    "# 32 dimensional array\n",
    "np.array([3,4,5,6],ndmin=32)"
   ]
  },
  {
   "cell_type": "code",
   "execution_count": 26,
   "id": "87a9c3ac",
   "metadata": {
    "collapsed": true
   },
   "outputs": [
    {
     "name": "stdout",
     "output_type": "stream",
     "text": [
      "[1. 1. 1. 1.]\n",
      "[[1 1 1]\n",
      " [1 1 1]\n",
      " [1 1 1]\n",
      " [1 1 1]]\n"
     ]
    }
   ],
   "source": [
    "o=np.ones(4)\n",
    "print(o)\n",
    "o2=np.ones((4,3),dtype=int)\n",
    "print(o2)"
   ]
  },
  {
   "cell_type": "code",
   "execution_count": 29,
   "id": "021e962a",
   "metadata": {
    "collapsed": true
   },
   "outputs": [
    {
     "name": "stdout",
     "output_type": "stream",
     "text": [
      "[0. 0. 0. 0. 0.]\n"
     ]
    },
    {
     "data": {
      "text/plain": [
       "array([[0, 0, 0, 0],\n",
       "       [0, 0, 0, 0],\n",
       "       [0, 0, 0, 0],\n",
       "       [0, 0, 0, 0]])"
      ]
     },
     "execution_count": 29,
     "metadata": {},
     "output_type": "execute_result"
    }
   ],
   "source": [
    "z=np.zeros(5)\n",
    "print(z)\n",
    "z2=np.zeros((4,4),dtype=int)\n",
    "z2"
   ]
  },
  {
   "cell_type": "code",
   "execution_count": 32,
   "id": "07fee50c",
   "metadata": {
    "collapsed": true
   },
   "outputs": [
    {
     "name": "stdout",
     "output_type": "stream",
     "text": [
      "[9 9 9 9]\n",
      "[[8 8 8 8 8]\n",
      " [8 8 8 8 8]\n",
      " [8 8 8 8 8]\n",
      " [8 8 8 8 8]]\n"
     ]
    },
    {
     "data": {
      "text/plain": [
       "array([[[2, 2, 2, 2, 2, 2, 2, 2],\n",
       "        [2, 2, 2, 2, 2, 2, 2, 2],\n",
       "        [2, 2, 2, 2, 2, 2, 2, 2],\n",
       "        [2, 2, 2, 2, 2, 2, 2, 2],\n",
       "        [2, 2, 2, 2, 2, 2, 2, 2]],\n",
       "\n",
       "       [[2, 2, 2, 2, 2, 2, 2, 2],\n",
       "        [2, 2, 2, 2, 2, 2, 2, 2],\n",
       "        [2, 2, 2, 2, 2, 2, 2, 2],\n",
       "        [2, 2, 2, 2, 2, 2, 2, 2],\n",
       "        [2, 2, 2, 2, 2, 2, 2, 2]],\n",
       "\n",
       "       [[2, 2, 2, 2, 2, 2, 2, 2],\n",
       "        [2, 2, 2, 2, 2, 2, 2, 2],\n",
       "        [2, 2, 2, 2, 2, 2, 2, 2],\n",
       "        [2, 2, 2, 2, 2, 2, 2, 2],\n",
       "        [2, 2, 2, 2, 2, 2, 2, 2]],\n",
       "\n",
       "       [[2, 2, 2, 2, 2, 2, 2, 2],\n",
       "        [2, 2, 2, 2, 2, 2, 2, 2],\n",
       "        [2, 2, 2, 2, 2, 2, 2, 2],\n",
       "        [2, 2, 2, 2, 2, 2, 2, 2],\n",
       "        [2, 2, 2, 2, 2, 2, 2, 2]]])"
      ]
     },
     "execution_count": 32,
     "metadata": {},
     "output_type": "execute_result"
    }
   ],
   "source": [
    "# full and fill\n",
    "f=np.full(4,9) # 1d array filled with 9\n",
    "print(f)\n",
    "f2=np.full((4,5),8) # 2d array\n",
    "print(f2)\n",
    "f3=np.full((4,5,8),2) # 3d array:n,r,c,val\n",
    "f3"
   ]
  },
  {
   "cell_type": "code",
   "execution_count": 33,
   "id": "5ae4ec22",
   "metadata": {
    "collapsed": true
   },
   "outputs": [
    {
     "data": {
      "text/plain": [
       "array([[1., 0., 0., 0.],\n",
       "       [0., 1., 0., 0.],\n",
       "       [0., 0., 1., 0.],\n",
       "       [0., 0., 0., 1.]])"
      ]
     },
     "execution_count": 33,
     "metadata": {},
     "output_type": "execute_result"
    }
   ],
   "source": [
    "#identity and eye--> diag--1 and rest is 0\n",
    "np.identity(4)"
   ]
  },
  {
   "cell_type": "code",
   "execution_count": 34,
   "id": "e2495004",
   "metadata": {
    "collapsed": true
   },
   "outputs": [
    {
     "data": {
      "text/plain": [
       "array([[1., 0., 0., 0.],\n",
       "       [0., 1., 0., 0.],\n",
       "       [0., 0., 1., 0.],\n",
       "       [0., 0., 0., 1.]])"
      ]
     },
     "execution_count": 34,
     "metadata": {},
     "output_type": "execute_result"
    }
   ],
   "source": [
    "np.eye(4)"
   ]
  },
  {
   "cell_type": "code",
   "execution_count": 36,
   "id": "881f2667",
   "metadata": {
    "collapsed": true
   },
   "outputs": [
    {
     "data": {
      "text/plain": [
       "array([[4, 0, 0, 0],\n",
       "       [0, 5, 0, 0],\n",
       "       [0, 0, 6, 0],\n",
       "       [0, 0, 0, 7]])"
      ]
     },
     "execution_count": 36,
     "metadata": {},
     "output_type": "execute_result"
    }
   ],
   "source": [
    "# np.diag() creates the diagnal matrix/array\n",
    "np.diag([4,5,6,7])"
   ]
  },
  {
   "cell_type": "code",
   "execution_count": 41,
   "id": "ee6f69f4",
   "metadata": {
    "collapsed": true
   },
   "outputs": [
    {
     "name": "stdout",
     "output_type": "stream",
     "text": [
      "[[ 0  1  2  3  4]\n",
      " [ 5  6  7  8  9]\n",
      " [10 11 12 13 14]\n",
      " [15 16 17 18 19]\n",
      " [20 21 22 23 24]]\n"
     ]
    },
    {
     "data": {
      "text/plain": [
       "array([ 0,  6, 12, 18, 24])"
      ]
     },
     "execution_count": 41,
     "metadata": {},
     "output_type": "execute_result"
    }
   ],
   "source": [
    "# it can get diagnal values of the existed array\n",
    "arn=np.arange(25).reshape(5,5)\n",
    "print(arn)\n",
    "np.diag(arn)"
   ]
  },
  {
   "cell_type": "code",
   "execution_count": 42,
   "id": "0d4c4a28",
   "metadata": {
    "collapsed": true
   },
   "outputs": [
    {
     "data": {
      "text/plain": [
       "array([4.        , 4.08163265, 4.16326531, 4.24489796, 4.32653061,\n",
       "       4.40816327, 4.48979592, 4.57142857, 4.65306122, 4.73469388,\n",
       "       4.81632653, 4.89795918, 4.97959184, 5.06122449, 5.14285714,\n",
       "       5.2244898 , 5.30612245, 5.3877551 , 5.46938776, 5.55102041,\n",
       "       5.63265306, 5.71428571, 5.79591837, 5.87755102, 5.95918367,\n",
       "       6.04081633, 6.12244898, 6.20408163, 6.28571429, 6.36734694,\n",
       "       6.44897959, 6.53061224, 6.6122449 , 6.69387755, 6.7755102 ,\n",
       "       6.85714286, 6.93877551, 7.02040816, 7.10204082, 7.18367347,\n",
       "       7.26530612, 7.34693878, 7.42857143, 7.51020408, 7.59183673,\n",
       "       7.67346939, 7.75510204, 7.83673469, 7.91836735, 8.        ])"
      ]
     },
     "execution_count": 42,
     "metadata": {},
     "output_type": "execute_result"
    }
   ],
   "source": [
    "# linspace-->linear space --> equally separate the given range\n",
    "# distribution of data points  in the given interval\n",
    "np.linspace(4,8) # 4,5,6,7,8-->5-->50 partitions by default\n"
   ]
  },
  {
   "cell_type": "code",
   "execution_count": 43,
   "id": "c1aa23f6",
   "metadata": {},
   "outputs": [
    {
     "data": {
      "text/plain": [
       "0.1"
      ]
     },
     "execution_count": 43,
     "metadata": {},
     "output_type": "execute_result"
    }
   ],
   "source": [
    "5/50"
   ]
  },
  {
   "cell_type": "code",
   "execution_count": 46,
   "id": "b3e0aac2",
   "metadata": {
    "collapsed": true
   },
   "outputs": [
    {
     "data": {
      "text/plain": [
       "array([[4. , 4.5, 5. ],\n",
       "       [5.5, 6. , 6.5],\n",
       "       [7. , 7.5, 8. ]])"
      ]
     },
     "execution_count": 46,
     "metadata": {},
     "output_type": "execute_result"
    }
   ],
   "source": [
    "np.linspace(4,8,9).reshape(3,3)"
   ]
  },
  {
   "cell_type": "markdown",
   "id": "6d1b6417",
   "metadata": {},
   "source": [
    "#### random()\n",
    "- random is the sub module of numpy used to generate random values in the given interval\n",
    "- np.random.random()\n",
    "- np.random.rand()\n",
    "- np.random.randn()\n",
    "- np.random.randint()\n",
    "- np.random.randint(,)\n",
    "- np.random.randint(,,)"
   ]
  },
  {
   "cell_type": "code",
   "execution_count": 48,
   "id": "198c68be",
   "metadata": {
    "collapsed": true
   },
   "outputs": [
    {
     "data": {
      "text/plain": [
       "array([[0.65014965, 0.18116008, 0.06668208],\n",
       "       [0.43759196, 0.26624542, 0.89798011],\n",
       "       [0.61301443, 0.31309819, 0.56213532]])"
      ]
     },
     "execution_count": 48,
     "metadata": {},
     "output_type": "execute_result"
    }
   ],
   "source": [
    "np.random.random((3,3)) # random distribution/float values b/w 0 & 1"
   ]
  },
  {
   "cell_type": "code",
   "execution_count": 49,
   "id": "91386d2f",
   "metadata": {
    "collapsed": true
   },
   "outputs": [
    {
     "data": {
      "text/plain": [
       "array([[0.77004153, 0.70085687, 0.21373385],\n",
       "       [0.82862354, 0.53907059, 0.90880659],\n",
       "       [0.90449242, 0.19691574, 0.61750197]])"
      ]
     },
     "execution_count": 49,
     "metadata": {},
     "output_type": "execute_result"
    }
   ],
   "source": [
    "np.random.rand(3,3)"
   ]
  },
  {
   "cell_type": "code",
   "execution_count": 51,
   "id": "b2924506",
   "metadata": {},
   "outputs": [
    {
     "data": {
      "text/plain": [
       "array([[ 0.91422153,  0.02500262,  0.28058976],\n",
       "       [-0.88200011, -1.38506183, -1.13303373],\n",
       "       [-0.25966637,  0.83378891, -1.34951337]])"
      ]
     },
     "execution_count": 51,
     "metadata": {},
     "output_type": "execute_result"
    }
   ],
   "source": [
    "np.random.randn(3,3)"
   ]
  },
  {
   "cell_type": "code",
   "execution_count": 61,
   "id": "5cf28332",
   "metadata": {
    "collapsed": true
   },
   "outputs": [
    {
     "name": "stdout",
     "output_type": "stream",
     "text": [
      "8323\n",
      "163\n",
      "[[[16 14 17 16 19]\n",
      "  [16 13 16 19 15]\n",
      "  [11 14 18 11 12]\n",
      "  ...\n",
      "  [19 17 11 18 10]\n",
      "  [14 10 10 19 11]\n",
      "  [18 15 14 12 10]]\n",
      "\n",
      " [[16 15 10 12 18]\n",
      "  [17 12 12 18 17]\n",
      "  [12 13 18 18 11]\n",
      "  ...\n",
      "  [18 16 13 16 16]\n",
      "  [10 19 10 11 12]\n",
      "  [19 12 17 16 18]]\n",
      "\n",
      " [[12 17 12 14 13]\n",
      "  [12 11 18 12 16]\n",
      "  [12 12 19 17 10]\n",
      "  ...\n",
      "  [12 13 13 18 16]\n",
      "  [11 12 16 18 12]\n",
      "  [10 14 14 10 17]]\n",
      "\n",
      " [[15 15 19 15 18]\n",
      "  [18 10 12 16 15]\n",
      "  [13 16 19 18 15]\n",
      "  ...\n",
      "  [18 18 18 17 16]\n",
      "  [14 19 10 16 11]\n",
      "  [15 18 17 17 13]]\n",
      "\n",
      " [[12 13 15 17 11]\n",
      "  [14 17 19 14 13]\n",
      "  [10 13 15 15 11]\n",
      "  ...\n",
      "  [19 15 14 10 17]\n",
      "  [16 19 19 17 11]\n",
      "  [19 13 13 12 18]]]\n"
     ]
    }
   ],
   "source": [
    "print(np.random.randint(10000))\n",
    "print(np.random.randint(100,200))\n",
    "print(np.random.randint(10,20,2000).reshape(5,80,5))"
   ]
  },
  {
   "cell_type": "code",
   "execution_count": 62,
   "id": "c8a4d06b",
   "metadata": {
    "collapsed": true
   },
   "outputs": [
    {
     "ename": "SyntaxError",
     "evalue": "invalid syntax (982341261.py, line 1)",
     "output_type": "error",
     "traceback": [
      "\u001b[1;36m  File \u001b[1;32m\"C:\\Users\\ruthu\\AppData\\Local\\Temp\\ipykernel_29640\\982341261.py\"\u001b[1;36m, line \u001b[1;32m1\u001b[0m\n\u001b[1;33m    2000->5*400->5*8*5\u001b[0m\n\u001b[1;37m        ^\u001b[0m\n\u001b[1;31mSyntaxError\u001b[0m\u001b[1;31m:\u001b[0m invalid syntax\n"
     ]
    }
   ],
   "source": [
    "2000->5*400->5*8*5"
   ]
  },
  {
   "cell_type": "markdown",
   "id": "50861d93",
   "metadata": {},
   "source": [
    "#### Array Accessing and Slicing\n",
    "- we can access the array elements using index\n",
    "- index is of 2types\n",
    "    1. Formal indexing\n",
    "        - 2ways of representation\n",
    "            1. forward/+ve indexing\n",
    "                - travels from left to right\n",
    "                - starting from 0 to len(iterable)-1\n",
    "            2. backward/-ve indexing\n",
    "                - travels from right to left\n",
    "                - starts from -1 to -infinite\n",
    "    2. Fancy indexing\n",
    "        - condition as the index/integer"
   ]
  },
  {
   "cell_type": "code",
   "execution_count": 63,
   "id": "fe8baacd",
   "metadata": {
    "collapsed": true
   },
   "outputs": [
    {
     "name": "stdout",
     "output_type": "stream",
     "text": [
      "[[ 0  1  2  3  4]\n",
      " [ 5  6  7  8  9]\n",
      " [10 11 12 13 14]\n",
      " [15 16 17 18 19]\n",
      " [20 21 22 23 24]]\n",
      "[[57 52 56 64 74]\n",
      " [45 65 70 73 45]\n",
      " [67 74 78 60 50]\n",
      " [49 50 55 60 61]\n",
      " [50 74 71 77 60]]\n"
     ]
    }
   ],
   "source": [
    "# create 2 equal size arrays\n",
    "fml=np.arange(25).reshape(5,5)\n",
    "print(fml)\n",
    "ran=np.random.randint(45,80,25).reshape(5,5)\n",
    "print(ran)"
   ]
  },
  {
   "cell_type": "code",
   "execution_count": 64,
   "id": "4be859d5",
   "metadata": {},
   "outputs": [
    {
     "data": {
      "text/plain": [
       "array([0, 1, 2, 3, 4])"
      ]
     },
     "execution_count": 64,
     "metadata": {},
     "output_type": "execute_result"
    }
   ],
   "source": [
    "fml[0] # first row of elements"
   ]
  },
  {
   "cell_type": "code",
   "execution_count": 65,
   "id": "c20b5a56",
   "metadata": {},
   "outputs": [
    {
     "data": {
      "text/plain": [
       "array([15, 16, 17, 18, 19])"
      ]
     },
     "execution_count": 65,
     "metadata": {},
     "output_type": "execute_result"
    }
   ],
   "source": [
    "fml[3] # 4th row"
   ]
  },
  {
   "cell_type": "code",
   "execution_count": 66,
   "id": "496fc219",
   "metadata": {},
   "outputs": [
    {
     "data": {
      "text/plain": [
       "array([[10, 11, 12, 13, 14],\n",
       "       [15, 16, 17, 18, 19],\n",
       "       [20, 21, 22, 23, 24]])"
      ]
     },
     "execution_count": 66,
     "metadata": {},
     "output_type": "execute_result"
    }
   ],
   "source": [
    "fml[2:]"
   ]
  },
  {
   "cell_type": "code",
   "execution_count": 67,
   "id": "ef175f65",
   "metadata": {},
   "outputs": [
    {
     "data": {
      "text/plain": [
       "array([[0, 1, 2, 3, 4],\n",
       "       [5, 6, 7, 8, 9]])"
      ]
     },
     "execution_count": 67,
     "metadata": {},
     "output_type": "execute_result"
    }
   ],
   "source": [
    "fml[:2]"
   ]
  },
  {
   "cell_type": "code",
   "execution_count": 68,
   "id": "c0d0b270",
   "metadata": {},
   "outputs": [
    {
     "data": {
      "text/plain": [
       "14"
      ]
     },
     "execution_count": 68,
     "metadata": {},
     "output_type": "execute_result"
    }
   ],
   "source": [
    "#2d indexing-->[r][c]\n",
    "fml[2][4]"
   ]
  },
  {
   "cell_type": "code",
   "execution_count": 69,
   "id": "60f259d1",
   "metadata": {},
   "outputs": [
    {
     "data": {
      "text/plain": [
       "array([[ 0,  1,  2,  3,  4],\n",
       "       [ 5,  6,  7,  8,  9],\n",
       "       [10, 11, 12, 13, 14],\n",
       "       [15, 16, 17, 18, 19],\n",
       "       [20, 21, 22, 23, 24]])"
      ]
     },
     "execution_count": 69,
     "metadata": {},
     "output_type": "execute_result"
    }
   ],
   "source": [
    "fml"
   ]
  },
  {
   "cell_type": "code",
   "execution_count": 70,
   "id": "5fdfa428",
   "metadata": {},
   "outputs": [
    {
     "data": {
      "text/plain": [
       "2"
      ]
     },
     "execution_count": 70,
     "metadata": {},
     "output_type": "execute_result"
    }
   ],
   "source": [
    "fml[0][2]"
   ]
  },
  {
   "cell_type": "code",
   "execution_count": 72,
   "id": "18d1f754",
   "metadata": {
    "collapsed": true
   },
   "outputs": [
    {
     "data": {
      "text/plain": [
       "array([[ 0,  1],\n",
       "       [ 5,  6],\n",
       "       [10, 11],\n",
       "       [15, 16],\n",
       "       [20, 21]])"
      ]
     },
     "execution_count": 72,
     "metadata": {},
     "output_type": "execute_result"
    }
   ],
   "source": [
    "# slicing both rows&cols\n",
    "fml[:,:2]"
   ]
  },
  {
   "cell_type": "code",
   "execution_count": 73,
   "id": "c44acee9",
   "metadata": {},
   "outputs": [
    {
     "data": {
      "text/plain": [
       "array([[ 0,  1,  2,  3,  4],\n",
       "       [10, 11, 12, 13, 14],\n",
       "       [20, 21, 22, 23, 24]])"
      ]
     },
     "execution_count": 73,
     "metadata": {},
     "output_type": "execute_result"
    }
   ],
   "source": [
    "# alternate cols in alternate row\n",
    "fml[::2]"
   ]
  },
  {
   "cell_type": "code",
   "execution_count": 74,
   "id": "2222c3eb",
   "metadata": {
    "collapsed": true
   },
   "outputs": [
    {
     "data": {
      "text/plain": [
       "array([[ 0,  2,  4],\n",
       "       [10, 12, 14],\n",
       "       [20, 22, 24]])"
      ]
     },
     "execution_count": 74,
     "metadata": {},
     "output_type": "execute_result"
    }
   ],
   "source": [
    "fml[::2,::2] # 3d silicing"
   ]
  },
  {
   "cell_type": "code",
   "execution_count": 75,
   "id": "16d8d3bc",
   "metadata": {},
   "outputs": [
    {
     "data": {
      "text/plain": [
       "array([[57, 52, 56, 64, 74],\n",
       "       [45, 65, 70, 73, 45],\n",
       "       [67, 74, 78, 60, 50],\n",
       "       [49, 50, 55, 60, 61],\n",
       "       [50, 74, 71, 77, 60]])"
      ]
     },
     "execution_count": 75,
     "metadata": {},
     "output_type": "execute_result"
    }
   ],
   "source": [
    "# fancy indexing-->condition\n",
    "ran"
   ]
  },
  {
   "cell_type": "code",
   "execution_count": 76,
   "id": "291ce450",
   "metadata": {
    "collapsed": true
   },
   "outputs": [
    {
     "data": {
      "text/plain": [
       "array([[False, False, False, False,  True],\n",
       "       [False, False,  True,  True, False],\n",
       "       [ True,  True,  True, False, False],\n",
       "       [False, False, False, False, False],\n",
       "       [False,  True,  True,  True, False]])"
      ]
     },
     "execution_count": 76,
     "metadata": {},
     "output_type": "execute_result"
    }
   ],
   "source": [
    "ran>65 # resulting in boolean array"
   ]
  },
  {
   "cell_type": "code",
   "execution_count": 77,
   "id": "3fe1c218",
   "metadata": {
    "collapsed": true
   },
   "outputs": [
    {
     "data": {
      "text/plain": [
       "array([74, 70, 73, 67, 74, 78, 74, 71, 77])"
      ]
     },
     "execution_count": 77,
     "metadata": {},
     "output_type": "execute_result"
    }
   ],
   "source": [
    "ran[ran>65]"
   ]
  },
  {
   "cell_type": "code",
   "execution_count": 78,
   "id": "ccace566",
   "metadata": {
    "collapsed": true
   },
   "outputs": [
    {
     "data": {
      "text/plain": [
       "array([[74, 70, 73],\n",
       "       [67, 74, 78],\n",
       "       [74, 71, 77]])"
      ]
     },
     "execution_count": 78,
     "metadata": {},
     "output_type": "execute_result"
    }
   ],
   "source": [
    "ran[ran>65].reshape(3,3)"
   ]
  },
  {
   "cell_type": "code",
   "execution_count": 82,
   "id": "f6521eba",
   "metadata": {
    "collapsed": true
   },
   "outputs": [
    {
     "data": {
      "text/plain": [
       "9"
      ]
     },
     "execution_count": 82,
     "metadata": {},
     "output_type": "execute_result"
    }
   ],
   "source": [
    "len(ran[ran>65])"
   ]
  },
  {
   "cell_type": "markdown",
   "id": "f3b68711",
   "metadata": {},
   "source": [
    "#### scientific computation \n",
    "- mean()\n",
    "- std()\n",
    "- dot()\n",
    "- min()\n",
    "- max()\n",
    "- sum()\n",
    "- log()\n",
    "- exp()"
   ]
  },
  {
   "cell_type": "code",
   "execution_count": 88,
   "id": "3e049d21",
   "metadata": {},
   "outputs": [
    {
     "data": {
      "text/plain": [
       "array([[57, 45, 67, 49, 50],\n",
       "       [52, 65, 74, 50, 74],\n",
       "       [56, 70, 78, 55, 71],\n",
       "       [64, 73, 60, 60, 77],\n",
       "       [74, 45, 50, 61, 60]])"
      ]
     },
     "execution_count": 88,
     "metadata": {},
     "output_type": "execute_result"
    }
   ],
   "source": [
    "ran.T # transpose"
   ]
  },
  {
   "cell_type": "code",
   "execution_count": 85,
   "id": "e1c203b7",
   "metadata": {},
   "outputs": [
    {
     "data": {
      "text/plain": [
       "array([[57, 45, 67, 49, 50],\n",
       "       [52, 65, 74, 50, 74],\n",
       "       [56, 70, 78, 55, 71],\n",
       "       [64, 73, 60, 60, 77],\n",
       "       [74, 45, 50, 61, 60]])"
      ]
     },
     "execution_count": 85,
     "metadata": {},
     "output_type": "execute_result"
    }
   ],
   "source": [
    "ran.transpose() # rows will be arranged as cols"
   ]
  },
  {
   "cell_type": "code",
   "execution_count": 96,
   "id": "9cd1e0f3",
   "metadata": {
    "collapsed": true
   },
   "outputs": [
    {
     "name": "stdout",
     "output_type": "stream",
     "text": [
      "45\n",
      "45\n",
      "78\n",
      "78\n",
      "1537\n",
      "1537\n",
      "61.48\n",
      "61.48\n",
      "[[3260 3563 3866 4169 4472]\n",
      " [3020 3318 3616 3914 4212]\n",
      " [3050 3379 3708 4037 4366]\n",
      " [2920 3195 3470 3745 4020]\n",
      " [3435 3767 4099 4431 4763]]\n",
      "[[3260 3563 3866 4169 4472]\n",
      " [3020 3318 3616 3914 4212]\n",
      " [3050 3379 3708 4037 4366]\n",
      " [2920 3195 3470 3745 4020]\n",
      " [3435 3767 4099 4431 4763]]\n",
      "10.222015456846073\n",
      "10.222015456846073\n",
      "[[5.68572000e+24 3.83100800e+22 2.09165950e+24 6.23514908e+27\n",
      "  1.37338298e+32]\n",
      " [3.49342711e+19 1.69488924e+28 2.51543867e+30 5.05239363e+31\n",
      "  3.49342711e+19]\n",
      " [1.25236317e+29 1.37338298e+32 7.49841700e+33 1.14200739e+26\n",
      "  5.18470553e+21]\n",
      " [1.90734657e+21 5.18470553e+21 7.69478527e+23 1.14200739e+26\n",
      "  3.10429794e+26]\n",
      " [5.18470553e+21 1.37338298e+32 6.83767123e+30 2.75851345e+33\n",
      "  1.14200739e+26]]\n",
      "[[4.04305127 3.95124372 4.02535169 4.15888308 4.30406509]\n",
      " [3.80666249 4.17438727 4.24849524 4.29045944 3.80666249]\n",
      " [4.20469262 4.30406509 4.35670883 4.09434456 3.91202301]\n",
      " [3.8918203  3.91202301 4.00733319 4.09434456 4.11087386]\n",
      " [3.91202301 4.30406509 4.26267988 4.34380542 4.09434456]]\n"
     ]
    }
   ],
   "source": [
    "# min,max,sum,dot,mean,std,log,exp of the arrays\n",
    "print(ran.min())\n",
    "print(np.min(ran))\n",
    "print(ran.max())\n",
    "print(np.max(ran))\n",
    "print(ran.sum())\n",
    "print(np.sum(ran))\n",
    "print(ran.mean())\n",
    "print(np.mean(ran))\n",
    "print(ran.dot(fml))\n",
    "print(np.dot(ran,fml))\n",
    "print(ran.std())\n",
    "print(np.std(ran))\n",
    "print(np.exp(ran))\n",
    "print(np.log(ran))"
   ]
  },
  {
   "cell_type": "markdown",
   "id": "58d6da9d",
   "metadata": {},
   "source": [
    "#### pandas module\n",
    "- Pandas stands for panelData \n",
    "- if our data is in the form of table/panel \n",
    "- it has 2 data structures\n",
    "    1. Series\n",
    "        - the data is arranged sequentially\n",
    "        - pandas.Series(data)\n",
    "    2. DataFrame\n",
    "        - the data is arranged in the table\n",
    "        - pandas.DataFrame(data)"
   ]
  },
  {
   "cell_type": "code",
   "execution_count": 1,
   "id": "f1215b92",
   "metadata": {},
   "outputs": [],
   "source": [
    "import pandas as pd"
   ]
  },
  {
   "cell_type": "code",
   "execution_count": 2,
   "id": "3f6d2edf",
   "metadata": {
    "collapsed": true
   },
   "outputs": [
    {
     "name": "stdout",
     "output_type": "stream",
     "text": [
      "['BooleanDtype', 'Categorical', 'CategoricalDtype', 'CategoricalIndex', 'DataFrame', 'DateOffset', 'DatetimeIndex', 'DatetimeTZDtype', 'ExcelFile', 'ExcelWriter', 'Flags', 'Float32Dtype', 'Float64Dtype', 'Float64Index', 'Grouper', 'HDFStore', 'Index', 'IndexSlice', 'Int16Dtype', 'Int32Dtype', 'Int64Dtype', 'Int64Index', 'Int8Dtype', 'Interval', 'IntervalDtype', 'IntervalIndex', 'MultiIndex', 'NA', 'NaT', 'NamedAgg', 'Period', 'PeriodDtype', 'PeriodIndex', 'RangeIndex', 'Series', 'SparseDtype', 'StringDtype', 'Timedelta', 'TimedeltaIndex', 'Timestamp', 'UInt16Dtype', 'UInt32Dtype', 'UInt64Dtype', 'UInt64Index', 'UInt8Dtype', '__all__', '__builtins__', '__cached__', '__deprecated_num_index_names', '__dir__', '__doc__', '__docformat__', '__file__', '__getattr__', '__git_version__', '__loader__', '__name__', '__package__', '__path__', '__spec__', '__version__', '_config', '_is_numpy_dev', '_libs', '_testing', '_typing', '_version', 'api', 'array', 'arrays', 'bdate_range', 'compat', 'concat', 'core', 'crosstab', 'cut', 'date_range', 'describe_option', 'errors', 'eval', 'factorize', 'get_dummies', 'get_option', 'infer_freq', 'interval_range', 'io', 'isna', 'isnull', 'json_normalize', 'lreshape', 'melt', 'merge', 'merge_asof', 'merge_ordered', 'notna', 'notnull', 'offsets', 'option_context', 'options', 'pandas', 'period_range', 'pivot', 'pivot_table', 'plotting', 'qcut', 'read_clipboard', 'read_csv', 'read_excel', 'read_feather', 'read_fwf', 'read_gbq', 'read_hdf', 'read_html', 'read_json', 'read_orc', 'read_parquet', 'read_pickle', 'read_sas', 'read_spss', 'read_sql', 'read_sql_query', 'read_sql_table', 'read_stata', 'read_table', 'read_xml', 'reset_option', 'set_eng_float_format', 'set_option', 'show_versions', 'test', 'testing', 'timedelta_range', 'to_datetime', 'to_numeric', 'to_pickle', 'to_timedelta', 'tseries', 'unique', 'util', 'value_counts', 'wide_to_long']\n"
     ]
    }
   ],
   "source": [
    "print(dir(pd))"
   ]
  },
  {
   "cell_type": "code",
   "execution_count": 3,
   "id": "f8c7442b",
   "metadata": {
    "collapsed": true
   },
   "outputs": [
    {
     "data": {
      "text/plain": [
       "0     4\n",
       "1     5\n",
       "2     6\n",
       "3    10\n",
       "4     9\n",
       "dtype: int64"
      ]
     },
     "execution_count": 3,
     "metadata": {},
     "output_type": "execute_result"
    }
   ],
   "source": [
    "# creating the series with tuple/list/set/dict\n",
    "pd.Series((4,5,6,10,9))"
   ]
  },
  {
   "cell_type": "code",
   "execution_count": 4,
   "id": "83d91c5a",
   "metadata": {
    "collapsed": true
   },
   "outputs": [
    {
     "data": {
      "text/plain": [
       "0     a\n",
       "1     9\n",
       "2    45\n",
       "3    67\n",
       "dtype: object"
      ]
     },
     "execution_count": 4,
     "metadata": {},
     "output_type": "execute_result"
    }
   ],
   "source": [
    "pd.Series(['a',9,45,67])"
   ]
  },
  {
   "cell_type": "code",
   "execution_count": 5,
   "id": "461516ed",
   "metadata": {
    "collapsed": true
   },
   "outputs": [
    {
     "data": {
      "text/plain": [
       "st      [1, 2, 3]\n",
       "roll    (4, 5, 6)\n",
       "dtype: object"
      ]
     },
     "execution_count": 5,
     "metadata": {},
     "output_type": "execute_result"
    }
   ],
   "source": [
    "pd.Series({'st':[1,2,3],'roll':(4,5,6)})"
   ]
  },
  {
   "cell_type": "code",
   "execution_count": 8,
   "id": "5f4ec866",
   "metadata": {
    "collapsed": true
   },
   "outputs": [
    {
     "data": {
      "text/plain": [
       "0     40\n",
       "1     41\n",
       "2     42\n",
       "3     43\n",
       "4     44\n",
       "5     45\n",
       "6     46\n",
       "7     47\n",
       "8     48\n",
       "9     49\n",
       "10    50\n",
       "dtype: int32"
      ]
     },
     "execution_count": 8,
     "metadata": {},
     "output_type": "execute_result"
    }
   ],
   "source": [
    "import numpy as np\n",
    "pd.Series(np.arange(40,51))"
   ]
  },
  {
   "cell_type": "code",
   "execution_count": 9,
   "id": "79565d7b",
   "metadata": {
    "collapsed": true
   },
   "outputs": [
    {
     "data": {
      "text/plain": [
       "DatetimeIndex(['2025-03-10', '2025-03-11', '2025-03-12', '2025-03-13',\n",
       "               '2025-03-14', '2025-03-15', '2025-03-16', '2025-03-17',\n",
       "               '2025-03-18', '2025-03-19', '2025-03-20', '2025-03-21',\n",
       "               '2025-03-22', '2025-03-23', '2025-03-24', '2025-03-25'],\n",
       "              dtype='datetime64[ns]', freq='D')"
      ]
     },
     "execution_count": 9,
     "metadata": {},
     "output_type": "execute_result"
    }
   ],
   "source": [
    "# date_range\n",
    "pd.date_range(\"2025-03-10\",\"2025-03-25\")"
   ]
  },
  {
   "cell_type": "code",
   "execution_count": 12,
   "id": "714c2a70",
   "metadata": {
    "collapsed": true
   },
   "outputs": [
    {
     "data": {
      "text/plain": [
       "2025-03-10    41\n",
       "2025-03-11    41\n",
       "2025-03-12    36\n",
       "2025-03-13    37\n",
       "2025-03-14    40\n",
       "2025-03-15    38\n",
       "2025-03-16    36\n",
       "2025-03-17    39\n",
       "2025-03-18    42\n",
       "2025-03-19    40\n",
       "dtype: int32"
      ]
     },
     "execution_count": 12,
     "metadata": {},
     "output_type": "execute_result"
    }
   ],
   "source": [
    "# user index\n",
    "temp=np.random.randint(35,43,10)\n",
    "pd.Series(temp,index=[pd.date_range(\"2025-03-10\",\"2025-03-19\")])"
   ]
  },
  {
   "cell_type": "code",
   "execution_count": 16,
   "id": "a5d5804f",
   "metadata": {
    "collapsed": true
   },
   "outputs": [
    {
     "data": {
      "text/html": [
       "<div>\n",
       "<style scoped>\n",
       "    .dataframe tbody tr th:only-of-type {\n",
       "        vertical-align: middle;\n",
       "    }\n",
       "\n",
       "    .dataframe tbody tr th {\n",
       "        vertical-align: top;\n",
       "    }\n",
       "\n",
       "    .dataframe thead th {\n",
       "        text-align: right;\n",
       "    }\n",
       "</style>\n",
       "<table border=\"1\" class=\"dataframe\">\n",
       "  <thead>\n",
       "    <tr style=\"text-align: right;\">\n",
       "      <th></th>\n",
       "      <th>date</th>\n",
       "      <th>temp</th>\n",
       "    </tr>\n",
       "  </thead>\n",
       "  <tbody>\n",
       "    <tr>\n",
       "      <th>0</th>\n",
       "      <td>2025-03-10</td>\n",
       "      <td>35</td>\n",
       "    </tr>\n",
       "    <tr>\n",
       "      <th>1</th>\n",
       "      <td>2025-03-11</td>\n",
       "      <td>39</td>\n",
       "    </tr>\n",
       "    <tr>\n",
       "      <th>2</th>\n",
       "      <td>2025-03-12</td>\n",
       "      <td>35</td>\n",
       "    </tr>\n",
       "    <tr>\n",
       "      <th>3</th>\n",
       "      <td>2025-03-13</td>\n",
       "      <td>39</td>\n",
       "    </tr>\n",
       "    <tr>\n",
       "      <th>4</th>\n",
       "      <td>2025-03-14</td>\n",
       "      <td>37</td>\n",
       "    </tr>\n",
       "    <tr>\n",
       "      <th>5</th>\n",
       "      <td>2025-03-15</td>\n",
       "      <td>39</td>\n",
       "    </tr>\n",
       "    <tr>\n",
       "      <th>6</th>\n",
       "      <td>2025-03-16</td>\n",
       "      <td>36</td>\n",
       "    </tr>\n",
       "    <tr>\n",
       "      <th>7</th>\n",
       "      <td>2025-03-17</td>\n",
       "      <td>40</td>\n",
       "    </tr>\n",
       "    <tr>\n",
       "      <th>8</th>\n",
       "      <td>2025-03-18</td>\n",
       "      <td>40</td>\n",
       "    </tr>\n",
       "    <tr>\n",
       "      <th>9</th>\n",
       "      <td>2025-03-19</td>\n",
       "      <td>37</td>\n",
       "    </tr>\n",
       "  </tbody>\n",
       "</table>\n",
       "</div>"
      ],
      "text/plain": [
       "        date  temp\n",
       "0 2025-03-10    35\n",
       "1 2025-03-11    39\n",
       "2 2025-03-12    35\n",
       "3 2025-03-13    39\n",
       "4 2025-03-14    37\n",
       "5 2025-03-15    39\n",
       "6 2025-03-16    36\n",
       "7 2025-03-17    40\n",
       "8 2025-03-18    40\n",
       "9 2025-03-19    37"
      ]
     },
     "execution_count": 16,
     "metadata": {},
     "output_type": "execute_result"
    }
   ],
   "source": [
    "# data frame contains rows and columns\n",
    "# user index: 2columns\n",
    "dic={'date':pd.date_range(\"2025-03-10\",periods=10),\n",
    "    'temp':np.random.randint(35,43,10),}\n",
    "pd.DataFrame(dic)"
   ]
  },
  {
   "cell_type": "code",
   "execution_count": 20,
   "id": "d30bd00a",
   "metadata": {
    "collapsed": true
   },
   "outputs": [
    {
     "data": {
      "text/html": [
       "<div>\n",
       "<style scoped>\n",
       "    .dataframe tbody tr th:only-of-type {\n",
       "        vertical-align: middle;\n",
       "    }\n",
       "\n",
       "    .dataframe tbody tr th {\n",
       "        vertical-align: top;\n",
       "    }\n",
       "\n",
       "    .dataframe thead th {\n",
       "        text-align: right;\n",
       "    }\n",
       "</style>\n",
       "<table border=\"1\" class=\"dataframe\">\n",
       "  <thead>\n",
       "    <tr style=\"text-align: right;\">\n",
       "      <th></th>\n",
       "      <th>0</th>\n",
       "      <th>1</th>\n",
       "      <th>2</th>\n",
       "      <th>3</th>\n",
       "      <th>4</th>\n",
       "      <th>5</th>\n",
       "      <th>6</th>\n",
       "      <th>7</th>\n",
       "      <th>8</th>\n",
       "      <th>9</th>\n",
       "    </tr>\n",
       "  </thead>\n",
       "  <tbody>\n",
       "    <tr>\n",
       "      <th>20</th>\n",
       "      <td>0</td>\n",
       "      <td>1</td>\n",
       "      <td>2</td>\n",
       "      <td>3</td>\n",
       "      <td>4</td>\n",
       "      <td>5</td>\n",
       "      <td>6</td>\n",
       "      <td>7</td>\n",
       "      <td>8</td>\n",
       "      <td>9</td>\n",
       "    </tr>\n",
       "    <tr>\n",
       "      <th>21</th>\n",
       "      <td>0</td>\n",
       "      <td>1</td>\n",
       "      <td>2</td>\n",
       "      <td>3</td>\n",
       "      <td>4</td>\n",
       "      <td>5</td>\n",
       "      <td>6</td>\n",
       "      <td>7</td>\n",
       "      <td>8</td>\n",
       "      <td>9</td>\n",
       "    </tr>\n",
       "    <tr>\n",
       "      <th>22</th>\n",
       "      <td>0</td>\n",
       "      <td>1</td>\n",
       "      <td>2</td>\n",
       "      <td>3</td>\n",
       "      <td>4</td>\n",
       "      <td>5</td>\n",
       "      <td>6</td>\n",
       "      <td>7</td>\n",
       "      <td>8</td>\n",
       "      <td>9</td>\n",
       "    </tr>\n",
       "    <tr>\n",
       "      <th>23</th>\n",
       "      <td>0</td>\n",
       "      <td>1</td>\n",
       "      <td>2</td>\n",
       "      <td>3</td>\n",
       "      <td>4</td>\n",
       "      <td>5</td>\n",
       "      <td>6</td>\n",
       "      <td>7</td>\n",
       "      <td>8</td>\n",
       "      <td>9</td>\n",
       "    </tr>\n",
       "    <tr>\n",
       "      <th>24</th>\n",
       "      <td>0</td>\n",
       "      <td>1</td>\n",
       "      <td>2</td>\n",
       "      <td>3</td>\n",
       "      <td>4</td>\n",
       "      <td>5</td>\n",
       "      <td>6</td>\n",
       "      <td>7</td>\n",
       "      <td>8</td>\n",
       "      <td>9</td>\n",
       "    </tr>\n",
       "    <tr>\n",
       "      <th>25</th>\n",
       "      <td>0</td>\n",
       "      <td>1</td>\n",
       "      <td>2</td>\n",
       "      <td>3</td>\n",
       "      <td>4</td>\n",
       "      <td>5</td>\n",
       "      <td>6</td>\n",
       "      <td>7</td>\n",
       "      <td>8</td>\n",
       "      <td>9</td>\n",
       "    </tr>\n",
       "    <tr>\n",
       "      <th>26</th>\n",
       "      <td>0</td>\n",
       "      <td>1</td>\n",
       "      <td>2</td>\n",
       "      <td>3</td>\n",
       "      <td>4</td>\n",
       "      <td>5</td>\n",
       "      <td>6</td>\n",
       "      <td>7</td>\n",
       "      <td>8</td>\n",
       "      <td>9</td>\n",
       "    </tr>\n",
       "    <tr>\n",
       "      <th>27</th>\n",
       "      <td>0</td>\n",
       "      <td>1</td>\n",
       "      <td>2</td>\n",
       "      <td>3</td>\n",
       "      <td>4</td>\n",
       "      <td>5</td>\n",
       "      <td>6</td>\n",
       "      <td>7</td>\n",
       "      <td>8</td>\n",
       "      <td>9</td>\n",
       "    </tr>\n",
       "    <tr>\n",
       "      <th>28</th>\n",
       "      <td>0</td>\n",
       "      <td>1</td>\n",
       "      <td>2</td>\n",
       "      <td>3</td>\n",
       "      <td>4</td>\n",
       "      <td>5</td>\n",
       "      <td>6</td>\n",
       "      <td>7</td>\n",
       "      <td>8</td>\n",
       "      <td>9</td>\n",
       "    </tr>\n",
       "    <tr>\n",
       "      <th>29</th>\n",
       "      <td>0</td>\n",
       "      <td>1</td>\n",
       "      <td>2</td>\n",
       "      <td>3</td>\n",
       "      <td>4</td>\n",
       "      <td>5</td>\n",
       "      <td>6</td>\n",
       "      <td>7</td>\n",
       "      <td>8</td>\n",
       "      <td>9</td>\n",
       "    </tr>\n",
       "  </tbody>\n",
       "</table>\n",
       "</div>"
      ],
      "text/plain": [
       "    0  1  2  3  4  5  6  7  8  9\n",
       "20  0  1  2  3  4  5  6  7  8  9\n",
       "21  0  1  2  3  4  5  6  7  8  9\n",
       "22  0  1  2  3  4  5  6  7  8  9\n",
       "23  0  1  2  3  4  5  6  7  8  9\n",
       "24  0  1  2  3  4  5  6  7  8  9\n",
       "25  0  1  2  3  4  5  6  7  8  9\n",
       "26  0  1  2  3  4  5  6  7  8  9\n",
       "27  0  1  2  3  4  5  6  7  8  9\n",
       "28  0  1  2  3  4  5  6  7  8  9\n",
       "29  0  1  2  3  4  5  6  7  8  9"
      ]
     },
     "execution_count": 20,
     "metadata": {},
     "output_type": "execute_result"
    }
   ],
   "source": [
    "pd.DataFrame([np.arange(10)],[np.arange(20,30)])"
   ]
  },
  {
   "cell_type": "code",
   "execution_count": 21,
   "id": "91cfa02d",
   "metadata": {
    "collapsed": true
   },
   "outputs": [
    {
     "ename": "SyntaxError",
     "evalue": "invalid syntax (273611300.py, line 3)",
     "output_type": "error",
     "traceback": [
      "\u001b[1;36m  File \u001b[1;32m\"C:\\Users\\ruthu\\AppData\\Local\\Temp\\ipykernel_24884\\273611300.py\"\u001b[1;36m, line \u001b[1;32m3\u001b[0m\n\u001b[1;33m    int  float str\u001b[0m\n\u001b[1;37m         ^\u001b[0m\n\u001b[1;31mSyntaxError\u001b[0m\u001b[1;31m:\u001b[0m invalid syntax\n"
     ]
    }
   ],
   "source": [
    "# creating the dataframe and merging,joining and concatenation\n",
    "# create the followind dataframe\n",
    "int  float str\n",
    "--   ----   ---\n",
    "--   ----   ---\n",
    "--   ----   ---\n",
    "--   ----   ---\n",
    "--   ----   ---"
   ]
  },
  {
   "cell_type": "code",
   "execution_count": 23,
   "id": "046c3c44",
   "metadata": {
    "collapsed": true
   },
   "outputs": [
    {
     "data": {
      "text/html": [
       "<div>\n",
       "<style scoped>\n",
       "    .dataframe tbody tr th:only-of-type {\n",
       "        vertical-align: middle;\n",
       "    }\n",
       "\n",
       "    .dataframe tbody tr th {\n",
       "        vertical-align: top;\n",
       "    }\n",
       "\n",
       "    .dataframe thead th {\n",
       "        text-align: right;\n",
       "    }\n",
       "</style>\n",
       "<table border=\"1\" class=\"dataframe\">\n",
       "  <thead>\n",
       "    <tr style=\"text-align: right;\">\n",
       "      <th></th>\n",
       "      <th>int</th>\n",
       "      <th>float</th>\n",
       "      <th>str</th>\n",
       "    </tr>\n",
       "  </thead>\n",
       "  <tbody>\n",
       "    <tr>\n",
       "      <th>0</th>\n",
       "      <td>9</td>\n",
       "      <td>3.5</td>\n",
       "      <td>a</td>\n",
       "    </tr>\n",
       "    <tr>\n",
       "      <th>1</th>\n",
       "      <td>8</td>\n",
       "      <td>4.9</td>\n",
       "      <td>b</td>\n",
       "    </tr>\n",
       "    <tr>\n",
       "      <th>2</th>\n",
       "      <td>7</td>\n",
       "      <td>5.9</td>\n",
       "      <td>c</td>\n",
       "    </tr>\n",
       "    <tr>\n",
       "      <th>3</th>\n",
       "      <td>6</td>\n",
       "      <td>6.4</td>\n",
       "      <td>d</td>\n",
       "    </tr>\n",
       "    <tr>\n",
       "      <th>4</th>\n",
       "      <td>5</td>\n",
       "      <td>9.3</td>\n",
       "      <td>e</td>\n",
       "    </tr>\n",
       "  </tbody>\n",
       "</table>\n",
       "</div>"
      ],
      "text/plain": [
       "   int  float str\n",
       "0    9    3.5   a\n",
       "1    8    4.9   b\n",
       "2    7    5.9   c\n",
       "3    6    6.4   d\n",
       "4    5    9.3   e"
      ]
     },
     "execution_count": 23,
     "metadata": {},
     "output_type": "execute_result"
    }
   ],
   "source": [
    "df=pd.DataFrame({'int':[9,8,7,6,5],'float':(3.5,4.9,5.9,6.4,9.3),\n",
    "             'str':['a','b','c','d','e']})\n",
    "df"
   ]
  },
  {
   "cell_type": "code",
   "execution_count": 25,
   "id": "88e14ad7",
   "metadata": {
    "collapsed": true
   },
   "outputs": [
    {
     "data": {
      "text/html": [
       "<div>\n",
       "<style scoped>\n",
       "    .dataframe tbody tr th:only-of-type {\n",
       "        vertical-align: middle;\n",
       "    }\n",
       "\n",
       "    .dataframe tbody tr th {\n",
       "        vertical-align: top;\n",
       "    }\n",
       "\n",
       "    .dataframe thead th {\n",
       "        text-align: right;\n",
       "    }\n",
       "</style>\n",
       "<table border=\"1\" class=\"dataframe\">\n",
       "  <thead>\n",
       "    <tr style=\"text-align: right;\">\n",
       "      <th></th>\n",
       "      <th>int</th>\n",
       "      <th>float</th>\n",
       "      <th>str</th>\n",
       "    </tr>\n",
       "  </thead>\n",
       "  <tbody>\n",
       "    <tr>\n",
       "      <th>0</th>\n",
       "      <td>9</td>\n",
       "      <td>3.5</td>\n",
       "      <td>a</td>\n",
       "    </tr>\n",
       "    <tr>\n",
       "      <th>1</th>\n",
       "      <td>8</td>\n",
       "      <td>4.9</td>\n",
       "      <td>b</td>\n",
       "    </tr>\n",
       "    <tr>\n",
       "      <th>2</th>\n",
       "      <td>7</td>\n",
       "      <td>5.9</td>\n",
       "      <td>c</td>\n",
       "    </tr>\n",
       "    <tr>\n",
       "      <th>3</th>\n",
       "      <td>6</td>\n",
       "      <td>6.4</td>\n",
       "      <td>d</td>\n",
       "    </tr>\n",
       "    <tr>\n",
       "      <th>4</th>\n",
       "      <td>5</td>\n",
       "      <td>9.3</td>\n",
       "      <td>e</td>\n",
       "    </tr>\n",
       "  </tbody>\n",
       "</table>\n",
       "</div>"
      ],
      "text/plain": [
       "   int  float str\n",
       "0    9    3.5   a\n",
       "1    8    4.9   b\n",
       "2    7    5.9   c\n",
       "3    6    6.4   d\n",
       "4    5    9.3   e"
      ]
     },
     "execution_count": 25,
     "metadata": {},
     "output_type": "execute_result"
    }
   ],
   "source": [
    "# combining the multiple dfs\n",
    "df=pd.DataFrame({'int':[9,8,7,6,5],'float':(3.5,4.9,5.9,6.4,9.3),\n",
    "             'str':['a','b','c','d','e']})\n",
    "df2=pd.DataFrame({'int':[9,8,10,6,5],'float':(3.5,4.9,5.7,6.4,9.3),\n",
    "             'str':['a','b','k','d','e']})\n",
    "df"
   ]
  },
  {
   "cell_type": "code",
   "execution_count": 26,
   "id": "fc05daf0",
   "metadata": {
    "collapsed": true
   },
   "outputs": [
    {
     "data": {
      "text/html": [
       "<div>\n",
       "<style scoped>\n",
       "    .dataframe tbody tr th:only-of-type {\n",
       "        vertical-align: middle;\n",
       "    }\n",
       "\n",
       "    .dataframe tbody tr th {\n",
       "        vertical-align: top;\n",
       "    }\n",
       "\n",
       "    .dataframe thead th {\n",
       "        text-align: right;\n",
       "    }\n",
       "</style>\n",
       "<table border=\"1\" class=\"dataframe\">\n",
       "  <thead>\n",
       "    <tr style=\"text-align: right;\">\n",
       "      <th></th>\n",
       "      <th>int</th>\n",
       "      <th>float</th>\n",
       "      <th>str</th>\n",
       "    </tr>\n",
       "  </thead>\n",
       "  <tbody>\n",
       "    <tr>\n",
       "      <th>0</th>\n",
       "      <td>9</td>\n",
       "      <td>3.5</td>\n",
       "      <td>a</td>\n",
       "    </tr>\n",
       "    <tr>\n",
       "      <th>1</th>\n",
       "      <td>8</td>\n",
       "      <td>4.9</td>\n",
       "      <td>b</td>\n",
       "    </tr>\n",
       "    <tr>\n",
       "      <th>2</th>\n",
       "      <td>10</td>\n",
       "      <td>5.7</td>\n",
       "      <td>k</td>\n",
       "    </tr>\n",
       "    <tr>\n",
       "      <th>3</th>\n",
       "      <td>6</td>\n",
       "      <td>6.4</td>\n",
       "      <td>d</td>\n",
       "    </tr>\n",
       "    <tr>\n",
       "      <th>4</th>\n",
       "      <td>5</td>\n",
       "      <td>9.3</td>\n",
       "      <td>e</td>\n",
       "    </tr>\n",
       "  </tbody>\n",
       "</table>\n",
       "</div>"
      ],
      "text/plain": [
       "   int  float str\n",
       "0    9    3.5   a\n",
       "1    8    4.9   b\n",
       "2   10    5.7   k\n",
       "3    6    6.4   d\n",
       "4    5    9.3   e"
      ]
     },
     "execution_count": 26,
     "metadata": {},
     "output_type": "execute_result"
    }
   ],
   "source": [
    "df2"
   ]
  },
  {
   "cell_type": "code",
   "execution_count": 27,
   "id": "80e32633",
   "metadata": {
    "collapsed": true
   },
   "outputs": [
    {
     "data": {
      "text/html": [
       "<div>\n",
       "<style scoped>\n",
       "    .dataframe tbody tr th:only-of-type {\n",
       "        vertical-align: middle;\n",
       "    }\n",
       "\n",
       "    .dataframe tbody tr th {\n",
       "        vertical-align: top;\n",
       "    }\n",
       "\n",
       "    .dataframe thead th {\n",
       "        text-align: right;\n",
       "    }\n",
       "</style>\n",
       "<table border=\"1\" class=\"dataframe\">\n",
       "  <thead>\n",
       "    <tr style=\"text-align: right;\">\n",
       "      <th></th>\n",
       "      <th>int</th>\n",
       "      <th>float</th>\n",
       "      <th>str</th>\n",
       "    </tr>\n",
       "  </thead>\n",
       "  <tbody>\n",
       "    <tr>\n",
       "      <th>0</th>\n",
       "      <td>9</td>\n",
       "      <td>3.5</td>\n",
       "      <td>a</td>\n",
       "    </tr>\n",
       "    <tr>\n",
       "      <th>1</th>\n",
       "      <td>8</td>\n",
       "      <td>4.9</td>\n",
       "      <td>b</td>\n",
       "    </tr>\n",
       "    <tr>\n",
       "      <th>2</th>\n",
       "      <td>6</td>\n",
       "      <td>6.4</td>\n",
       "      <td>d</td>\n",
       "    </tr>\n",
       "    <tr>\n",
       "      <th>3</th>\n",
       "      <td>5</td>\n",
       "      <td>9.3</td>\n",
       "      <td>e</td>\n",
       "    </tr>\n",
       "  </tbody>\n",
       "</table>\n",
       "</div>"
      ],
      "text/plain": [
       "   int  float str\n",
       "0    9    3.5   a\n",
       "1    8    4.9   b\n",
       "2    6    6.4   d\n",
       "3    5    9.3   e"
      ]
     },
     "execution_count": 27,
     "metadata": {},
     "output_type": "execute_result"
    }
   ],
   "source": [
    "df.merge(df2) # non-similar sample will be deleted"
   ]
  },
  {
   "cell_type": "code",
   "execution_count": 32,
   "id": "83438e4c",
   "metadata": {
    "collapsed": true
   },
   "outputs": [
    {
     "data": {
      "text/html": [
       "<div>\n",
       "<style scoped>\n",
       "    .dataframe tbody tr th:only-of-type {\n",
       "        vertical-align: middle;\n",
       "    }\n",
       "\n",
       "    .dataframe tbody tr th {\n",
       "        vertical-align: top;\n",
       "    }\n",
       "\n",
       "    .dataframe thead th {\n",
       "        text-align: right;\n",
       "    }\n",
       "</style>\n",
       "<table border=\"1\" class=\"dataframe\">\n",
       "  <thead>\n",
       "    <tr style=\"text-align: right;\">\n",
       "      <th></th>\n",
       "      <th>int</th>\n",
       "      <th>float</th>\n",
       "      <th>str</th>\n",
       "    </tr>\n",
       "  </thead>\n",
       "  <tbody>\n",
       "    <tr>\n",
       "      <th>0</th>\n",
       "      <td>9</td>\n",
       "      <td>3.5</td>\n",
       "      <td>a</td>\n",
       "    </tr>\n",
       "    <tr>\n",
       "      <th>1</th>\n",
       "      <td>8</td>\n",
       "      <td>4.9</td>\n",
       "      <td>b</td>\n",
       "    </tr>\n",
       "    <tr>\n",
       "      <th>2</th>\n",
       "      <td>7</td>\n",
       "      <td>5.9</td>\n",
       "      <td>c</td>\n",
       "    </tr>\n",
       "    <tr>\n",
       "      <th>3</th>\n",
       "      <td>6</td>\n",
       "      <td>6.4</td>\n",
       "      <td>d</td>\n",
       "    </tr>\n",
       "    <tr>\n",
       "      <th>4</th>\n",
       "      <td>5</td>\n",
       "      <td>9.3</td>\n",
       "      <td>e</td>\n",
       "    </tr>\n",
       "    <tr>\n",
       "      <th>0</th>\n",
       "      <td>9</td>\n",
       "      <td>3.5</td>\n",
       "      <td>a</td>\n",
       "    </tr>\n",
       "    <tr>\n",
       "      <th>1</th>\n",
       "      <td>8</td>\n",
       "      <td>4.9</td>\n",
       "      <td>b</td>\n",
       "    </tr>\n",
       "    <tr>\n",
       "      <th>2</th>\n",
       "      <td>10</td>\n",
       "      <td>5.7</td>\n",
       "      <td>k</td>\n",
       "    </tr>\n",
       "    <tr>\n",
       "      <th>3</th>\n",
       "      <td>6</td>\n",
       "      <td>6.4</td>\n",
       "      <td>d</td>\n",
       "    </tr>\n",
       "    <tr>\n",
       "      <th>4</th>\n",
       "      <td>5</td>\n",
       "      <td>9.3</td>\n",
       "      <td>e</td>\n",
       "    </tr>\n",
       "  </tbody>\n",
       "</table>\n",
       "</div>"
      ],
      "text/plain": [
       "   int  float str\n",
       "0    9    3.5   a\n",
       "1    8    4.9   b\n",
       "2    7    5.9   c\n",
       "3    6    6.4   d\n",
       "4    5    9.3   e\n",
       "0    9    3.5   a\n",
       "1    8    4.9   b\n",
       "2   10    5.7   k\n",
       "3    6    6.4   d\n",
       "4    5    9.3   e"
      ]
     },
     "execution_count": 32,
     "metadata": {},
     "output_type": "execute_result"
    }
   ],
   "source": [
    "pd.concat([df,df2]) # similar cols,data of df2 is added to df"
   ]
  },
  {
   "cell_type": "code",
   "execution_count": 33,
   "id": "c29f17ff",
   "metadata": {
    "collapsed": true
   },
   "outputs": [
    {
     "data": {
      "text/html": [
       "<div>\n",
       "<style scoped>\n",
       "    .dataframe tbody tr th:only-of-type {\n",
       "        vertical-align: middle;\n",
       "    }\n",
       "\n",
       "    .dataframe tbody tr th {\n",
       "        vertical-align: top;\n",
       "    }\n",
       "\n",
       "    .dataframe thead th {\n",
       "        text-align: right;\n",
       "    }\n",
       "</style>\n",
       "<table border=\"1\" class=\"dataframe\">\n",
       "  <thead>\n",
       "    <tr style=\"text-align: right;\">\n",
       "      <th></th>\n",
       "      <th>num</th>\n",
       "      <th>gpa</th>\n",
       "      <th>student</th>\n",
       "    </tr>\n",
       "  </thead>\n",
       "  <tbody>\n",
       "    <tr>\n",
       "      <th>0</th>\n",
       "      <td>9</td>\n",
       "      <td>3.5</td>\n",
       "      <td>a</td>\n",
       "    </tr>\n",
       "    <tr>\n",
       "      <th>1</th>\n",
       "      <td>8</td>\n",
       "      <td>4.9</td>\n",
       "      <td>b</td>\n",
       "    </tr>\n",
       "    <tr>\n",
       "      <th>2</th>\n",
       "      <td>7</td>\n",
       "      <td>5.9</td>\n",
       "      <td>c</td>\n",
       "    </tr>\n",
       "    <tr>\n",
       "      <th>3</th>\n",
       "      <td>6</td>\n",
       "      <td>6.4</td>\n",
       "      <td>d</td>\n",
       "    </tr>\n",
       "    <tr>\n",
       "      <th>4</th>\n",
       "      <td>5</td>\n",
       "      <td>9.3</td>\n",
       "      <td>e</td>\n",
       "    </tr>\n",
       "  </tbody>\n",
       "</table>\n",
       "</div>"
      ],
      "text/plain": [
       "   num  gpa student\n",
       "0    9  3.5       a\n",
       "1    8  4.9       b\n",
       "2    7  5.9       c\n",
       "3    6  6.4       d\n",
       "4    5  9.3       e"
      ]
     },
     "execution_count": 33,
     "metadata": {},
     "output_type": "execute_result"
    }
   ],
   "source": [
    "df3=pd.DataFrame({'num':[9,8,7,6,5],'gpa':(3.5,4.9,5.9,6.4,9.3),\n",
    "             'student':['a','b','c','d','e']})\n",
    "df4=pd.DataFrame({'int':[9,8,7,6,5],'float':(3.5,4.9,5.9,6.4,9.3),\n",
    "             'str':['a','b','c','d','e']})\n",
    "df3"
   ]
  },
  {
   "cell_type": "code",
   "execution_count": 34,
   "id": "724d3363",
   "metadata": {
    "collapsed": true
   },
   "outputs": [
    {
     "data": {
      "text/html": [
       "<div>\n",
       "<style scoped>\n",
       "    .dataframe tbody tr th:only-of-type {\n",
       "        vertical-align: middle;\n",
       "    }\n",
       "\n",
       "    .dataframe tbody tr th {\n",
       "        vertical-align: top;\n",
       "    }\n",
       "\n",
       "    .dataframe thead th {\n",
       "        text-align: right;\n",
       "    }\n",
       "</style>\n",
       "<table border=\"1\" class=\"dataframe\">\n",
       "  <thead>\n",
       "    <tr style=\"text-align: right;\">\n",
       "      <th></th>\n",
       "      <th>int</th>\n",
       "      <th>float</th>\n",
       "      <th>str</th>\n",
       "    </tr>\n",
       "  </thead>\n",
       "  <tbody>\n",
       "    <tr>\n",
       "      <th>0</th>\n",
       "      <td>9</td>\n",
       "      <td>3.5</td>\n",
       "      <td>a</td>\n",
       "    </tr>\n",
       "    <tr>\n",
       "      <th>1</th>\n",
       "      <td>8</td>\n",
       "      <td>4.9</td>\n",
       "      <td>b</td>\n",
       "    </tr>\n",
       "    <tr>\n",
       "      <th>2</th>\n",
       "      <td>7</td>\n",
       "      <td>5.9</td>\n",
       "      <td>c</td>\n",
       "    </tr>\n",
       "    <tr>\n",
       "      <th>3</th>\n",
       "      <td>6</td>\n",
       "      <td>6.4</td>\n",
       "      <td>d</td>\n",
       "    </tr>\n",
       "    <tr>\n",
       "      <th>4</th>\n",
       "      <td>5</td>\n",
       "      <td>9.3</td>\n",
       "      <td>e</td>\n",
       "    </tr>\n",
       "  </tbody>\n",
       "</table>\n",
       "</div>"
      ],
      "text/plain": [
       "   int  float str\n",
       "0    9    3.5   a\n",
       "1    8    4.9   b\n",
       "2    7    5.9   c\n",
       "3    6    6.4   d\n",
       "4    5    9.3   e"
      ]
     },
     "execution_count": 34,
     "metadata": {},
     "output_type": "execute_result"
    }
   ],
   "source": [
    "df4"
   ]
  },
  {
   "cell_type": "code",
   "execution_count": 38,
   "id": "0c2f6575",
   "metadata": {
    "collapsed": true
   },
   "outputs": [
    {
     "data": {
      "text/html": [
       "<div>\n",
       "<style scoped>\n",
       "    .dataframe tbody tr th:only-of-type {\n",
       "        vertical-align: middle;\n",
       "    }\n",
       "\n",
       "    .dataframe tbody tr th {\n",
       "        vertical-align: top;\n",
       "    }\n",
       "\n",
       "    .dataframe thead th {\n",
       "        text-align: right;\n",
       "    }\n",
       "</style>\n",
       "<table border=\"1\" class=\"dataframe\">\n",
       "  <thead>\n",
       "    <tr style=\"text-align: right;\">\n",
       "      <th></th>\n",
       "      <th>num</th>\n",
       "      <th>gpa</th>\n",
       "      <th>student</th>\n",
       "      <th>int</th>\n",
       "      <th>float</th>\n",
       "      <th>str</th>\n",
       "    </tr>\n",
       "  </thead>\n",
       "  <tbody>\n",
       "    <tr>\n",
       "      <th>R1</th>\n",
       "      <td>9</td>\n",
       "      <td>3.5</td>\n",
       "      <td>a</td>\n",
       "      <td>9</td>\n",
       "      <td>3.5</td>\n",
       "      <td>a</td>\n",
       "    </tr>\n",
       "    <tr>\n",
       "      <th>R2</th>\n",
       "      <td>8</td>\n",
       "      <td>4.9</td>\n",
       "      <td>b</td>\n",
       "      <td>8</td>\n",
       "      <td>4.9</td>\n",
       "      <td>b</td>\n",
       "    </tr>\n",
       "    <tr>\n",
       "      <th>R3</th>\n",
       "      <td>7</td>\n",
       "      <td>5.9</td>\n",
       "      <td>c</td>\n",
       "      <td>7</td>\n",
       "      <td>5.9</td>\n",
       "      <td>c</td>\n",
       "    </tr>\n",
       "    <tr>\n",
       "      <th>R4</th>\n",
       "      <td>6</td>\n",
       "      <td>6.4</td>\n",
       "      <td>d</td>\n",
       "      <td>6</td>\n",
       "      <td>6.4</td>\n",
       "      <td>d</td>\n",
       "    </tr>\n",
       "    <tr>\n",
       "      <th>R5</th>\n",
       "      <td>5</td>\n",
       "      <td>9.3</td>\n",
       "      <td>e</td>\n",
       "      <td>5</td>\n",
       "      <td>9.3</td>\n",
       "      <td>e</td>\n",
       "    </tr>\n",
       "  </tbody>\n",
       "</table>\n",
       "</div>"
      ],
      "text/plain": [
       "    num  gpa student  int  float str\n",
       "R1    9  3.5       a    9    3.5   a\n",
       "R2    8  4.9       b    8    4.9   b\n",
       "R3    7  5.9       c    7    5.9   c\n",
       "R4    6  6.4       d    6    6.4   d\n",
       "R5    5  9.3       e    5    9.3   e"
      ]
     },
     "execution_count": 38,
     "metadata": {},
     "output_type": "execute_result"
    }
   ],
   "source": [
    "new=df3.join(df4) # adding the new cols in the sheet\n",
    "new.index=['R1','R2','R3','R4','R5']\n",
    "new"
   ]
  },
  {
   "cell_type": "code",
   "execution_count": 40,
   "id": "5bbbb75e",
   "metadata": {
    "collapsed": true
   },
   "outputs": [
    {
     "data": {
      "text/plain": [
       "R1    a\n",
       "R2    b\n",
       "R3    c\n",
       "R4    d\n",
       "R5    e\n",
       "Name: student, dtype: object"
      ]
     },
     "execution_count": 40,
     "metadata": {},
     "output_type": "execute_result"
    }
   ],
   "source": [
    "# accessing and slicing of the dataframe\n",
    "# df depends upon the column \n",
    "new['student']"
   ]
  },
  {
   "cell_type": "code",
   "execution_count": 41,
   "id": "9c84acf2",
   "metadata": {
    "collapsed": true
   },
   "outputs": [
    {
     "data": {
      "text/html": [
       "<div>\n",
       "<style scoped>\n",
       "    .dataframe tbody tr th:only-of-type {\n",
       "        vertical-align: middle;\n",
       "    }\n",
       "\n",
       "    .dataframe tbody tr th {\n",
       "        vertical-align: top;\n",
       "    }\n",
       "\n",
       "    .dataframe thead th {\n",
       "        text-align: right;\n",
       "    }\n",
       "</style>\n",
       "<table border=\"1\" class=\"dataframe\">\n",
       "  <thead>\n",
       "    <tr style=\"text-align: right;\">\n",
       "      <th></th>\n",
       "      <th>int</th>\n",
       "      <th>num</th>\n",
       "      <th>gpa</th>\n",
       "    </tr>\n",
       "  </thead>\n",
       "  <tbody>\n",
       "    <tr>\n",
       "      <th>R1</th>\n",
       "      <td>9</td>\n",
       "      <td>9</td>\n",
       "      <td>3.5</td>\n",
       "    </tr>\n",
       "    <tr>\n",
       "      <th>R2</th>\n",
       "      <td>8</td>\n",
       "      <td>8</td>\n",
       "      <td>4.9</td>\n",
       "    </tr>\n",
       "    <tr>\n",
       "      <th>R3</th>\n",
       "      <td>7</td>\n",
       "      <td>7</td>\n",
       "      <td>5.9</td>\n",
       "    </tr>\n",
       "    <tr>\n",
       "      <th>R4</th>\n",
       "      <td>6</td>\n",
       "      <td>6</td>\n",
       "      <td>6.4</td>\n",
       "    </tr>\n",
       "    <tr>\n",
       "      <th>R5</th>\n",
       "      <td>5</td>\n",
       "      <td>5</td>\n",
       "      <td>9.3</td>\n",
       "    </tr>\n",
       "  </tbody>\n",
       "</table>\n",
       "</div>"
      ],
      "text/plain": [
       "    int  num  gpa\n",
       "R1    9    9  3.5\n",
       "R2    8    8  4.9\n",
       "R3    7    7  5.9\n",
       "R4    6    6  6.4\n",
       "R5    5    5  9.3"
      ]
     },
     "execution_count": 41,
     "metadata": {},
     "output_type": "execute_result"
    }
   ],
   "source": [
    "new[['int','num','gpa']]"
   ]
  },
  {
   "cell_type": "code",
   "execution_count": 46,
   "id": "5bd2f5b4",
   "metadata": {
    "collapsed": true
   },
   "outputs": [
    {
     "data": {
      "text/plain": [
       "num          6\n",
       "gpa        6.4\n",
       "student      d\n",
       "int          6\n",
       "float      6.4\n",
       "str          d\n",
       "Name: R4, dtype: object"
      ]
     },
     "execution_count": 46,
     "metadata": {},
     "output_type": "execute_result"
    }
   ],
   "source": [
    "new.iloc[3] # iloc:index locate: row wise data"
   ]
  },
  {
   "cell_type": "code",
   "execution_count": 47,
   "id": "f5ce841c",
   "metadata": {
    "collapsed": true
   },
   "outputs": [
    {
     "data": {
      "text/html": [
       "<div>\n",
       "<style scoped>\n",
       "    .dataframe tbody tr th:only-of-type {\n",
       "        vertical-align: middle;\n",
       "    }\n",
       "\n",
       "    .dataframe tbody tr th {\n",
       "        vertical-align: top;\n",
       "    }\n",
       "\n",
       "    .dataframe thead th {\n",
       "        text-align: right;\n",
       "    }\n",
       "</style>\n",
       "<table border=\"1\" class=\"dataframe\">\n",
       "  <thead>\n",
       "    <tr style=\"text-align: right;\">\n",
       "      <th></th>\n",
       "      <th>num</th>\n",
       "      <th>gpa</th>\n",
       "      <th>student</th>\n",
       "      <th>int</th>\n",
       "      <th>float</th>\n",
       "      <th>str</th>\n",
       "    </tr>\n",
       "  </thead>\n",
       "  <tbody>\n",
       "    <tr>\n",
       "      <th>R1</th>\n",
       "      <td>9</td>\n",
       "      <td>3.5</td>\n",
       "      <td>a</td>\n",
       "      <td>9</td>\n",
       "      <td>3.5</td>\n",
       "      <td>a</td>\n",
       "    </tr>\n",
       "    <tr>\n",
       "      <th>R2</th>\n",
       "      <td>8</td>\n",
       "      <td>4.9</td>\n",
       "      <td>b</td>\n",
       "      <td>8</td>\n",
       "      <td>4.9</td>\n",
       "      <td>b</td>\n",
       "    </tr>\n",
       "    <tr>\n",
       "      <th>R3</th>\n",
       "      <td>7</td>\n",
       "      <td>5.9</td>\n",
       "      <td>c</td>\n",
       "      <td>7</td>\n",
       "      <td>5.9</td>\n",
       "      <td>c</td>\n",
       "    </tr>\n",
       "    <tr>\n",
       "      <th>R4</th>\n",
       "      <td>6</td>\n",
       "      <td>6.4</td>\n",
       "      <td>d</td>\n",
       "      <td>6</td>\n",
       "      <td>6.4</td>\n",
       "      <td>d</td>\n",
       "    </tr>\n",
       "    <tr>\n",
       "      <th>R5</th>\n",
       "      <td>5</td>\n",
       "      <td>9.3</td>\n",
       "      <td>e</td>\n",
       "      <td>5</td>\n",
       "      <td>9.3</td>\n",
       "      <td>e</td>\n",
       "    </tr>\n",
       "  </tbody>\n",
       "</table>\n",
       "</div>"
      ],
      "text/plain": [
       "    num  gpa student  int  float str\n",
       "R1    9  3.5       a    9    3.5   a\n",
       "R2    8  4.9       b    8    4.9   b\n",
       "R3    7  5.9       c    7    5.9   c\n",
       "R4    6  6.4       d    6    6.4   d\n",
       "R5    5  9.3       e    5    9.3   e"
      ]
     },
     "execution_count": 47,
     "metadata": {},
     "output_type": "execute_result"
    }
   ],
   "source": [
    "new"
   ]
  },
  {
   "cell_type": "code",
   "execution_count": 48,
   "id": "78930a7e",
   "metadata": {
    "collapsed": true
   },
   "outputs": [
    {
     "data": {
      "text/html": [
       "<div>\n",
       "<style scoped>\n",
       "    .dataframe tbody tr th:only-of-type {\n",
       "        vertical-align: middle;\n",
       "    }\n",
       "\n",
       "    .dataframe tbody tr th {\n",
       "        vertical-align: top;\n",
       "    }\n",
       "\n",
       "    .dataframe thead th {\n",
       "        text-align: right;\n",
       "    }\n",
       "</style>\n",
       "<table border=\"1\" class=\"dataframe\">\n",
       "  <thead>\n",
       "    <tr style=\"text-align: right;\">\n",
       "      <th></th>\n",
       "      <th>num</th>\n",
       "      <th>gpa</th>\n",
       "      <th>student</th>\n",
       "      <th>int</th>\n",
       "      <th>float</th>\n",
       "      <th>str</th>\n",
       "    </tr>\n",
       "  </thead>\n",
       "  <tbody>\n",
       "    <tr>\n",
       "      <th>R1</th>\n",
       "      <td>9</td>\n",
       "      <td>3.5</td>\n",
       "      <td>a</td>\n",
       "      <td>9</td>\n",
       "      <td>3.5</td>\n",
       "      <td>a</td>\n",
       "    </tr>\n",
       "    <tr>\n",
       "      <th>R2</th>\n",
       "      <td>8</td>\n",
       "      <td>4.9</td>\n",
       "      <td>b</td>\n",
       "      <td>8</td>\n",
       "      <td>4.9</td>\n",
       "      <td>b</td>\n",
       "    </tr>\n",
       "    <tr>\n",
       "      <th>R3</th>\n",
       "      <td>7</td>\n",
       "      <td>5.9</td>\n",
       "      <td>c</td>\n",
       "      <td>7</td>\n",
       "      <td>5.9</td>\n",
       "      <td>c</td>\n",
       "    </tr>\n",
       "    <tr>\n",
       "      <th>R4</th>\n",
       "      <td>6</td>\n",
       "      <td>6.4</td>\n",
       "      <td>d</td>\n",
       "      <td>6</td>\n",
       "      <td>6.4</td>\n",
       "      <td>d</td>\n",
       "    </tr>\n",
       "    <tr>\n",
       "      <th>R5</th>\n",
       "      <td>5</td>\n",
       "      <td>9.3</td>\n",
       "      <td>e</td>\n",
       "      <td>5</td>\n",
       "      <td>9.3</td>\n",
       "      <td>e</td>\n",
       "    </tr>\n",
       "  </tbody>\n",
       "</table>\n",
       "</div>"
      ],
      "text/plain": [
       "    num  gpa student  int  float str\n",
       "R1    9  3.5       a    9    3.5   a\n",
       "R2    8  4.9       b    8    4.9   b\n",
       "R3    7  5.9       c    7    5.9   c\n",
       "R4    6  6.4       d    6    6.4   d\n",
       "R5    5  9.3       e    5    9.3   e"
      ]
     },
     "execution_count": 48,
     "metadata": {},
     "output_type": "execute_result"
    }
   ],
   "source": [
    "new.iloc[:] # considers all the rows"
   ]
  },
  {
   "cell_type": "code",
   "execution_count": 50,
   "id": "55bbd227",
   "metadata": {
    "collapsed": true
   },
   "outputs": [
    {
     "data": {
      "text/html": [
       "<div>\n",
       "<style scoped>\n",
       "    .dataframe tbody tr th:only-of-type {\n",
       "        vertical-align: middle;\n",
       "    }\n",
       "\n",
       "    .dataframe tbody tr th {\n",
       "        vertical-align: top;\n",
       "    }\n",
       "\n",
       "    .dataframe thead th {\n",
       "        text-align: right;\n",
       "    }\n",
       "</style>\n",
       "<table border=\"1\" class=\"dataframe\">\n",
       "  <thead>\n",
       "    <tr style=\"text-align: right;\">\n",
       "      <th></th>\n",
       "      <th>int</th>\n",
       "      <th>float</th>\n",
       "      <th>str</th>\n",
       "    </tr>\n",
       "  </thead>\n",
       "  <tbody>\n",
       "    <tr>\n",
       "      <th>R1</th>\n",
       "      <td>9</td>\n",
       "      <td>3.5</td>\n",
       "      <td>a</td>\n",
       "    </tr>\n",
       "    <tr>\n",
       "      <th>R2</th>\n",
       "      <td>8</td>\n",
       "      <td>4.9</td>\n",
       "      <td>b</td>\n",
       "    </tr>\n",
       "    <tr>\n",
       "      <th>R3</th>\n",
       "      <td>7</td>\n",
       "      <td>5.9</td>\n",
       "      <td>c</td>\n",
       "    </tr>\n",
       "    <tr>\n",
       "      <th>R4</th>\n",
       "      <td>6</td>\n",
       "      <td>6.4</td>\n",
       "      <td>d</td>\n",
       "    </tr>\n",
       "    <tr>\n",
       "      <th>R5</th>\n",
       "      <td>5</td>\n",
       "      <td>9.3</td>\n",
       "      <td>e</td>\n",
       "    </tr>\n",
       "  </tbody>\n",
       "</table>\n",
       "</div>"
      ],
      "text/plain": [
       "    int  float str\n",
       "R1    9    3.5   a\n",
       "R2    8    4.9   b\n",
       "R3    7    5.9   c\n",
       "R4    6    6.4   d\n",
       "R5    5    9.3   e"
      ]
     },
     "execution_count": 50,
     "metadata": {},
     "output_type": "execute_result"
    }
   ],
   "source": [
    "new.iloc[:,3:] # all the rows,cols from 3rd index"
   ]
  },
  {
   "cell_type": "code",
   "execution_count": 51,
   "id": "966af654",
   "metadata": {
    "collapsed": true
   },
   "outputs": [
    {
     "data": {
      "text/html": [
       "<div>\n",
       "<style scoped>\n",
       "    .dataframe tbody tr th:only-of-type {\n",
       "        vertical-align: middle;\n",
       "    }\n",
       "\n",
       "    .dataframe tbody tr th {\n",
       "        vertical-align: top;\n",
       "    }\n",
       "\n",
       "    .dataframe thead th {\n",
       "        text-align: right;\n",
       "    }\n",
       "</style>\n",
       "<table border=\"1\" class=\"dataframe\">\n",
       "  <thead>\n",
       "    <tr style=\"text-align: right;\">\n",
       "      <th></th>\n",
       "      <th>num</th>\n",
       "      <th>gpa</th>\n",
       "      <th>student</th>\n",
       "      <th>int</th>\n",
       "      <th>float</th>\n",
       "      <th>str</th>\n",
       "    </tr>\n",
       "  </thead>\n",
       "  <tbody>\n",
       "    <tr>\n",
       "      <th>R3</th>\n",
       "      <td>7</td>\n",
       "      <td>5.9</td>\n",
       "      <td>c</td>\n",
       "      <td>7</td>\n",
       "      <td>5.9</td>\n",
       "      <td>c</td>\n",
       "    </tr>\n",
       "    <tr>\n",
       "      <th>R4</th>\n",
       "      <td>6</td>\n",
       "      <td>6.4</td>\n",
       "      <td>d</td>\n",
       "      <td>6</td>\n",
       "      <td>6.4</td>\n",
       "      <td>d</td>\n",
       "    </tr>\n",
       "    <tr>\n",
       "      <th>R5</th>\n",
       "      <td>5</td>\n",
       "      <td>9.3</td>\n",
       "      <td>e</td>\n",
       "      <td>5</td>\n",
       "      <td>9.3</td>\n",
       "      <td>e</td>\n",
       "    </tr>\n",
       "  </tbody>\n",
       "</table>\n",
       "</div>"
      ],
      "text/plain": [
       "    num  gpa student  int  float str\n",
       "R3    7  5.9       c    7    5.9   c\n",
       "R4    6  6.4       d    6    6.4   d\n",
       "R5    5  9.3       e    5    9.3   e"
      ]
     },
     "execution_count": 51,
     "metadata": {},
     "output_type": "execute_result"
    }
   ],
   "source": [
    "new.iloc[2:]"
   ]
  },
  {
   "cell_type": "markdown",
   "id": "66312a59",
   "metadata": {},
   "source": [
    "#### working with .csv file\n",
    "- .xls file saved with extension .csv\n",
    "- comma separated values\n",
    "- data belongs to any organization"
   ]
  },
  {
   "cell_type": "code",
   "execution_count": 1,
   "id": "67cf56c6",
   "metadata": {
    "collapsed": true
   },
   "outputs": [
    {
     "data": {
      "text/html": [
       "<div>\n",
       "<style scoped>\n",
       "    .dataframe tbody tr th:only-of-type {\n",
       "        vertical-align: middle;\n",
       "    }\n",
       "\n",
       "    .dataframe tbody tr th {\n",
       "        vertical-align: top;\n",
       "    }\n",
       "\n",
       "    .dataframe thead th {\n",
       "        text-align: right;\n",
       "    }\n",
       "</style>\n",
       "<table border=\"1\" class=\"dataframe\">\n",
       "  <thead>\n",
       "    <tr style=\"text-align: right;\">\n",
       "      <th></th>\n",
       "      <th>S.No.</th>\n",
       "      <th>Registration Id</th>\n",
       "      <th>Name</th>\n",
       "      <th>Email</th>\n",
       "      <th>Mobile No</th>\n",
       "    </tr>\n",
       "  </thead>\n",
       "  <tbody>\n",
       "    <tr>\n",
       "      <th>0</th>\n",
       "      <td>1</td>\n",
       "      <td>23BA1A4271</td>\n",
       "      <td>K.Karthik</td>\n",
       "      <td>karthikkakumanu09@gmail.com</td>\n",
       "      <td>9848139894</td>\n",
       "    </tr>\n",
       "    <tr>\n",
       "      <th>1</th>\n",
       "      <td>2</td>\n",
       "      <td>23BQ1A05N1</td>\n",
       "      <td>Vadlamudi Ramya</td>\n",
       "      <td>vadlamudiramya87@gmail.com</td>\n",
       "      <td>7337001554</td>\n",
       "    </tr>\n",
       "    <tr>\n",
       "      <th>2</th>\n",
       "      <td>3</td>\n",
       "      <td>23BQ1A4201</td>\n",
       "      <td>Adhimulam Bhargav Sai Viswanath</td>\n",
       "      <td>bhargavsaiadhimulam12@gmail.com</td>\n",
       "      <td>7013833594</td>\n",
       "    </tr>\n",
       "    <tr>\n",
       "      <th>3</th>\n",
       "      <td>4</td>\n",
       "      <td>23BQ1A4202</td>\n",
       "      <td>Agepati Venkata Sai Charan</td>\n",
       "      <td>cherry123abba@gmail.com</td>\n",
       "      <td>9618223895</td>\n",
       "    </tr>\n",
       "    <tr>\n",
       "      <th>4</th>\n",
       "      <td>5</td>\n",
       "      <td>23BQ1A4203</td>\n",
       "      <td>Akkala Umesh Karthik</td>\n",
       "      <td>umeshkarthik2006@gmail.com</td>\n",
       "      <td>8329610575</td>\n",
       "    </tr>\n",
       "    <tr>\n",
       "      <th>...</th>\n",
       "      <td>...</td>\n",
       "      <td>...</td>\n",
       "      <td>...</td>\n",
       "      <td>...</td>\n",
       "      <td>...</td>\n",
       "    </tr>\n",
       "    <tr>\n",
       "      <th>379</th>\n",
       "      <td>380</td>\n",
       "      <td>24BQ5A6138</td>\n",
       "      <td>Shaik Vaseem</td>\n",
       "      <td>vaseemshaik090@gmail.com</td>\n",
       "      <td>7995979089</td>\n",
       "    </tr>\n",
       "    <tr>\n",
       "      <th>380</th>\n",
       "      <td>381</td>\n",
       "      <td>24BQ5A6139</td>\n",
       "      <td>Thotakura Amarendra Kumar</td>\n",
       "      <td>kumarthotakuraamarendra@gmail.com</td>\n",
       "      <td>8499903775</td>\n",
       "    </tr>\n",
       "    <tr>\n",
       "      <th>381</th>\n",
       "      <td>382</td>\n",
       "      <td>24BQ5A6140</td>\n",
       "      <td>Thotakura Mahesh</td>\n",
       "      <td>thotakuramahesh0693@gmail.com</td>\n",
       "      <td>9618752221</td>\n",
       "    </tr>\n",
       "    <tr>\n",
       "      <th>382</th>\n",
       "      <td>383</td>\n",
       "      <td>24BQ5A6143</td>\n",
       "      <td>D. Venkatadri Naidu</td>\n",
       "      <td>venkatchowdaryduggineni@gmail.com</td>\n",
       "      <td>9133913683</td>\n",
       "    </tr>\n",
       "    <tr>\n",
       "      <th>383</th>\n",
       "      <td>384</td>\n",
       "      <td>24bq5a6121</td>\n",
       "      <td>Chejarla Vishnu Vardhan</td>\n",
       "      <td>Chejarlavishnuvardhan603@gmail.com</td>\n",
       "      <td>9059471263</td>\n",
       "    </tr>\n",
       "  </tbody>\n",
       "</table>\n",
       "<p>384 rows × 5 columns</p>\n",
       "</div>"
      ],
      "text/plain": [
       "     S.No. Registration Id                             Name  \\\n",
       "0        1      23BA1A4271                        K.Karthik   \n",
       "1        2      23BQ1A05N1                  Vadlamudi Ramya   \n",
       "2        3      23BQ1A4201  Adhimulam Bhargav Sai Viswanath   \n",
       "3        4      23BQ1A4202       Agepati Venkata Sai Charan   \n",
       "4        5      23BQ1A4203             Akkala Umesh Karthik   \n",
       "..     ...             ...                              ...   \n",
       "379    380      24BQ5A6138                     Shaik Vaseem   \n",
       "380    381      24BQ5A6139        Thotakura Amarendra Kumar   \n",
       "381    382      24BQ5A6140                 Thotakura Mahesh   \n",
       "382    383      24BQ5A6143              D. Venkatadri Naidu   \n",
       "383    384      24bq5a6121          Chejarla Vishnu Vardhan   \n",
       "\n",
       "                                  Email   Mobile No  \n",
       "0           karthikkakumanu09@gmail.com  9848139894  \n",
       "1            vadlamudiramya87@gmail.com  7337001554  \n",
       "2       bhargavsaiadhimulam12@gmail.com  7013833594  \n",
       "3               cherry123abba@gmail.com  9618223895  \n",
       "4            umeshkarthik2006@gmail.com  8329610575  \n",
       "..                                  ...         ...  \n",
       "379            vaseemshaik090@gmail.com  7995979089  \n",
       "380   kumarthotakuraamarendra@gmail.com  8499903775  \n",
       "381       thotakuramahesh0693@gmail.com  9618752221  \n",
       "382   venkatchowdaryduggineni@gmail.com  9133913683  \n",
       "383  Chejarlavishnuvardhan603@gmail.com  9059471263  \n",
       "\n",
       "[384 rows x 5 columns]"
      ]
     },
     "execution_count": 1,
     "metadata": {},
     "output_type": "execute_result"
    }
   ],
   "source": [
    "import pandas as pd\n",
    "data=pd.read_csv(\"Students.csv\")\n",
    "data"
   ]
  },
  {
   "cell_type": "code",
   "execution_count": 54,
   "id": "3ba80e60",
   "metadata": {
    "collapsed": true
   },
   "outputs": [
    {
     "data": {
      "text/plain": [
       "0             karthikkakumanu09@gmail.com\n",
       "1              vadlamudiramya87@gmail.com\n",
       "2         bhargavsaiadhimulam12@gmail.com\n",
       "3                 cherry123abba@gmail.com\n",
       "4              umeshkarthik2006@gmail.com\n",
       "                      ...                \n",
       "379              vaseemshaik090@gmail.com\n",
       "380     kumarthotakuraamarendra@gmail.com\n",
       "381         thotakuramahesh0693@gmail.com\n",
       "382     venkatchowdaryduggineni@gmail.com\n",
       "383    Chejarlavishnuvardhan603@gmail.com\n",
       "Name: Email, Length: 384, dtype: object"
      ]
     },
     "execution_count": 54,
     "metadata": {},
     "output_type": "execute_result"
    }
   ],
   "source": [
    "data.Email"
   ]
  },
  {
   "cell_type": "code",
   "execution_count": 55,
   "id": "f73aa500",
   "metadata": {
    "collapsed": true
   },
   "outputs": [
    {
     "data": {
      "text/plain": [
       "marrikavya90@gmail.com                2\n",
       "savarideepthi@gmail.com               2\n",
       "andevenkatavaibhav@gmail.com          2\n",
       "bhargavigoud123123@gmail.com          2\n",
       "tokalagopichand9@gmail.com            2\n",
       "                                     ..\n",
       "pondurijagadish@gmail.com             1\n",
       "saswathapodila111@gmail.com           1\n",
       "pikkiliharika387@gmail.com            1\n",
       "pentelakarthikeya01@gmail.com         1\n",
       "Chejarlavishnuvardhan603@gmail.com    1\n",
       "Name: Email, Length: 379, dtype: int64"
      ]
     },
     "execution_count": 55,
     "metadata": {},
     "output_type": "execute_result"
    }
   ],
   "source": [
    "data.Email.value_counts() # frequency of item"
   ]
  },
  {
   "cell_type": "code",
   "execution_count": 58,
   "id": "cce00768",
   "metadata": {
    "collapsed": true
   },
   "outputs": [
    {
     "data": {
      "text/plain": [
       "Marri Kavya Lakshmi             2\n",
       "Savari Venkata Durga Deepthi    2\n",
       "Ande Venkata Vaibhav            2\n",
       "Pandula Bhargavi                2\n",
       "Tokala Gopichand                2\n",
       "                               ..\n",
       "Ponduri Jagadish                1\n",
       "Podila Saswitha Rani            1\n",
       "Pikkili Harika                  1\n",
       "Karthikeya Pentela              1\n",
       "Chejarla Vishnu Vardhan         1\n",
       "Name: Name, Length: 379, dtype: int64"
      ]
     },
     "execution_count": 58,
     "metadata": {},
     "output_type": "execute_result"
    }
   ],
   "source": [
    "data.Name.value_counts()"
   ]
  },
  {
   "cell_type": "code",
   "execution_count": 59,
   "id": "e7950820",
   "metadata": {
    "collapsed": true
   },
   "outputs": [
    {
     "data": {
      "text/html": [
       "<div>\n",
       "<style scoped>\n",
       "    .dataframe tbody tr th:only-of-type {\n",
       "        vertical-align: middle;\n",
       "    }\n",
       "\n",
       "    .dataframe tbody tr th {\n",
       "        vertical-align: top;\n",
       "    }\n",
       "\n",
       "    .dataframe thead th {\n",
       "        text-align: right;\n",
       "    }\n",
       "</style>\n",
       "<table border=\"1\" class=\"dataframe\">\n",
       "  <thead>\n",
       "    <tr style=\"text-align: right;\">\n",
       "      <th></th>\n",
       "      <th>S.No.</th>\n",
       "      <th>Registration Id</th>\n",
       "      <th>Name</th>\n",
       "      <th>Email</th>\n",
       "      <th>Mobile No</th>\n",
       "    </tr>\n",
       "  </thead>\n",
       "  <tbody>\n",
       "    <tr>\n",
       "      <th>0</th>\n",
       "      <td>1</td>\n",
       "      <td>23BA1A4271</td>\n",
       "      <td>K.Karthik</td>\n",
       "      <td>karthikkakumanu09@gmail.com</td>\n",
       "      <td>9848139894</td>\n",
       "    </tr>\n",
       "    <tr>\n",
       "      <th>1</th>\n",
       "      <td>2</td>\n",
       "      <td>23BQ1A05N1</td>\n",
       "      <td>Vadlamudi Ramya</td>\n",
       "      <td>vadlamudiramya87@gmail.com</td>\n",
       "      <td>7337001554</td>\n",
       "    </tr>\n",
       "    <tr>\n",
       "      <th>2</th>\n",
       "      <td>3</td>\n",
       "      <td>23BQ1A4201</td>\n",
       "      <td>Adhimulam Bhargav Sai Viswanath</td>\n",
       "      <td>bhargavsaiadhimulam12@gmail.com</td>\n",
       "      <td>7013833594</td>\n",
       "    </tr>\n",
       "    <tr>\n",
       "      <th>3</th>\n",
       "      <td>4</td>\n",
       "      <td>23BQ1A4202</td>\n",
       "      <td>Agepati Venkata Sai Charan</td>\n",
       "      <td>cherry123abba@gmail.com</td>\n",
       "      <td>9618223895</td>\n",
       "    </tr>\n",
       "    <tr>\n",
       "      <th>4</th>\n",
       "      <td>5</td>\n",
       "      <td>23BQ1A4203</td>\n",
       "      <td>Akkala Umesh Karthik</td>\n",
       "      <td>umeshkarthik2006@gmail.com</td>\n",
       "      <td>8329610575</td>\n",
       "    </tr>\n",
       "  </tbody>\n",
       "</table>\n",
       "</div>"
      ],
      "text/plain": [
       "   S.No. Registration Id                             Name  \\\n",
       "0      1      23BA1A4271                        K.Karthik   \n",
       "1      2      23BQ1A05N1                  Vadlamudi Ramya   \n",
       "2      3      23BQ1A4201  Adhimulam Bhargav Sai Viswanath   \n",
       "3      4      23BQ1A4202       Agepati Venkata Sai Charan   \n",
       "4      5      23BQ1A4203             Akkala Umesh Karthik   \n",
       "\n",
       "                             Email   Mobile No  \n",
       "0      karthikkakumanu09@gmail.com  9848139894  \n",
       "1       vadlamudiramya87@gmail.com  7337001554  \n",
       "2  bhargavsaiadhimulam12@gmail.com  7013833594  \n",
       "3          cherry123abba@gmail.com  9618223895  \n",
       "4       umeshkarthik2006@gmail.com  8329610575  "
      ]
     },
     "execution_count": 59,
     "metadata": {},
     "output_type": "execute_result"
    }
   ],
   "source": [
    "data.head() # first 5 samples of the data"
   ]
  },
  {
   "cell_type": "code",
   "execution_count": 61,
   "id": "4d1727d0",
   "metadata": {
    "collapsed": true
   },
   "outputs": [
    {
     "data": {
      "text/html": [
       "<div>\n",
       "<style scoped>\n",
       "    .dataframe tbody tr th:only-of-type {\n",
       "        vertical-align: middle;\n",
       "    }\n",
       "\n",
       "    .dataframe tbody tr th {\n",
       "        vertical-align: top;\n",
       "    }\n",
       "\n",
       "    .dataframe thead th {\n",
       "        text-align: right;\n",
       "    }\n",
       "</style>\n",
       "<table border=\"1\" class=\"dataframe\">\n",
       "  <thead>\n",
       "    <tr style=\"text-align: right;\">\n",
       "      <th></th>\n",
       "      <th>S.No.</th>\n",
       "      <th>Registration Id</th>\n",
       "      <th>Name</th>\n",
       "      <th>Email</th>\n",
       "      <th>Mobile No</th>\n",
       "    </tr>\n",
       "  </thead>\n",
       "  <tbody>\n",
       "    <tr>\n",
       "      <th>0</th>\n",
       "      <td>1</td>\n",
       "      <td>23BA1A4271</td>\n",
       "      <td>K.Karthik</td>\n",
       "      <td>karthikkakumanu09@gmail.com</td>\n",
       "      <td>9848139894</td>\n",
       "    </tr>\n",
       "    <tr>\n",
       "      <th>1</th>\n",
       "      <td>2</td>\n",
       "      <td>23BQ1A05N1</td>\n",
       "      <td>Vadlamudi Ramya</td>\n",
       "      <td>vadlamudiramya87@gmail.com</td>\n",
       "      <td>7337001554</td>\n",
       "    </tr>\n",
       "    <tr>\n",
       "      <th>2</th>\n",
       "      <td>3</td>\n",
       "      <td>23BQ1A4201</td>\n",
       "      <td>Adhimulam Bhargav Sai Viswanath</td>\n",
       "      <td>bhargavsaiadhimulam12@gmail.com</td>\n",
       "      <td>7013833594</td>\n",
       "    </tr>\n",
       "  </tbody>\n",
       "</table>\n",
       "</div>"
      ],
      "text/plain": [
       "   S.No. Registration Id                             Name  \\\n",
       "0      1      23BA1A4271                        K.Karthik   \n",
       "1      2      23BQ1A05N1                  Vadlamudi Ramya   \n",
       "2      3      23BQ1A4201  Adhimulam Bhargav Sai Viswanath   \n",
       "\n",
       "                             Email   Mobile No  \n",
       "0      karthikkakumanu09@gmail.com  9848139894  \n",
       "1       vadlamudiramya87@gmail.com  7337001554  \n",
       "2  bhargavsaiadhimulam12@gmail.com  7013833594  "
      ]
     },
     "execution_count": 61,
     "metadata": {},
     "output_type": "execute_result"
    }
   ],
   "source": [
    "data.head(3) # first 3 samples"
   ]
  },
  {
   "cell_type": "code",
   "execution_count": 62,
   "id": "aa99c90d",
   "metadata": {
    "collapsed": true
   },
   "outputs": [
    {
     "data": {
      "text/html": [
       "<div>\n",
       "<style scoped>\n",
       "    .dataframe tbody tr th:only-of-type {\n",
       "        vertical-align: middle;\n",
       "    }\n",
       "\n",
       "    .dataframe tbody tr th {\n",
       "        vertical-align: top;\n",
       "    }\n",
       "\n",
       "    .dataframe thead th {\n",
       "        text-align: right;\n",
       "    }\n",
       "</style>\n",
       "<table border=\"1\" class=\"dataframe\">\n",
       "  <thead>\n",
       "    <tr style=\"text-align: right;\">\n",
       "      <th></th>\n",
       "      <th>S.No.</th>\n",
       "      <th>Registration Id</th>\n",
       "      <th>Name</th>\n",
       "      <th>Email</th>\n",
       "      <th>Mobile No</th>\n",
       "    </tr>\n",
       "  </thead>\n",
       "  <tbody>\n",
       "    <tr>\n",
       "      <th>379</th>\n",
       "      <td>380</td>\n",
       "      <td>24BQ5A6138</td>\n",
       "      <td>Shaik Vaseem</td>\n",
       "      <td>vaseemshaik090@gmail.com</td>\n",
       "      <td>7995979089</td>\n",
       "    </tr>\n",
       "    <tr>\n",
       "      <th>380</th>\n",
       "      <td>381</td>\n",
       "      <td>24BQ5A6139</td>\n",
       "      <td>Thotakura Amarendra Kumar</td>\n",
       "      <td>kumarthotakuraamarendra@gmail.com</td>\n",
       "      <td>8499903775</td>\n",
       "    </tr>\n",
       "    <tr>\n",
       "      <th>381</th>\n",
       "      <td>382</td>\n",
       "      <td>24BQ5A6140</td>\n",
       "      <td>Thotakura Mahesh</td>\n",
       "      <td>thotakuramahesh0693@gmail.com</td>\n",
       "      <td>9618752221</td>\n",
       "    </tr>\n",
       "    <tr>\n",
       "      <th>382</th>\n",
       "      <td>383</td>\n",
       "      <td>24BQ5A6143</td>\n",
       "      <td>D. Venkatadri Naidu</td>\n",
       "      <td>venkatchowdaryduggineni@gmail.com</td>\n",
       "      <td>9133913683</td>\n",
       "    </tr>\n",
       "    <tr>\n",
       "      <th>383</th>\n",
       "      <td>384</td>\n",
       "      <td>24bq5a6121</td>\n",
       "      <td>Chejarla Vishnu Vardhan</td>\n",
       "      <td>Chejarlavishnuvardhan603@gmail.com</td>\n",
       "      <td>9059471263</td>\n",
       "    </tr>\n",
       "  </tbody>\n",
       "</table>\n",
       "</div>"
      ],
      "text/plain": [
       "     S.No. Registration Id                       Name  \\\n",
       "379    380      24BQ5A6138               Shaik Vaseem   \n",
       "380    381      24BQ5A6139  Thotakura Amarendra Kumar   \n",
       "381    382      24BQ5A6140           Thotakura Mahesh   \n",
       "382    383      24BQ5A6143        D. Venkatadri Naidu   \n",
       "383    384      24bq5a6121    Chejarla Vishnu Vardhan   \n",
       "\n",
       "                                  Email   Mobile No  \n",
       "379            vaseemshaik090@gmail.com  7995979089  \n",
       "380   kumarthotakuraamarendra@gmail.com  8499903775  \n",
       "381       thotakuramahesh0693@gmail.com  9618752221  \n",
       "382   venkatchowdaryduggineni@gmail.com  9133913683  \n",
       "383  Chejarlavishnuvardhan603@gmail.com  9059471263  "
      ]
     },
     "execution_count": 62,
     "metadata": {},
     "output_type": "execute_result"
    }
   ],
   "source": [
    "data.tail() # last 5 samples by default"
   ]
  },
  {
   "cell_type": "code",
   "execution_count": 63,
   "id": "fa1c954f",
   "metadata": {
    "collapsed": true
   },
   "outputs": [
    {
     "data": {
      "text/html": [
       "<div>\n",
       "<style scoped>\n",
       "    .dataframe tbody tr th:only-of-type {\n",
       "        vertical-align: middle;\n",
       "    }\n",
       "\n",
       "    .dataframe tbody tr th {\n",
       "        vertical-align: top;\n",
       "    }\n",
       "\n",
       "    .dataframe thead th {\n",
       "        text-align: right;\n",
       "    }\n",
       "</style>\n",
       "<table border=\"1\" class=\"dataframe\">\n",
       "  <thead>\n",
       "    <tr style=\"text-align: right;\">\n",
       "      <th></th>\n",
       "      <th>S.No.</th>\n",
       "      <th>Registration Id</th>\n",
       "      <th>Name</th>\n",
       "      <th>Email</th>\n",
       "      <th>Mobile No</th>\n",
       "    </tr>\n",
       "  </thead>\n",
       "  <tbody>\n",
       "    <tr>\n",
       "      <th>381</th>\n",
       "      <td>382</td>\n",
       "      <td>24BQ5A6140</td>\n",
       "      <td>Thotakura Mahesh</td>\n",
       "      <td>thotakuramahesh0693@gmail.com</td>\n",
       "      <td>9618752221</td>\n",
       "    </tr>\n",
       "    <tr>\n",
       "      <th>382</th>\n",
       "      <td>383</td>\n",
       "      <td>24BQ5A6143</td>\n",
       "      <td>D. Venkatadri Naidu</td>\n",
       "      <td>venkatchowdaryduggineni@gmail.com</td>\n",
       "      <td>9133913683</td>\n",
       "    </tr>\n",
       "    <tr>\n",
       "      <th>383</th>\n",
       "      <td>384</td>\n",
       "      <td>24bq5a6121</td>\n",
       "      <td>Chejarla Vishnu Vardhan</td>\n",
       "      <td>Chejarlavishnuvardhan603@gmail.com</td>\n",
       "      <td>9059471263</td>\n",
       "    </tr>\n",
       "  </tbody>\n",
       "</table>\n",
       "</div>"
      ],
      "text/plain": [
       "     S.No. Registration Id                     Name  \\\n",
       "381    382      24BQ5A6140         Thotakura Mahesh   \n",
       "382    383      24BQ5A6143      D. Venkatadri Naidu   \n",
       "383    384      24bq5a6121  Chejarla Vishnu Vardhan   \n",
       "\n",
       "                                  Email   Mobile No  \n",
       "381       thotakuramahesh0693@gmail.com  9618752221  \n",
       "382   venkatchowdaryduggineni@gmail.com  9133913683  \n",
       "383  Chejarlavishnuvardhan603@gmail.com  9059471263  "
      ]
     },
     "execution_count": 63,
     "metadata": {},
     "output_type": "execute_result"
    }
   ],
   "source": [
    "data.tail(3) # last n samples"
   ]
  },
  {
   "cell_type": "code",
   "execution_count": 68,
   "id": "0f75a82c",
   "metadata": {},
   "outputs": [
    {
     "data": {
      "text/html": [
       "<div>\n",
       "<style scoped>\n",
       "    .dataframe tbody tr th:only-of-type {\n",
       "        vertical-align: middle;\n",
       "    }\n",
       "\n",
       "    .dataframe tbody tr th {\n",
       "        vertical-align: top;\n",
       "    }\n",
       "\n",
       "    .dataframe thead th {\n",
       "        text-align: right;\n",
       "    }\n",
       "</style>\n",
       "<table border=\"1\" class=\"dataframe\">\n",
       "  <thead>\n",
       "    <tr style=\"text-align: right;\">\n",
       "      <th></th>\n",
       "      <th>S.No.</th>\n",
       "      <th>Registration Id</th>\n",
       "      <th>Name</th>\n",
       "      <th>Email</th>\n",
       "      <th>Mobile No</th>\n",
       "    </tr>\n",
       "  </thead>\n",
       "  <tbody>\n",
       "    <tr>\n",
       "      <th>341</th>\n",
       "      <td>342</td>\n",
       "      <td>24BQ5A4216</td>\n",
       "      <td>Palla Vennela</td>\n",
       "      <td>pallavennela88@gmail.com</td>\n",
       "      <td>9959606346</td>\n",
       "    </tr>\n",
       "  </tbody>\n",
       "</table>\n",
       "</div>"
      ],
      "text/plain": [
       "     S.No. Registration Id           Name                     Email  \\\n",
       "341    342      24BQ5A4216  Palla Vennela  pallavennela88@gmail.com   \n",
       "\n",
       "      Mobile No  \n",
       "341  9959606346  "
      ]
     },
     "execution_count": 68,
     "metadata": {},
     "output_type": "execute_result"
    }
   ],
   "source": [
    "data.sample() # random sample/row"
   ]
  },
  {
   "cell_type": "code",
   "execution_count": 69,
   "id": "d7121ef7",
   "metadata": {
    "collapsed": true
   },
   "outputs": [
    {
     "data": {
      "text/html": [
       "<div>\n",
       "<style scoped>\n",
       "    .dataframe tbody tr th:only-of-type {\n",
       "        vertical-align: middle;\n",
       "    }\n",
       "\n",
       "    .dataframe tbody tr th {\n",
       "        vertical-align: top;\n",
       "    }\n",
       "\n",
       "    .dataframe thead th {\n",
       "        text-align: right;\n",
       "    }\n",
       "</style>\n",
       "<table border=\"1\" class=\"dataframe\">\n",
       "  <thead>\n",
       "    <tr style=\"text-align: right;\">\n",
       "      <th></th>\n",
       "      <th>S.No.</th>\n",
       "      <th>Registration Id</th>\n",
       "      <th>Name</th>\n",
       "      <th>Email</th>\n",
       "      <th>Mobile No</th>\n",
       "    </tr>\n",
       "  </thead>\n",
       "  <tbody>\n",
       "    <tr>\n",
       "      <th>51</th>\n",
       "      <td>52</td>\n",
       "      <td>23BQ1A4253</td>\n",
       "      <td>Gollapudi.Sai Geethika</td>\n",
       "      <td>gollapudisaigeethika2006@gmail.com</td>\n",
       "      <td>9492261228</td>\n",
       "    </tr>\n",
       "    <tr>\n",
       "      <th>68</th>\n",
       "      <td>69</td>\n",
       "      <td>23BQ1A4274</td>\n",
       "      <td>Kasa Harendra</td>\n",
       "      <td>harendrakasa@gmail.com</td>\n",
       "      <td>9949930395</td>\n",
       "    </tr>\n",
       "    <tr>\n",
       "      <th>353</th>\n",
       "      <td>354</td>\n",
       "      <td>24BQ5A6109</td>\n",
       "      <td>Meda Harika</td>\n",
       "      <td>harikameda2006@gmail.com</td>\n",
       "      <td>9391470798</td>\n",
       "    </tr>\n",
       "    <tr>\n",
       "      <th>230</th>\n",
       "      <td>231</td>\n",
       "      <td>23BQ1A6161</td>\n",
       "      <td>Kethavath Kavya</td>\n",
       "      <td>kavyakethavath85@gmail.com</td>\n",
       "      <td>7671081718</td>\n",
       "    </tr>\n",
       "    <tr>\n",
       "      <th>347</th>\n",
       "      <td>348</td>\n",
       "      <td>24BQ5A6102</td>\n",
       "      <td>Chopparapu Veera Brahmam</td>\n",
       "      <td>chopparapuveerabrahamam@gmail.com</td>\n",
       "      <td>9347601671</td>\n",
       "    </tr>\n",
       "    <tr>\n",
       "      <th>354</th>\n",
       "      <td>355</td>\n",
       "      <td>24BQ5A6110</td>\n",
       "      <td>Marri Kavya Lakshmi</td>\n",
       "      <td>marrikavya90@gmail.com</td>\n",
       "      <td>9959734009</td>\n",
       "    </tr>\n",
       "    <tr>\n",
       "      <th>152</th>\n",
       "      <td>153</td>\n",
       "      <td>23BQ1A42H1</td>\n",
       "      <td>Thammisetty Vamsi Krishna</td>\n",
       "      <td>tvk6673@gmail.com</td>\n",
       "      <td>7050174143</td>\n",
       "    </tr>\n",
       "    <tr>\n",
       "      <th>277</th>\n",
       "      <td>278</td>\n",
       "      <td>23BQ1A61B1</td>\n",
       "      <td>Puli Yogendra Sai</td>\n",
       "      <td>yogendrasaipuli@gmail.com</td>\n",
       "      <td>9182243331</td>\n",
       "    </tr>\n",
       "    <tr>\n",
       "      <th>66</th>\n",
       "      <td>67</td>\n",
       "      <td>23BQ1A4272</td>\n",
       "      <td>Rahul</td>\n",
       "      <td>kanaparthirahul2005@gmail.com</td>\n",
       "      <td>9346575129</td>\n",
       "    </tr>\n",
       "    <tr>\n",
       "      <th>120</th>\n",
       "      <td>121</td>\n",
       "      <td>23BQ1A42D7</td>\n",
       "      <td>Peddu Tanishkha</td>\n",
       "      <td>tanishkhapeddu@gmail.com</td>\n",
       "      <td>9705481239</td>\n",
       "    </tr>\n",
       "    <tr>\n",
       "      <th>198</th>\n",
       "      <td>199</td>\n",
       "      <td>23BQ1A6123</td>\n",
       "      <td>Chintapalli Teja Sri</td>\n",
       "      <td>tejasrichintapalli5@gmail.com</td>\n",
       "      <td>9121454512</td>\n",
       "    </tr>\n",
       "    <tr>\n",
       "      <th>149</th>\n",
       "      <td>150</td>\n",
       "      <td>23BQ1A42G7</td>\n",
       "      <td>Sree Manju Veeran</td>\n",
       "      <td>ksreemanjuveeran@gmail.com</td>\n",
       "      <td>9491381002</td>\n",
       "    </tr>\n",
       "    <tr>\n",
       "      <th>171</th>\n",
       "      <td>172</td>\n",
       "      <td>23BQ1A42I9</td>\n",
       "      <td>Yele Harshitha</td>\n",
       "      <td>harshithayele2005@gmail.com</td>\n",
       "      <td>7306717274</td>\n",
       "    </tr>\n",
       "    <tr>\n",
       "      <th>137</th>\n",
       "      <td>138</td>\n",
       "      <td>23BQ1A42F4</td>\n",
       "      <td>Sana Kalpana</td>\n",
       "      <td>kalpanasana4@gmail.com</td>\n",
       "      <td>7989219968</td>\n",
       "    </tr>\n",
       "    <tr>\n",
       "      <th>133</th>\n",
       "      <td>134</td>\n",
       "      <td>23BQ1A42F0</td>\n",
       "      <td>Vijay Rayapudi</td>\n",
       "      <td>vijayrayapudi44@gmail.com</td>\n",
       "      <td>9989870852</td>\n",
       "    </tr>\n",
       "    <tr>\n",
       "      <th>24</th>\n",
       "      <td>25</td>\n",
       "      <td>23BQ1A4223</td>\n",
       "      <td>B Vamsi Krishna Reddy</td>\n",
       "      <td>konda8052@gmail.com</td>\n",
       "      <td>9515169914</td>\n",
       "    </tr>\n",
       "    <tr>\n",
       "      <th>343</th>\n",
       "      <td>344</td>\n",
       "      <td>24BQ5A4218</td>\n",
       "      <td>Vellaturi Jyoshna Sri</td>\n",
       "      <td>jyoshnasri1406@gmail.com</td>\n",
       "      <td>9912472740</td>\n",
       "    </tr>\n",
       "    <tr>\n",
       "      <th>109</th>\n",
       "      <td>110</td>\n",
       "      <td>23BQ1A42C5</td>\n",
       "      <td>Nandeu Teja</td>\n",
       "      <td>tejanandru79@gmail.com</td>\n",
       "      <td>8074959537</td>\n",
       "    </tr>\n",
       "    <tr>\n",
       "      <th>6</th>\n",
       "      <td>7</td>\n",
       "      <td>23BQ1A4205</td>\n",
       "      <td>Ala Ramya Sesha Sri</td>\n",
       "      <td>ramyaseshasriala@gmail.com</td>\n",
       "      <td>7207394189</td>\n",
       "    </tr>\n",
       "    <tr>\n",
       "      <th>321</th>\n",
       "      <td>322</td>\n",
       "      <td>23BQ1A61F7</td>\n",
       "      <td>Varikuti Dharaneeswar</td>\n",
       "      <td>varikutidharaneeswar13@gmail.com</td>\n",
       "      <td>9391374095</td>\n",
       "    </tr>\n",
       "  </tbody>\n",
       "</table>\n",
       "</div>"
      ],
      "text/plain": [
       "     S.No. Registration Id                       Name  \\\n",
       "51      52      23BQ1A4253     Gollapudi.Sai Geethika   \n",
       "68      69      23BQ1A4274              Kasa Harendra   \n",
       "353    354      24BQ5A6109                Meda Harika   \n",
       "230    231      23BQ1A6161            Kethavath Kavya   \n",
       "347    348      24BQ5A6102   Chopparapu Veera Brahmam   \n",
       "354    355      24BQ5A6110        Marri Kavya Lakshmi   \n",
       "152    153      23BQ1A42H1  Thammisetty Vamsi Krishna   \n",
       "277    278      23BQ1A61B1          Puli Yogendra Sai   \n",
       "66      67      23BQ1A4272                      Rahul   \n",
       "120    121      23BQ1A42D7            Peddu Tanishkha   \n",
       "198    199      23BQ1A6123       Chintapalli Teja Sri   \n",
       "149    150      23BQ1A42G7          Sree Manju Veeran   \n",
       "171    172      23BQ1A42I9             Yele Harshitha   \n",
       "137    138      23BQ1A42F4               Sana Kalpana   \n",
       "133    134      23BQ1A42F0             Vijay Rayapudi   \n",
       "24      25      23BQ1A4223      B Vamsi Krishna Reddy   \n",
       "343    344      24BQ5A4218      Vellaturi Jyoshna Sri   \n",
       "109    110      23BQ1A42C5                Nandeu Teja   \n",
       "6        7      23BQ1A4205        Ala Ramya Sesha Sri   \n",
       "321    322      23BQ1A61F7      Varikuti Dharaneeswar   \n",
       "\n",
       "                                  Email   Mobile No  \n",
       "51   gollapudisaigeethika2006@gmail.com  9492261228  \n",
       "68               harendrakasa@gmail.com  9949930395  \n",
       "353            harikameda2006@gmail.com  9391470798  \n",
       "230          kavyakethavath85@gmail.com  7671081718  \n",
       "347   chopparapuveerabrahamam@gmail.com  9347601671  \n",
       "354              marrikavya90@gmail.com  9959734009  \n",
       "152                   tvk6673@gmail.com  7050174143  \n",
       "277           yogendrasaipuli@gmail.com  9182243331  \n",
       "66        kanaparthirahul2005@gmail.com  9346575129  \n",
       "120            tanishkhapeddu@gmail.com  9705481239  \n",
       "198       tejasrichintapalli5@gmail.com  9121454512  \n",
       "149          ksreemanjuveeran@gmail.com  9491381002  \n",
       "171         harshithayele2005@gmail.com  7306717274  \n",
       "137              kalpanasana4@gmail.com  7989219968  \n",
       "133           vijayrayapudi44@gmail.com  9989870852  \n",
       "24                  konda8052@gmail.com  9515169914  \n",
       "343            jyoshnasri1406@gmail.com  9912472740  \n",
       "109              tejanandru79@gmail.com  8074959537  \n",
       "6            ramyaseshasriala@gmail.com  7207394189  \n",
       "321    varikutidharaneeswar13@gmail.com  9391374095  "
      ]
     },
     "execution_count": 69,
     "metadata": {},
     "output_type": "execute_result"
    }
   ],
   "source": [
    "data.sample(20) # n random samples"
   ]
  },
  {
   "cell_type": "code",
   "execution_count": 70,
   "id": "108dd008",
   "metadata": {
    "collapsed": true
   },
   "outputs": [
    {
     "data": {
      "text/html": [
       "<div>\n",
       "<style scoped>\n",
       "    .dataframe tbody tr th:only-of-type {\n",
       "        vertical-align: middle;\n",
       "    }\n",
       "\n",
       "    .dataframe tbody tr th {\n",
       "        vertical-align: top;\n",
       "    }\n",
       "\n",
       "    .dataframe thead th {\n",
       "        text-align: right;\n",
       "    }\n",
       "</style>\n",
       "<table border=\"1\" class=\"dataframe\">\n",
       "  <thead>\n",
       "    <tr style=\"text-align: right;\">\n",
       "      <th></th>\n",
       "      <th>S.No.</th>\n",
       "      <th>Mobile No</th>\n",
       "    </tr>\n",
       "  </thead>\n",
       "  <tbody>\n",
       "    <tr>\n",
       "      <th>count</th>\n",
       "      <td>384.000000</td>\n",
       "      <td>3.840000e+02</td>\n",
       "    </tr>\n",
       "    <tr>\n",
       "      <th>mean</th>\n",
       "      <td>192.500000</td>\n",
       "      <td>8.742263e+09</td>\n",
       "    </tr>\n",
       "    <tr>\n",
       "      <th>std</th>\n",
       "      <td>110.995495</td>\n",
       "      <td>8.797045e+08</td>\n",
       "    </tr>\n",
       "    <tr>\n",
       "      <th>min</th>\n",
       "      <td>1.000000</td>\n",
       "      <td>6.302226e+09</td>\n",
       "    </tr>\n",
       "    <tr>\n",
       "      <th>25%</th>\n",
       "      <td>96.750000</td>\n",
       "      <td>8.019265e+09</td>\n",
       "    </tr>\n",
       "    <tr>\n",
       "      <th>50%</th>\n",
       "      <td>192.500000</td>\n",
       "      <td>9.005252e+09</td>\n",
       "    </tr>\n",
       "    <tr>\n",
       "      <th>75%</th>\n",
       "      <td>288.250000</td>\n",
       "      <td>9.441146e+09</td>\n",
       "    </tr>\n",
       "    <tr>\n",
       "      <th>max</th>\n",
       "      <td>384.000000</td>\n",
       "      <td>9.989871e+09</td>\n",
       "    </tr>\n",
       "  </tbody>\n",
       "</table>\n",
       "</div>"
      ],
      "text/plain": [
       "            S.No.     Mobile No\n",
       "count  384.000000  3.840000e+02\n",
       "mean   192.500000  8.742263e+09\n",
       "std    110.995495  8.797045e+08\n",
       "min      1.000000  6.302226e+09\n",
       "25%     96.750000  8.019265e+09\n",
       "50%    192.500000  9.005252e+09\n",
       "75%    288.250000  9.441146e+09\n",
       "max    384.000000  9.989871e+09"
      ]
     },
     "execution_count": 70,
     "metadata": {},
     "output_type": "execute_result"
    }
   ],
   "source": [
    "data.describe() # statistics of the data"
   ]
  },
  {
   "cell_type": "code",
   "execution_count": 71,
   "id": "2dfcdd9a",
   "metadata": {
    "collapsed": true
   },
   "outputs": [
    {
     "name": "stdout",
     "output_type": "stream",
     "text": [
      "<class 'pandas.core.frame.DataFrame'>\n",
      "RangeIndex: 384 entries, 0 to 383\n",
      "Data columns (total 5 columns):\n",
      " #   Column           Non-Null Count  Dtype \n",
      "---  ------           --------------  ----- \n",
      " 0   S.No.            384 non-null    int64 \n",
      " 1   Registration Id  384 non-null    object\n",
      " 2   Name             384 non-null    object\n",
      " 3   Email            384 non-null    object\n",
      " 4   Mobile No        384 non-null    int64 \n",
      "dtypes: int64(2), object(3)\n",
      "memory usage: 15.1+ KB\n"
     ]
    }
   ],
   "source": [
    "data.info()  # textual info"
   ]
  },
  {
   "cell_type": "code",
   "execution_count": 72,
   "id": "49783ba8",
   "metadata": {
    "collapsed": true
   },
   "outputs": [
    {
     "data": {
      "text/html": [
       "<div>\n",
       "<style scoped>\n",
       "    .dataframe tbody tr th:only-of-type {\n",
       "        vertical-align: middle;\n",
       "    }\n",
       "\n",
       "    .dataframe tbody tr th {\n",
       "        vertical-align: top;\n",
       "    }\n",
       "\n",
       "    .dataframe thead th {\n",
       "        text-align: right;\n",
       "    }\n",
       "</style>\n",
       "<table border=\"1\" class=\"dataframe\">\n",
       "  <thead>\n",
       "    <tr style=\"text-align: right;\">\n",
       "      <th></th>\n",
       "      <th>S.No.</th>\n",
       "      <th>Registration Id</th>\n",
       "      <th>Name</th>\n",
       "      <th>Email</th>\n",
       "      <th>Mobile No</th>\n",
       "    </tr>\n",
       "  </thead>\n",
       "  <tbody>\n",
       "    <tr>\n",
       "      <th>0</th>\n",
       "      <td>False</td>\n",
       "      <td>False</td>\n",
       "      <td>False</td>\n",
       "      <td>False</td>\n",
       "      <td>False</td>\n",
       "    </tr>\n",
       "    <tr>\n",
       "      <th>1</th>\n",
       "      <td>False</td>\n",
       "      <td>False</td>\n",
       "      <td>False</td>\n",
       "      <td>False</td>\n",
       "      <td>False</td>\n",
       "    </tr>\n",
       "    <tr>\n",
       "      <th>2</th>\n",
       "      <td>False</td>\n",
       "      <td>False</td>\n",
       "      <td>False</td>\n",
       "      <td>False</td>\n",
       "      <td>False</td>\n",
       "    </tr>\n",
       "    <tr>\n",
       "      <th>3</th>\n",
       "      <td>False</td>\n",
       "      <td>False</td>\n",
       "      <td>False</td>\n",
       "      <td>False</td>\n",
       "      <td>False</td>\n",
       "    </tr>\n",
       "    <tr>\n",
       "      <th>4</th>\n",
       "      <td>False</td>\n",
       "      <td>False</td>\n",
       "      <td>False</td>\n",
       "      <td>False</td>\n",
       "      <td>False</td>\n",
       "    </tr>\n",
       "    <tr>\n",
       "      <th>...</th>\n",
       "      <td>...</td>\n",
       "      <td>...</td>\n",
       "      <td>...</td>\n",
       "      <td>...</td>\n",
       "      <td>...</td>\n",
       "    </tr>\n",
       "    <tr>\n",
       "      <th>379</th>\n",
       "      <td>False</td>\n",
       "      <td>False</td>\n",
       "      <td>False</td>\n",
       "      <td>False</td>\n",
       "      <td>False</td>\n",
       "    </tr>\n",
       "    <tr>\n",
       "      <th>380</th>\n",
       "      <td>False</td>\n",
       "      <td>False</td>\n",
       "      <td>False</td>\n",
       "      <td>False</td>\n",
       "      <td>False</td>\n",
       "    </tr>\n",
       "    <tr>\n",
       "      <th>381</th>\n",
       "      <td>False</td>\n",
       "      <td>False</td>\n",
       "      <td>False</td>\n",
       "      <td>False</td>\n",
       "      <td>False</td>\n",
       "    </tr>\n",
       "    <tr>\n",
       "      <th>382</th>\n",
       "      <td>False</td>\n",
       "      <td>False</td>\n",
       "      <td>False</td>\n",
       "      <td>False</td>\n",
       "      <td>False</td>\n",
       "    </tr>\n",
       "    <tr>\n",
       "      <th>383</th>\n",
       "      <td>False</td>\n",
       "      <td>False</td>\n",
       "      <td>False</td>\n",
       "      <td>False</td>\n",
       "      <td>False</td>\n",
       "    </tr>\n",
       "  </tbody>\n",
       "</table>\n",
       "<p>384 rows × 5 columns</p>\n",
       "</div>"
      ],
      "text/plain": [
       "     S.No.  Registration Id   Name  Email  Mobile No\n",
       "0    False            False  False  False      False\n",
       "1    False            False  False  False      False\n",
       "2    False            False  False  False      False\n",
       "3    False            False  False  False      False\n",
       "4    False            False  False  False      False\n",
       "..     ...              ...    ...    ...        ...\n",
       "379  False            False  False  False      False\n",
       "380  False            False  False  False      False\n",
       "381  False            False  False  False      False\n",
       "382  False            False  False  False      False\n",
       "383  False            False  False  False      False\n",
       "\n",
       "[384 rows x 5 columns]"
      ]
     },
     "execution_count": 72,
     "metadata": {},
     "output_type": "execute_result"
    }
   ],
   "source": [
    "data.isnull()"
   ]
  },
  {
   "cell_type": "code",
   "execution_count": 73,
   "id": "65403f24",
   "metadata": {
    "collapsed": true
   },
   "outputs": [
    {
     "data": {
      "text/html": [
       "<div>\n",
       "<style scoped>\n",
       "    .dataframe tbody tr th:only-of-type {\n",
       "        vertical-align: middle;\n",
       "    }\n",
       "\n",
       "    .dataframe tbody tr th {\n",
       "        vertical-align: top;\n",
       "    }\n",
       "\n",
       "    .dataframe thead th {\n",
       "        text-align: right;\n",
       "    }\n",
       "</style>\n",
       "<table border=\"1\" class=\"dataframe\">\n",
       "  <thead>\n",
       "    <tr style=\"text-align: right;\">\n",
       "      <th></th>\n",
       "      <th>S.No.</th>\n",
       "      <th>Registration Id</th>\n",
       "      <th>Name</th>\n",
       "      <th>Email</th>\n",
       "      <th>Mobile No</th>\n",
       "    </tr>\n",
       "  </thead>\n",
       "  <tbody>\n",
       "    <tr>\n",
       "      <th>0</th>\n",
       "      <td>False</td>\n",
       "      <td>False</td>\n",
       "      <td>False</td>\n",
       "      <td>False</td>\n",
       "      <td>False</td>\n",
       "    </tr>\n",
       "    <tr>\n",
       "      <th>1</th>\n",
       "      <td>False</td>\n",
       "      <td>False</td>\n",
       "      <td>False</td>\n",
       "      <td>False</td>\n",
       "      <td>False</td>\n",
       "    </tr>\n",
       "    <tr>\n",
       "      <th>2</th>\n",
       "      <td>False</td>\n",
       "      <td>False</td>\n",
       "      <td>False</td>\n",
       "      <td>False</td>\n",
       "      <td>False</td>\n",
       "    </tr>\n",
       "    <tr>\n",
       "      <th>3</th>\n",
       "      <td>False</td>\n",
       "      <td>False</td>\n",
       "      <td>False</td>\n",
       "      <td>False</td>\n",
       "      <td>False</td>\n",
       "    </tr>\n",
       "    <tr>\n",
       "      <th>4</th>\n",
       "      <td>False</td>\n",
       "      <td>False</td>\n",
       "      <td>False</td>\n",
       "      <td>False</td>\n",
       "      <td>False</td>\n",
       "    </tr>\n",
       "    <tr>\n",
       "      <th>...</th>\n",
       "      <td>...</td>\n",
       "      <td>...</td>\n",
       "      <td>...</td>\n",
       "      <td>...</td>\n",
       "      <td>...</td>\n",
       "    </tr>\n",
       "    <tr>\n",
       "      <th>379</th>\n",
       "      <td>False</td>\n",
       "      <td>False</td>\n",
       "      <td>False</td>\n",
       "      <td>False</td>\n",
       "      <td>False</td>\n",
       "    </tr>\n",
       "    <tr>\n",
       "      <th>380</th>\n",
       "      <td>False</td>\n",
       "      <td>False</td>\n",
       "      <td>False</td>\n",
       "      <td>False</td>\n",
       "      <td>False</td>\n",
       "    </tr>\n",
       "    <tr>\n",
       "      <th>381</th>\n",
       "      <td>False</td>\n",
       "      <td>False</td>\n",
       "      <td>False</td>\n",
       "      <td>False</td>\n",
       "      <td>False</td>\n",
       "    </tr>\n",
       "    <tr>\n",
       "      <th>382</th>\n",
       "      <td>False</td>\n",
       "      <td>False</td>\n",
       "      <td>False</td>\n",
       "      <td>False</td>\n",
       "      <td>False</td>\n",
       "    </tr>\n",
       "    <tr>\n",
       "      <th>383</th>\n",
       "      <td>False</td>\n",
       "      <td>False</td>\n",
       "      <td>False</td>\n",
       "      <td>False</td>\n",
       "      <td>False</td>\n",
       "    </tr>\n",
       "  </tbody>\n",
       "</table>\n",
       "<p>384 rows × 5 columns</p>\n",
       "</div>"
      ],
      "text/plain": [
       "     S.No.  Registration Id   Name  Email  Mobile No\n",
       "0    False            False  False  False      False\n",
       "1    False            False  False  False      False\n",
       "2    False            False  False  False      False\n",
       "3    False            False  False  False      False\n",
       "4    False            False  False  False      False\n",
       "..     ...              ...    ...    ...        ...\n",
       "379  False            False  False  False      False\n",
       "380  False            False  False  False      False\n",
       "381  False            False  False  False      False\n",
       "382  False            False  False  False      False\n",
       "383  False            False  False  False      False\n",
       "\n",
       "[384 rows x 5 columns]"
      ]
     },
     "execution_count": 73,
     "metadata": {},
     "output_type": "execute_result"
    }
   ],
   "source": [
    "data.isna()"
   ]
  },
  {
   "cell_type": "code",
   "execution_count": 74,
   "id": "cf75a19e",
   "metadata": {
    "collapsed": true
   },
   "outputs": [
    {
     "data": {
      "text/plain": [
       "S.No.                                                          73920\n",
       "Registration Id    23BA1A427123BQ1A05N123BQ1A420123BQ1A420223BQ1A...\n",
       "Name               K.KarthikVadlamudi RamyaAdhimulam Bhargav Sai ...\n",
       "Email              karthikkakumanu09@gmail.comvadlamudiramya87@gm...\n",
       "Mobile No                                              3357029061039\n",
       "dtype: object"
      ]
     },
     "execution_count": 74,
     "metadata": {},
     "output_type": "execute_result"
    }
   ],
   "source": [
    "data.sum()"
   ]
  },
  {
   "cell_type": "code",
   "execution_count": 75,
   "id": "5dc296fd",
   "metadata": {
    "collapsed": true
   },
   "outputs": [
    {
     "data": {
      "text/html": [
       "<div>\n",
       "<style scoped>\n",
       "    .dataframe tbody tr th:only-of-type {\n",
       "        vertical-align: middle;\n",
       "    }\n",
       "\n",
       "    .dataframe tbody tr th {\n",
       "        vertical-align: top;\n",
       "    }\n",
       "\n",
       "    .dataframe thead th {\n",
       "        text-align: right;\n",
       "    }\n",
       "</style>\n",
       "<table border=\"1\" class=\"dataframe\">\n",
       "  <thead>\n",
       "    <tr style=\"text-align: right;\">\n",
       "      <th></th>\n",
       "      <th>S.No.</th>\n",
       "      <th>Registration Id</th>\n",
       "      <th>Name</th>\n",
       "      <th>Email</th>\n",
       "      <th>Mobile No</th>\n",
       "      <th>year</th>\n",
       "    </tr>\n",
       "  </thead>\n",
       "  <tbody>\n",
       "    <tr>\n",
       "      <th>0</th>\n",
       "      <td>1</td>\n",
       "      <td>23BA1A4271</td>\n",
       "      <td>K.Karthik</td>\n",
       "      <td>karthikkakumanu09@gmail.com</td>\n",
       "      <td>9848139894</td>\n",
       "      <td>3</td>\n",
       "    </tr>\n",
       "    <tr>\n",
       "      <th>1</th>\n",
       "      <td>2</td>\n",
       "      <td>23BQ1A05N1</td>\n",
       "      <td>Vadlamudi Ramya</td>\n",
       "      <td>vadlamudiramya87@gmail.com</td>\n",
       "      <td>7337001554</td>\n",
       "      <td>3</td>\n",
       "    </tr>\n",
       "    <tr>\n",
       "      <th>2</th>\n",
       "      <td>3</td>\n",
       "      <td>23BQ1A4201</td>\n",
       "      <td>Adhimulam Bhargav Sai Viswanath</td>\n",
       "      <td>bhargavsaiadhimulam12@gmail.com</td>\n",
       "      <td>7013833594</td>\n",
       "      <td>3</td>\n",
       "    </tr>\n",
       "    <tr>\n",
       "      <th>3</th>\n",
       "      <td>4</td>\n",
       "      <td>23BQ1A4202</td>\n",
       "      <td>Agepati Venkata Sai Charan</td>\n",
       "      <td>cherry123abba@gmail.com</td>\n",
       "      <td>9618223895</td>\n",
       "      <td>3</td>\n",
       "    </tr>\n",
       "    <tr>\n",
       "      <th>4</th>\n",
       "      <td>5</td>\n",
       "      <td>23BQ1A4203</td>\n",
       "      <td>Akkala Umesh Karthik</td>\n",
       "      <td>umeshkarthik2006@gmail.com</td>\n",
       "      <td>8329610575</td>\n",
       "      <td>3</td>\n",
       "    </tr>\n",
       "    <tr>\n",
       "      <th>...</th>\n",
       "      <td>...</td>\n",
       "      <td>...</td>\n",
       "      <td>...</td>\n",
       "      <td>...</td>\n",
       "      <td>...</td>\n",
       "      <td>...</td>\n",
       "    </tr>\n",
       "    <tr>\n",
       "      <th>379</th>\n",
       "      <td>380</td>\n",
       "      <td>24BQ5A6138</td>\n",
       "      <td>Shaik Vaseem</td>\n",
       "      <td>vaseemshaik090@gmail.com</td>\n",
       "      <td>7995979089</td>\n",
       "      <td>3</td>\n",
       "    </tr>\n",
       "    <tr>\n",
       "      <th>380</th>\n",
       "      <td>381</td>\n",
       "      <td>24BQ5A6139</td>\n",
       "      <td>Thotakura Amarendra Kumar</td>\n",
       "      <td>kumarthotakuraamarendra@gmail.com</td>\n",
       "      <td>8499903775</td>\n",
       "      <td>3</td>\n",
       "    </tr>\n",
       "    <tr>\n",
       "      <th>381</th>\n",
       "      <td>382</td>\n",
       "      <td>24BQ5A6140</td>\n",
       "      <td>Thotakura Mahesh</td>\n",
       "      <td>thotakuramahesh0693@gmail.com</td>\n",
       "      <td>9618752221</td>\n",
       "      <td>3</td>\n",
       "    </tr>\n",
       "    <tr>\n",
       "      <th>382</th>\n",
       "      <td>383</td>\n",
       "      <td>24BQ5A6143</td>\n",
       "      <td>D. Venkatadri Naidu</td>\n",
       "      <td>venkatchowdaryduggineni@gmail.com</td>\n",
       "      <td>9133913683</td>\n",
       "      <td>3</td>\n",
       "    </tr>\n",
       "    <tr>\n",
       "      <th>383</th>\n",
       "      <td>384</td>\n",
       "      <td>24bq5a6121</td>\n",
       "      <td>Chejarla Vishnu Vardhan</td>\n",
       "      <td>Chejarlavishnuvardhan603@gmail.com</td>\n",
       "      <td>9059471263</td>\n",
       "      <td>3</td>\n",
       "    </tr>\n",
       "  </tbody>\n",
       "</table>\n",
       "<p>384 rows × 6 columns</p>\n",
       "</div>"
      ],
      "text/plain": [
       "     S.No. Registration Id                             Name  \\\n",
       "0        1      23BA1A4271                        K.Karthik   \n",
       "1        2      23BQ1A05N1                  Vadlamudi Ramya   \n",
       "2        3      23BQ1A4201  Adhimulam Bhargav Sai Viswanath   \n",
       "3        4      23BQ1A4202       Agepati Venkata Sai Charan   \n",
       "4        5      23BQ1A4203             Akkala Umesh Karthik   \n",
       "..     ...             ...                              ...   \n",
       "379    380      24BQ5A6138                     Shaik Vaseem   \n",
       "380    381      24BQ5A6139        Thotakura Amarendra Kumar   \n",
       "381    382      24BQ5A6140                 Thotakura Mahesh   \n",
       "382    383      24BQ5A6143              D. Venkatadri Naidu   \n",
       "383    384      24bq5a6121          Chejarla Vishnu Vardhan   \n",
       "\n",
       "                                  Email   Mobile No  year  \n",
       "0           karthikkakumanu09@gmail.com  9848139894     3  \n",
       "1            vadlamudiramya87@gmail.com  7337001554     3  \n",
       "2       bhargavsaiadhimulam12@gmail.com  7013833594     3  \n",
       "3               cherry123abba@gmail.com  9618223895     3  \n",
       "4            umeshkarthik2006@gmail.com  8329610575     3  \n",
       "..                                  ...         ...   ...  \n",
       "379            vaseemshaik090@gmail.com  7995979089     3  \n",
       "380   kumarthotakuraamarendra@gmail.com  8499903775     3  \n",
       "381       thotakuramahesh0693@gmail.com  9618752221     3  \n",
       "382   venkatchowdaryduggineni@gmail.com  9133913683     3  \n",
       "383  Chejarlavishnuvardhan603@gmail.com  9059471263     3  \n",
       "\n",
       "[384 rows x 6 columns]"
      ]
     },
     "execution_count": 75,
     "metadata": {},
     "output_type": "execute_result"
    }
   ],
   "source": [
    "# multiple cols [['','']]\n",
    "data['year']=3\n",
    "data"
   ]
  },
  {
   "cell_type": "code",
   "execution_count": 79,
   "id": "f0b5cab9",
   "metadata": {
    "collapsed": true
   },
   "outputs": [
    {
     "data": {
      "text/plain": [
       "Marri Kavya Lakshmi              True\n",
       "Savari Venkata Durga Deepthi     True\n",
       "Ande Venkata Vaibhav             True\n",
       "Pandula Bhargavi                 True\n",
       "Tokala Gopichand                 True\n",
       "                                ...  \n",
       "Ponduri Jagadish                False\n",
       "Podila Saswitha Rani            False\n",
       "Pikkili Harika                  False\n",
       "Karthikeya Pentela              False\n",
       "Chejarla Vishnu Vardhan         False\n",
       "Name: Name, Length: 379, dtype: bool"
      ]
     },
     "execution_count": 79,
     "metadata": {},
     "output_type": "execute_result"
    }
   ],
   "source": [
    "# repeated data -->delete\n",
    "data.Name.value_counts()==2"
   ]
  },
  {
   "cell_type": "code",
   "execution_count": 82,
   "id": "759eb63e",
   "metadata": {
    "collapsed": true
   },
   "outputs": [
    {
     "ename": "KeyError",
     "evalue": "'[True, True, True, True, True, False, False, False, False, False, False, False, False, False, False, False, False, False, False, False, False, False, False, False, False, False, False, False, False, False, False, False, False, False, False, False, False, False, False, False, False, False, False, False, False, False, False, False, False, False, False, False, False, False, False, False, False, False, False, False, False, False, False, False, False, False, False, False, False, False, False, False, False, False, False, False, False, False, False, False, False, False, False, False, False, False, False, False, False, False, False, False, False, False, False, False, False, False, False, False, False, False, False, False, False, False, False, False, False, False, False, False, False, False, False, False, False, False, False, False, False, False, False, False, False, False, False, False, False, False, False, False, False, False, False, False, False, False, False, False, False, False, False, False, False, False, False, False, False, False, False, False, False, False, False, False, False, False, False, False, False, False, False, False, False, False, False, False, False, False, False, False, False, False, False, False, False, False, False, False, False, False, False, False, False, False, False, False, False, False, False, False, False, False, False, False, False, False, False, False, False, False, False, False, False, False, False, False, False, False, False, False, False, False, False, False, False, False, False, False, False, False, False, False, False, False, False, False, False, False, False, False, False, False, False, False, False, False, False, False, False, False, False, False, False, False, False, False, False, False, False, False, False, False, False, False, False, False, False, False, False, False, False, False, False, False, False, False, False, False, False, False, False, False, False, False, False, False, False, False, False, False, False, False, False, False, False, False, False, False, False, False, False, False, False, False, False, False, False, False, False, False, False, False, False, False, False, False, False, False, False, False, False, False, False, False, False, False, False, False, False, False, False, False, False, False, False, False, False, False, False, False, False, False, False, False, False, False, False, False, False, False, False, False, False, False, False, False, False, False, False, False, False, False, False, False, False, False, False, False, False, False, False, False, False, False, False, False, False, False, False, False, False, False, False, False, False, False, False] not found in axis'",
     "output_type": "error",
     "traceback": [
      "\u001b[1;31m---------------------------------------------------------------------------\u001b[0m",
      "\u001b[1;31mKeyError\u001b[0m                                  Traceback (most recent call last)",
      "\u001b[1;32m~\\AppData\\Local\\Temp\\ipykernel_24884\\3809614337.py\u001b[0m in \u001b[0;36m<module>\u001b[1;34m\u001b[0m\n\u001b[1;32m----> 1\u001b[1;33m \u001b[0mdata\u001b[0m\u001b[1;33m.\u001b[0m\u001b[0mdrop\u001b[0m\u001b[1;33m(\u001b[0m\u001b[0mdata\u001b[0m\u001b[1;33m.\u001b[0m\u001b[0mName\u001b[0m\u001b[1;33m.\u001b[0m\u001b[0mvalue_counts\u001b[0m\u001b[1;33m(\u001b[0m\u001b[1;33m)\u001b[0m\u001b[1;33m==\u001b[0m\u001b[1;36m2\u001b[0m\u001b[1;33m)\u001b[0m\u001b[1;33m\u001b[0m\u001b[1;33m\u001b[0m\u001b[0m\n\u001b[0m",
      "\u001b[1;32m~\\anaconda3\\Anaconda\\lib\\site-packages\\pandas\\util\\_decorators.py\u001b[0m in \u001b[0;36mwrapper\u001b[1;34m(*args, **kwargs)\u001b[0m\n\u001b[0;32m    309\u001b[0m                     \u001b[0mstacklevel\u001b[0m\u001b[1;33m=\u001b[0m\u001b[0mstacklevel\u001b[0m\u001b[1;33m,\u001b[0m\u001b[1;33m\u001b[0m\u001b[1;33m\u001b[0m\u001b[0m\n\u001b[0;32m    310\u001b[0m                 )\n\u001b[1;32m--> 311\u001b[1;33m             \u001b[1;32mreturn\u001b[0m \u001b[0mfunc\u001b[0m\u001b[1;33m(\u001b[0m\u001b[1;33m*\u001b[0m\u001b[0margs\u001b[0m\u001b[1;33m,\u001b[0m \u001b[1;33m**\u001b[0m\u001b[0mkwargs\u001b[0m\u001b[1;33m)\u001b[0m\u001b[1;33m\u001b[0m\u001b[1;33m\u001b[0m\u001b[0m\n\u001b[0m\u001b[0;32m    312\u001b[0m \u001b[1;33m\u001b[0m\u001b[0m\n\u001b[0;32m    313\u001b[0m         \u001b[1;32mreturn\u001b[0m \u001b[0mwrapper\u001b[0m\u001b[1;33m\u001b[0m\u001b[1;33m\u001b[0m\u001b[0m\n",
      "\u001b[1;32m~\\anaconda3\\Anaconda\\lib\\site-packages\\pandas\\core\\frame.py\u001b[0m in \u001b[0;36mdrop\u001b[1;34m(self, labels, axis, index, columns, level, inplace, errors)\u001b[0m\n\u001b[0;32m   4955\u001b[0m                 \u001b[0mweight\u001b[0m  \u001b[1;36m1.0\u001b[0m     \u001b[1;36m0.8\u001b[0m\u001b[1;33m\u001b[0m\u001b[1;33m\u001b[0m\u001b[0m\n\u001b[0;32m   4956\u001b[0m         \"\"\"\n\u001b[1;32m-> 4957\u001b[1;33m         return super().drop(\n\u001b[0m\u001b[0;32m   4958\u001b[0m             \u001b[0mlabels\u001b[0m\u001b[1;33m=\u001b[0m\u001b[0mlabels\u001b[0m\u001b[1;33m,\u001b[0m\u001b[1;33m\u001b[0m\u001b[1;33m\u001b[0m\u001b[0m\n\u001b[0;32m   4959\u001b[0m             \u001b[0maxis\u001b[0m\u001b[1;33m=\u001b[0m\u001b[0maxis\u001b[0m\u001b[1;33m,\u001b[0m\u001b[1;33m\u001b[0m\u001b[1;33m\u001b[0m\u001b[0m\n",
      "\u001b[1;32m~\\anaconda3\\Anaconda\\lib\\site-packages\\pandas\\core\\generic.py\u001b[0m in \u001b[0;36mdrop\u001b[1;34m(self, labels, axis, index, columns, level, inplace, errors)\u001b[0m\n\u001b[0;32m   4265\u001b[0m         \u001b[1;32mfor\u001b[0m \u001b[0maxis\u001b[0m\u001b[1;33m,\u001b[0m \u001b[0mlabels\u001b[0m \u001b[1;32min\u001b[0m \u001b[0maxes\u001b[0m\u001b[1;33m.\u001b[0m\u001b[0mitems\u001b[0m\u001b[1;33m(\u001b[0m\u001b[1;33m)\u001b[0m\u001b[1;33m:\u001b[0m\u001b[1;33m\u001b[0m\u001b[1;33m\u001b[0m\u001b[0m\n\u001b[0;32m   4266\u001b[0m             \u001b[1;32mif\u001b[0m \u001b[0mlabels\u001b[0m \u001b[1;32mis\u001b[0m \u001b[1;32mnot\u001b[0m \u001b[1;32mNone\u001b[0m\u001b[1;33m:\u001b[0m\u001b[1;33m\u001b[0m\u001b[1;33m\u001b[0m\u001b[0m\n\u001b[1;32m-> 4267\u001b[1;33m                 \u001b[0mobj\u001b[0m \u001b[1;33m=\u001b[0m \u001b[0mobj\u001b[0m\u001b[1;33m.\u001b[0m\u001b[0m_drop_axis\u001b[0m\u001b[1;33m(\u001b[0m\u001b[0mlabels\u001b[0m\u001b[1;33m,\u001b[0m \u001b[0maxis\u001b[0m\u001b[1;33m,\u001b[0m \u001b[0mlevel\u001b[0m\u001b[1;33m=\u001b[0m\u001b[0mlevel\u001b[0m\u001b[1;33m,\u001b[0m \u001b[0merrors\u001b[0m\u001b[1;33m=\u001b[0m\u001b[0merrors\u001b[0m\u001b[1;33m)\u001b[0m\u001b[1;33m\u001b[0m\u001b[1;33m\u001b[0m\u001b[0m\n\u001b[0m\u001b[0;32m   4268\u001b[0m \u001b[1;33m\u001b[0m\u001b[0m\n\u001b[0;32m   4269\u001b[0m         \u001b[1;32mif\u001b[0m \u001b[0minplace\u001b[0m\u001b[1;33m:\u001b[0m\u001b[1;33m\u001b[0m\u001b[1;33m\u001b[0m\u001b[0m\n",
      "\u001b[1;32m~\\anaconda3\\Anaconda\\lib\\site-packages\\pandas\\core\\generic.py\u001b[0m in \u001b[0;36m_drop_axis\u001b[1;34m(self, labels, axis, level, errors, consolidate, only_slice)\u001b[0m\n\u001b[0;32m   4309\u001b[0m                 \u001b[0mnew_axis\u001b[0m \u001b[1;33m=\u001b[0m \u001b[0maxis\u001b[0m\u001b[1;33m.\u001b[0m\u001b[0mdrop\u001b[0m\u001b[1;33m(\u001b[0m\u001b[0mlabels\u001b[0m\u001b[1;33m,\u001b[0m \u001b[0mlevel\u001b[0m\u001b[1;33m=\u001b[0m\u001b[0mlevel\u001b[0m\u001b[1;33m,\u001b[0m \u001b[0merrors\u001b[0m\u001b[1;33m=\u001b[0m\u001b[0merrors\u001b[0m\u001b[1;33m)\u001b[0m\u001b[1;33m\u001b[0m\u001b[1;33m\u001b[0m\u001b[0m\n\u001b[0;32m   4310\u001b[0m             \u001b[1;32melse\u001b[0m\u001b[1;33m:\u001b[0m\u001b[1;33m\u001b[0m\u001b[1;33m\u001b[0m\u001b[0m\n\u001b[1;32m-> 4311\u001b[1;33m                 \u001b[0mnew_axis\u001b[0m \u001b[1;33m=\u001b[0m \u001b[0maxis\u001b[0m\u001b[1;33m.\u001b[0m\u001b[0mdrop\u001b[0m\u001b[1;33m(\u001b[0m\u001b[0mlabels\u001b[0m\u001b[1;33m,\u001b[0m \u001b[0merrors\u001b[0m\u001b[1;33m=\u001b[0m\u001b[0merrors\u001b[0m\u001b[1;33m)\u001b[0m\u001b[1;33m\u001b[0m\u001b[1;33m\u001b[0m\u001b[0m\n\u001b[0m\u001b[0;32m   4312\u001b[0m             \u001b[0mindexer\u001b[0m \u001b[1;33m=\u001b[0m \u001b[0maxis\u001b[0m\u001b[1;33m.\u001b[0m\u001b[0mget_indexer\u001b[0m\u001b[1;33m(\u001b[0m\u001b[0mnew_axis\u001b[0m\u001b[1;33m)\u001b[0m\u001b[1;33m\u001b[0m\u001b[1;33m\u001b[0m\u001b[0m\n\u001b[0;32m   4313\u001b[0m \u001b[1;33m\u001b[0m\u001b[0m\n",
      "\u001b[1;32m~\\anaconda3\\Anaconda\\lib\\site-packages\\pandas\\core\\indexes\\base.py\u001b[0m in \u001b[0;36mdrop\u001b[1;34m(self, labels, errors)\u001b[0m\n\u001b[0;32m   6659\u001b[0m         \u001b[1;32mif\u001b[0m \u001b[0mmask\u001b[0m\u001b[1;33m.\u001b[0m\u001b[0many\u001b[0m\u001b[1;33m(\u001b[0m\u001b[1;33m)\u001b[0m\u001b[1;33m:\u001b[0m\u001b[1;33m\u001b[0m\u001b[1;33m\u001b[0m\u001b[0m\n\u001b[0;32m   6660\u001b[0m             \u001b[1;32mif\u001b[0m \u001b[0merrors\u001b[0m \u001b[1;33m!=\u001b[0m \u001b[1;34m\"ignore\"\u001b[0m\u001b[1;33m:\u001b[0m\u001b[1;33m\u001b[0m\u001b[1;33m\u001b[0m\u001b[0m\n\u001b[1;32m-> 6661\u001b[1;33m                 \u001b[1;32mraise\u001b[0m \u001b[0mKeyError\u001b[0m\u001b[1;33m(\u001b[0m\u001b[1;34mf\"{list(labels[mask])} not found in axis\"\u001b[0m\u001b[1;33m)\u001b[0m\u001b[1;33m\u001b[0m\u001b[1;33m\u001b[0m\u001b[0m\n\u001b[0m\u001b[0;32m   6662\u001b[0m             \u001b[0mindexer\u001b[0m \u001b[1;33m=\u001b[0m \u001b[0mindexer\u001b[0m\u001b[1;33m[\u001b[0m\u001b[1;33m~\u001b[0m\u001b[0mmask\u001b[0m\u001b[1;33m]\u001b[0m\u001b[1;33m\u001b[0m\u001b[1;33m\u001b[0m\u001b[0m\n\u001b[0;32m   6663\u001b[0m         \u001b[1;32mreturn\u001b[0m \u001b[0mself\u001b[0m\u001b[1;33m.\u001b[0m\u001b[0mdelete\u001b[0m\u001b[1;33m(\u001b[0m\u001b[0mindexer\u001b[0m\u001b[1;33m)\u001b[0m\u001b[1;33m\u001b[0m\u001b[1;33m\u001b[0m\u001b[0m\n",
      "\u001b[1;31mKeyError\u001b[0m: '[True, True, True, True, True, False, False, False, False, False, False, False, False, False, False, False, False, False, False, False, False, False, False, False, False, False, False, False, False, False, False, False, False, False, False, False, False, False, False, False, False, False, False, False, False, False, False, False, False, False, False, False, False, False, False, False, False, False, False, False, False, False, False, False, False, False, False, False, False, False, False, False, False, False, False, False, False, False, False, False, False, False, False, False, False, False, False, False, False, False, False, False, False, False, False, False, False, False, False, False, False, False, False, False, False, False, False, False, False, False, False, False, False, False, False, False, False, False, False, False, False, False, False, False, False, False, False, False, False, False, False, False, False, False, False, False, False, False, False, False, False, False, False, False, False, False, False, False, False, False, False, False, False, False, False, False, False, False, False, False, False, False, False, False, False, False, False, False, False, False, False, False, False, False, False, False, False, False, False, False, False, False, False, False, False, False, False, False, False, False, False, False, False, False, False, False, False, False, False, False, False, False, False, False, False, False, False, False, False, False, False, False, False, False, False, False, False, False, False, False, False, False, False, False, False, False, False, False, False, False, False, False, False, False, False, False, False, False, False, False, False, False, False, False, False, False, False, False, False, False, False, False, False, False, False, False, False, False, False, False, False, False, False, False, False, False, False, False, False, False, False, False, False, False, False, False, False, False, False, False, False, False, False, False, False, False, False, False, False, False, False, False, False, False, False, False, False, False, False, False, False, False, False, False, False, False, False, False, False, False, False, False, False, False, False, False, False, False, False, False, False, False, False, False, False, False, False, False, False, False, False, False, False, False, False, False, False, False, False, False, False, False, False, False, False, False, False, False, False, False, False, False, False, False, False, False, False, False, False, False, False, False, False, False, False, False, False, False, False, False, False, False, False, False, False, False, False, False, False] not found in axis'"
     ]
    }
   ],
   "source": [
    "data.drop(data.Name.value_counts()==2)"
   ]
  },
  {
   "cell_type": "code",
   "execution_count": 83,
   "id": "70ef3a6b",
   "metadata": {
    "collapsed": true
   },
   "outputs": [
    {
     "name": "stdout",
     "output_type": "stream",
     "text": [
      "Help on method drop in module pandas.core.frame:\n",
      "\n",
      "drop(labels=None, axis: 'Axis' = 0, index=None, columns=None, level: 'Level | None' = None, inplace: 'bool' = False, errors: 'str' = 'raise') method of pandas.core.frame.DataFrame instance\n",
      "    Drop specified labels from rows or columns.\n",
      "    \n",
      "    Remove rows or columns by specifying label names and corresponding\n",
      "    axis, or by specifying directly index or column names. When using a\n",
      "    multi-index, labels on different levels can be removed by specifying\n",
      "    the level. See the `user guide <advanced.shown_levels>`\n",
      "    for more information about the now unused levels.\n",
      "    \n",
      "    Parameters\n",
      "    ----------\n",
      "    labels : single label or list-like\n",
      "        Index or column labels to drop. A tuple will be used as a single\n",
      "        label and not treated as a list-like.\n",
      "    axis : {0 or 'index', 1 or 'columns'}, default 0\n",
      "        Whether to drop labels from the index (0 or 'index') or\n",
      "        columns (1 or 'columns').\n",
      "    index : single label or list-like\n",
      "        Alternative to specifying axis (``labels, axis=0``\n",
      "        is equivalent to ``index=labels``).\n",
      "    columns : single label or list-like\n",
      "        Alternative to specifying axis (``labels, axis=1``\n",
      "        is equivalent to ``columns=labels``).\n",
      "    level : int or level name, optional\n",
      "        For MultiIndex, level from which the labels will be removed.\n",
      "    inplace : bool, default False\n",
      "        If False, return a copy. Otherwise, do operation\n",
      "        inplace and return None.\n",
      "    errors : {'ignore', 'raise'}, default 'raise'\n",
      "        If 'ignore', suppress error and only existing labels are\n",
      "        dropped.\n",
      "    \n",
      "    Returns\n",
      "    -------\n",
      "    DataFrame or None\n",
      "        DataFrame without the removed index or column labels or\n",
      "        None if ``inplace=True``.\n",
      "    \n",
      "    Raises\n",
      "    ------\n",
      "    KeyError\n",
      "        If any of the labels is not found in the selected axis.\n",
      "    \n",
      "    See Also\n",
      "    --------\n",
      "    DataFrame.loc : Label-location based indexer for selection by label.\n",
      "    DataFrame.dropna : Return DataFrame with labels on given axis omitted\n",
      "        where (all or any) data are missing.\n",
      "    DataFrame.drop_duplicates : Return DataFrame with duplicate rows\n",
      "        removed, optionally only considering certain columns.\n",
      "    Series.drop : Return Series with specified index labels removed.\n",
      "    \n",
      "    Examples\n",
      "    --------\n",
      "    >>> df = pd.DataFrame(np.arange(12).reshape(3, 4),\n",
      "    ...                   columns=['A', 'B', 'C', 'D'])\n",
      "    >>> df\n",
      "       A  B   C   D\n",
      "    0  0  1   2   3\n",
      "    1  4  5   6   7\n",
      "    2  8  9  10  11\n",
      "    \n",
      "    Drop columns\n",
      "    \n",
      "    >>> df.drop(['B', 'C'], axis=1)\n",
      "       A   D\n",
      "    0  0   3\n",
      "    1  4   7\n",
      "    2  8  11\n",
      "    \n",
      "    >>> df.drop(columns=['B', 'C'])\n",
      "       A   D\n",
      "    0  0   3\n",
      "    1  4   7\n",
      "    2  8  11\n",
      "    \n",
      "    Drop a row by index\n",
      "    \n",
      "    >>> df.drop([0, 1])\n",
      "       A  B   C   D\n",
      "    2  8  9  10  11\n",
      "    \n",
      "    Drop columns and/or rows of MultiIndex DataFrame\n",
      "    \n",
      "    >>> midx = pd.MultiIndex(levels=[['lama', 'cow', 'falcon'],\n",
      "    ...                              ['speed', 'weight', 'length']],\n",
      "    ...                      codes=[[0, 0, 0, 1, 1, 1, 2, 2, 2],\n",
      "    ...                             [0, 1, 2, 0, 1, 2, 0, 1, 2]])\n",
      "    >>> df = pd.DataFrame(index=midx, columns=['big', 'small'],\n",
      "    ...                   data=[[45, 30], [200, 100], [1.5, 1], [30, 20],\n",
      "    ...                         [250, 150], [1.5, 0.8], [320, 250],\n",
      "    ...                         [1, 0.8], [0.3, 0.2]])\n",
      "    >>> df\n",
      "                    big     small\n",
      "    lama    speed   45.0    30.0\n",
      "            weight  200.0   100.0\n",
      "            length  1.5     1.0\n",
      "    cow     speed   30.0    20.0\n",
      "            weight  250.0   150.0\n",
      "            length  1.5     0.8\n",
      "    falcon  speed   320.0   250.0\n",
      "            weight  1.0     0.8\n",
      "            length  0.3     0.2\n",
      "    \n",
      "    Drop a specific index combination from the MultiIndex\n",
      "    DataFrame, i.e., drop the combination ``'falcon'`` and\n",
      "    ``'weight'``, which deletes only the corresponding row\n",
      "    \n",
      "    >>> df.drop(index=('falcon', 'weight'))\n",
      "                    big     small\n",
      "    lama    speed   45.0    30.0\n",
      "            weight  200.0   100.0\n",
      "            length  1.5     1.0\n",
      "    cow     speed   30.0    20.0\n",
      "            weight  250.0   150.0\n",
      "            length  1.5     0.8\n",
      "    falcon  speed   320.0   250.0\n",
      "            length  0.3     0.2\n",
      "    \n",
      "    >>> df.drop(index='cow', columns='small')\n",
      "                    big\n",
      "    lama    speed   45.0\n",
      "            weight  200.0\n",
      "            length  1.5\n",
      "    falcon  speed   320.0\n",
      "            weight  1.0\n",
      "            length  0.3\n",
      "    \n",
      "    >>> df.drop(index='length', level=1)\n",
      "                    big     small\n",
      "    lama    speed   45.0    30.0\n",
      "            weight  200.0   100.0\n",
      "    cow     speed   30.0    20.0\n",
      "            weight  250.0   150.0\n",
      "    falcon  speed   320.0   250.0\n",
      "            weight  1.0     0.8\n",
      "\n"
     ]
    }
   ],
   "source": [
    "help(data.drop)"
   ]
  },
  {
   "cell_type": "code",
   "execution_count": 97,
   "id": "5c69d767",
   "metadata": {},
   "outputs": [
    {
     "data": {
      "text/html": [
       "<div>\n",
       "<style scoped>\n",
       "    .dataframe tbody tr th:only-of-type {\n",
       "        vertical-align: middle;\n",
       "    }\n",
       "\n",
       "    .dataframe tbody tr th {\n",
       "        vertical-align: top;\n",
       "    }\n",
       "\n",
       "    .dataframe thead th {\n",
       "        text-align: right;\n",
       "    }\n",
       "</style>\n",
       "<table border=\"1\" class=\"dataframe\">\n",
       "  <thead>\n",
       "    <tr style=\"text-align: right;\">\n",
       "      <th></th>\n",
       "      <th>S.No.</th>\n",
       "      <th>Registration Id</th>\n",
       "      <th>Name</th>\n",
       "      <th>Email</th>\n",
       "      <th>Mobile No</th>\n",
       "      <th>year</th>\n",
       "    </tr>\n",
       "  </thead>\n",
       "  <tbody>\n",
       "    <tr>\n",
       "      <th>0</th>\n",
       "      <td>1</td>\n",
       "      <td>23BA1A4271</td>\n",
       "      <td>K.Karthik</td>\n",
       "      <td>karthikkakumanu09@gmail.com</td>\n",
       "      <td>9848139894</td>\n",
       "      <td>3</td>\n",
       "    </tr>\n",
       "    <tr>\n",
       "      <th>1</th>\n",
       "      <td>2</td>\n",
       "      <td>23BQ1A05N1</td>\n",
       "      <td>Vadlamudi Ramya</td>\n",
       "      <td>vadlamudiramya87@gmail.com</td>\n",
       "      <td>7337001554</td>\n",
       "      <td>3</td>\n",
       "    </tr>\n",
       "    <tr>\n",
       "      <th>2</th>\n",
       "      <td>3</td>\n",
       "      <td>23BQ1A4201</td>\n",
       "      <td>Adhimulam Bhargav Sai Viswanath</td>\n",
       "      <td>bhargavsaiadhimulam12@gmail.com</td>\n",
       "      <td>7013833594</td>\n",
       "      <td>3</td>\n",
       "    </tr>\n",
       "    <tr>\n",
       "      <th>3</th>\n",
       "      <td>4</td>\n",
       "      <td>23BQ1A4202</td>\n",
       "      <td>Agepati Venkata Sai Charan</td>\n",
       "      <td>cherry123abba@gmail.com</td>\n",
       "      <td>9618223895</td>\n",
       "      <td>3</td>\n",
       "    </tr>\n",
       "    <tr>\n",
       "      <th>4</th>\n",
       "      <td>5</td>\n",
       "      <td>23BQ1A4203</td>\n",
       "      <td>Akkala Umesh Karthik</td>\n",
       "      <td>umeshkarthik2006@gmail.com</td>\n",
       "      <td>8329610575</td>\n",
       "      <td>3</td>\n",
       "    </tr>\n",
       "    <tr>\n",
       "      <th>...</th>\n",
       "      <td>...</td>\n",
       "      <td>...</td>\n",
       "      <td>...</td>\n",
       "      <td>...</td>\n",
       "      <td>...</td>\n",
       "      <td>...</td>\n",
       "    </tr>\n",
       "    <tr>\n",
       "      <th>379</th>\n",
       "      <td>380</td>\n",
       "      <td>24BQ5A6138</td>\n",
       "      <td>Shaik Vaseem</td>\n",
       "      <td>vaseemshaik090@gmail.com</td>\n",
       "      <td>7995979089</td>\n",
       "      <td>3</td>\n",
       "    </tr>\n",
       "    <tr>\n",
       "      <th>380</th>\n",
       "      <td>381</td>\n",
       "      <td>24BQ5A6139</td>\n",
       "      <td>Thotakura Amarendra Kumar</td>\n",
       "      <td>kumarthotakuraamarendra@gmail.com</td>\n",
       "      <td>8499903775</td>\n",
       "      <td>3</td>\n",
       "    </tr>\n",
       "    <tr>\n",
       "      <th>381</th>\n",
       "      <td>382</td>\n",
       "      <td>24BQ5A6140</td>\n",
       "      <td>Thotakura Mahesh</td>\n",
       "      <td>thotakuramahesh0693@gmail.com</td>\n",
       "      <td>9618752221</td>\n",
       "      <td>3</td>\n",
       "    </tr>\n",
       "    <tr>\n",
       "      <th>382</th>\n",
       "      <td>383</td>\n",
       "      <td>24BQ5A6143</td>\n",
       "      <td>D. Venkatadri Naidu</td>\n",
       "      <td>venkatchowdaryduggineni@gmail.com</td>\n",
       "      <td>9133913683</td>\n",
       "      <td>3</td>\n",
       "    </tr>\n",
       "    <tr>\n",
       "      <th>383</th>\n",
       "      <td>384</td>\n",
       "      <td>24bq5a6121</td>\n",
       "      <td>Chejarla Vishnu Vardhan</td>\n",
       "      <td>Chejarlavishnuvardhan603@gmail.com</td>\n",
       "      <td>9059471263</td>\n",
       "      <td>3</td>\n",
       "    </tr>\n",
       "  </tbody>\n",
       "</table>\n",
       "<p>384 rows × 6 columns</p>\n",
       "</div>"
      ],
      "text/plain": [
       "     S.No. Registration Id                             Name  \\\n",
       "0        1      23BA1A4271                        K.Karthik   \n",
       "1        2      23BQ1A05N1                  Vadlamudi Ramya   \n",
       "2        3      23BQ1A4201  Adhimulam Bhargav Sai Viswanath   \n",
       "3        4      23BQ1A4202       Agepati Venkata Sai Charan   \n",
       "4        5      23BQ1A4203             Akkala Umesh Karthik   \n",
       "..     ...             ...                              ...   \n",
       "379    380      24BQ5A6138                     Shaik Vaseem   \n",
       "380    381      24BQ5A6139        Thotakura Amarendra Kumar   \n",
       "381    382      24BQ5A6140                 Thotakura Mahesh   \n",
       "382    383      24BQ5A6143              D. Venkatadri Naidu   \n",
       "383    384      24bq5a6121          Chejarla Vishnu Vardhan   \n",
       "\n",
       "                                  Email   Mobile No  year  \n",
       "0           karthikkakumanu09@gmail.com  9848139894     3  \n",
       "1            vadlamudiramya87@gmail.com  7337001554     3  \n",
       "2       bhargavsaiadhimulam12@gmail.com  7013833594     3  \n",
       "3               cherry123abba@gmail.com  9618223895     3  \n",
       "4            umeshkarthik2006@gmail.com  8329610575     3  \n",
       "..                                  ...         ...   ...  \n",
       "379            vaseemshaik090@gmail.com  7995979089     3  \n",
       "380   kumarthotakuraamarendra@gmail.com  8499903775     3  \n",
       "381       thotakuramahesh0693@gmail.com  9618752221     3  \n",
       "382   venkatchowdaryduggineni@gmail.com  9133913683     3  \n",
       "383  Chejarlavishnuvardhan603@gmail.com  9059471263     3  \n",
       "\n",
       "[384 rows x 6 columns]"
      ]
     },
     "execution_count": 97,
     "metadata": {},
     "output_type": "execute_result"
    }
   ],
   "source": [
    "data.dropna()"
   ]
  },
  {
   "cell_type": "code",
   "execution_count": 102,
   "id": "df9db7b0",
   "metadata": {
    "collapsed": true
   },
   "outputs": [
    {
     "data": {
      "text/plain": [
       "Marri Kavya Lakshmi              True\n",
       "Savari Venkata Durga Deepthi     True\n",
       "Ande Venkata Vaibhav             True\n",
       "Pandula Bhargavi                 True\n",
       "Tokala Gopichand                 True\n",
       "                                ...  \n",
       "Ponduri Jagadish                False\n",
       "Podila Saswitha Rani            False\n",
       "Pikkili Harika                  False\n",
       "Karthikeya Pentela              False\n",
       "Chejarla Vishnu Vardhan         False\n",
       "Name: Name, Length: 379, dtype: bool"
      ]
     },
     "execution_count": 102,
     "metadata": {},
     "output_type": "execute_result"
    }
   ],
   "source": [
    "data['Name'].value_counts()==2"
   ]
  },
  {
   "cell_type": "code",
   "execution_count": 106,
   "id": "cd4b8659",
   "metadata": {
    "collapsed": true
   },
   "outputs": [
    {
     "name": "stderr",
     "output_type": "stream",
     "text": [
      "C:\\Users\\ruthu\\AppData\\Local\\Temp\\ipykernel_24884\\2934576820.py:1: UserWarning: Boolean Series key will be reindexed to match DataFrame index.\n",
      "  data[data['Name'].value_counts()==2]\n"
     ]
    },
    {
     "ename": "IndexingError",
     "evalue": "Unalignable boolean Series provided as indexer (index of the boolean Series and of the indexed object do not match).",
     "output_type": "error",
     "traceback": [
      "\u001b[1;31m---------------------------------------------------------------------------\u001b[0m",
      "\u001b[1;31mIndexingError\u001b[0m                             Traceback (most recent call last)",
      "\u001b[1;32m~\\AppData\\Local\\Temp\\ipykernel_24884\\2934576820.py\u001b[0m in \u001b[0;36m<module>\u001b[1;34m\u001b[0m\n\u001b[1;32m----> 1\u001b[1;33m \u001b[0mdata\u001b[0m\u001b[1;33m[\u001b[0m\u001b[0mdata\u001b[0m\u001b[1;33m[\u001b[0m\u001b[1;34m'Name'\u001b[0m\u001b[1;33m]\u001b[0m\u001b[1;33m.\u001b[0m\u001b[0mvalue_counts\u001b[0m\u001b[1;33m(\u001b[0m\u001b[1;33m)\u001b[0m\u001b[1;33m==\u001b[0m\u001b[1;36m2\u001b[0m\u001b[1;33m]\u001b[0m\u001b[1;33m\u001b[0m\u001b[1;33m\u001b[0m\u001b[0m\n\u001b[0m",
      "\u001b[1;32m~\\anaconda3\\Anaconda\\lib\\site-packages\\pandas\\core\\frame.py\u001b[0m in \u001b[0;36m__getitem__\u001b[1;34m(self, key)\u001b[0m\n\u001b[0;32m   3494\u001b[0m         \u001b[1;31m# Do we have a (boolean) 1d indexer?\u001b[0m\u001b[1;33m\u001b[0m\u001b[1;33m\u001b[0m\u001b[0m\n\u001b[0;32m   3495\u001b[0m         \u001b[1;32mif\u001b[0m \u001b[0mcom\u001b[0m\u001b[1;33m.\u001b[0m\u001b[0mis_bool_indexer\u001b[0m\u001b[1;33m(\u001b[0m\u001b[0mkey\u001b[0m\u001b[1;33m)\u001b[0m\u001b[1;33m:\u001b[0m\u001b[1;33m\u001b[0m\u001b[1;33m\u001b[0m\u001b[0m\n\u001b[1;32m-> 3496\u001b[1;33m             \u001b[1;32mreturn\u001b[0m \u001b[0mself\u001b[0m\u001b[1;33m.\u001b[0m\u001b[0m_getitem_bool_array\u001b[0m\u001b[1;33m(\u001b[0m\u001b[0mkey\u001b[0m\u001b[1;33m)\u001b[0m\u001b[1;33m\u001b[0m\u001b[1;33m\u001b[0m\u001b[0m\n\u001b[0m\u001b[0;32m   3497\u001b[0m \u001b[1;33m\u001b[0m\u001b[0m\n\u001b[0;32m   3498\u001b[0m         \u001b[1;31m# We are left with two options: a single key, and a collection of keys,\u001b[0m\u001b[1;33m\u001b[0m\u001b[1;33m\u001b[0m\u001b[0m\n",
      "\u001b[1;32m~\\anaconda3\\Anaconda\\lib\\site-packages\\pandas\\core\\frame.py\u001b[0m in \u001b[0;36m_getitem_bool_array\u001b[1;34m(self, key)\u001b[0m\n\u001b[0;32m   3547\u001b[0m         \u001b[1;31m# check_bool_indexer will throw exception if Series key cannot\u001b[0m\u001b[1;33m\u001b[0m\u001b[1;33m\u001b[0m\u001b[0m\n\u001b[0;32m   3548\u001b[0m         \u001b[1;31m# be reindexed to match DataFrame rows\u001b[0m\u001b[1;33m\u001b[0m\u001b[1;33m\u001b[0m\u001b[0m\n\u001b[1;32m-> 3549\u001b[1;33m         \u001b[0mkey\u001b[0m \u001b[1;33m=\u001b[0m \u001b[0mcheck_bool_indexer\u001b[0m\u001b[1;33m(\u001b[0m\u001b[0mself\u001b[0m\u001b[1;33m.\u001b[0m\u001b[0mindex\u001b[0m\u001b[1;33m,\u001b[0m \u001b[0mkey\u001b[0m\u001b[1;33m)\u001b[0m\u001b[1;33m\u001b[0m\u001b[1;33m\u001b[0m\u001b[0m\n\u001b[0m\u001b[0;32m   3550\u001b[0m         \u001b[0mindexer\u001b[0m \u001b[1;33m=\u001b[0m \u001b[0mkey\u001b[0m\u001b[1;33m.\u001b[0m\u001b[0mnonzero\u001b[0m\u001b[1;33m(\u001b[0m\u001b[1;33m)\u001b[0m\u001b[1;33m[\u001b[0m\u001b[1;36m0\u001b[0m\u001b[1;33m]\u001b[0m\u001b[1;33m\u001b[0m\u001b[1;33m\u001b[0m\u001b[0m\n\u001b[0;32m   3551\u001b[0m         \u001b[1;32mreturn\u001b[0m \u001b[0mself\u001b[0m\u001b[1;33m.\u001b[0m\u001b[0m_take_with_is_copy\u001b[0m\u001b[1;33m(\u001b[0m\u001b[0mindexer\u001b[0m\u001b[1;33m,\u001b[0m \u001b[0maxis\u001b[0m\u001b[1;33m=\u001b[0m\u001b[1;36m0\u001b[0m\u001b[1;33m)\u001b[0m\u001b[1;33m\u001b[0m\u001b[1;33m\u001b[0m\u001b[0m\n",
      "\u001b[1;32m~\\anaconda3\\Anaconda\\lib\\site-packages\\pandas\\core\\indexing.py\u001b[0m in \u001b[0;36mcheck_bool_indexer\u001b[1;34m(index, key)\u001b[0m\n\u001b[0;32m   2386\u001b[0m         \u001b[0mmask\u001b[0m \u001b[1;33m=\u001b[0m \u001b[0misna\u001b[0m\u001b[1;33m(\u001b[0m\u001b[0mresult\u001b[0m\u001b[1;33m.\u001b[0m\u001b[0m_values\u001b[0m\u001b[1;33m)\u001b[0m\u001b[1;33m\u001b[0m\u001b[1;33m\u001b[0m\u001b[0m\n\u001b[0;32m   2387\u001b[0m         \u001b[1;32mif\u001b[0m \u001b[0mmask\u001b[0m\u001b[1;33m.\u001b[0m\u001b[0many\u001b[0m\u001b[1;33m(\u001b[0m\u001b[1;33m)\u001b[0m\u001b[1;33m:\u001b[0m\u001b[1;33m\u001b[0m\u001b[1;33m\u001b[0m\u001b[0m\n\u001b[1;32m-> 2388\u001b[1;33m             raise IndexingError(\n\u001b[0m\u001b[0;32m   2389\u001b[0m                 \u001b[1;34m\"Unalignable boolean Series provided as \"\u001b[0m\u001b[1;33m\u001b[0m\u001b[1;33m\u001b[0m\u001b[0m\n\u001b[0;32m   2390\u001b[0m                 \u001b[1;34m\"indexer (index of the boolean Series and of \"\u001b[0m\u001b[1;33m\u001b[0m\u001b[1;33m\u001b[0m\u001b[0m\n",
      "\u001b[1;31mIndexingError\u001b[0m: Unalignable boolean Series provided as indexer (index of the boolean Series and of the indexed object do not match)."
     ]
    }
   ],
   "source": [
    "data[data['Name'].value_counts()==2] # tmrw session"
   ]
  },
  {
   "cell_type": "code",
   "execution_count": 3,
   "id": "3761be6c",
   "metadata": {
    "collapsed": true
   },
   "outputs": [
    {
     "data": {
      "text/html": [
       "<div>\n",
       "<style scoped>\n",
       "    .dataframe tbody tr th:only-of-type {\n",
       "        vertical-align: middle;\n",
       "    }\n",
       "\n",
       "    .dataframe tbody tr th {\n",
       "        vertical-align: top;\n",
       "    }\n",
       "\n",
       "    .dataframe thead th {\n",
       "        text-align: right;\n",
       "    }\n",
       "</style>\n",
       "<table border=\"1\" class=\"dataframe\">\n",
       "  <thead>\n",
       "    <tr style=\"text-align: right;\">\n",
       "      <th></th>\n",
       "      <th>S.No.</th>\n",
       "      <th>Email</th>\n",
       "    </tr>\n",
       "  </thead>\n",
       "  <tbody>\n",
       "    <tr>\n",
       "      <th>0</th>\n",
       "      <td>1</td>\n",
       "      <td>karthikkakumanu09@gmail.com</td>\n",
       "    </tr>\n",
       "    <tr>\n",
       "      <th>1</th>\n",
       "      <td>2</td>\n",
       "      <td>vadlamudiramya87@gmail.com</td>\n",
       "    </tr>\n",
       "    <tr>\n",
       "      <th>2</th>\n",
       "      <td>3</td>\n",
       "      <td>bhargavsaiadhimulam12@gmail.com</td>\n",
       "    </tr>\n",
       "    <tr>\n",
       "      <th>3</th>\n",
       "      <td>4</td>\n",
       "      <td>cherry123abba@gmail.com</td>\n",
       "    </tr>\n",
       "    <tr>\n",
       "      <th>4</th>\n",
       "      <td>5</td>\n",
       "      <td>umeshkarthik2006@gmail.com</td>\n",
       "    </tr>\n",
       "    <tr>\n",
       "      <th>...</th>\n",
       "      <td>...</td>\n",
       "      <td>...</td>\n",
       "    </tr>\n",
       "    <tr>\n",
       "      <th>379</th>\n",
       "      <td>380</td>\n",
       "      <td>vaseemshaik090@gmail.com</td>\n",
       "    </tr>\n",
       "    <tr>\n",
       "      <th>380</th>\n",
       "      <td>381</td>\n",
       "      <td>kumarthotakuraamarendra@gmail.com</td>\n",
       "    </tr>\n",
       "    <tr>\n",
       "      <th>381</th>\n",
       "      <td>382</td>\n",
       "      <td>thotakuramahesh0693@gmail.com</td>\n",
       "    </tr>\n",
       "    <tr>\n",
       "      <th>382</th>\n",
       "      <td>383</td>\n",
       "      <td>venkatchowdaryduggineni@gmail.com</td>\n",
       "    </tr>\n",
       "    <tr>\n",
       "      <th>383</th>\n",
       "      <td>384</td>\n",
       "      <td>Chejarlavishnuvardhan603@gmail.com</td>\n",
       "    </tr>\n",
       "  </tbody>\n",
       "</table>\n",
       "<p>384 rows × 2 columns</p>\n",
       "</div>"
      ],
      "text/plain": [
       "     S.No.                               Email\n",
       "0        1         karthikkakumanu09@gmail.com\n",
       "1        2          vadlamudiramya87@gmail.com\n",
       "2        3     bhargavsaiadhimulam12@gmail.com\n",
       "3        4             cherry123abba@gmail.com\n",
       "4        5          umeshkarthik2006@gmail.com\n",
       "..     ...                                 ...\n",
       "379    380            vaseemshaik090@gmail.com\n",
       "380    381   kumarthotakuraamarendra@gmail.com\n",
       "381    382       thotakuramahesh0693@gmail.com\n",
       "382    383   venkatchowdaryduggineni@gmail.com\n",
       "383    384  Chejarlavishnuvardhan603@gmail.com\n",
       "\n",
       "[384 rows x 2 columns]"
      ]
     },
     "execution_count": 3,
     "metadata": {},
     "output_type": "execute_result"
    }
   ],
   "source": [
    "data[['S.No.','Email']]"
   ]
  },
  {
   "cell_type": "code",
   "execution_count": 8,
   "id": "db297456",
   "metadata": {
    "collapsed": true
   },
   "outputs": [
    {
     "data": {
      "text/html": [
       "<div>\n",
       "<style scoped>\n",
       "    .dataframe tbody tr th:only-of-type {\n",
       "        vertical-align: middle;\n",
       "    }\n",
       "\n",
       "    .dataframe tbody tr th {\n",
       "        vertical-align: top;\n",
       "    }\n",
       "\n",
       "    .dataframe thead th {\n",
       "        text-align: right;\n",
       "    }\n",
       "</style>\n",
       "<table border=\"1\" class=\"dataframe\">\n",
       "  <thead>\n",
       "    <tr style=\"text-align: right;\">\n",
       "      <th></th>\n",
       "      <th>S.No.</th>\n",
       "      <th>Registration Id</th>\n",
       "      <th>Name</th>\n",
       "      <th>Email</th>\n",
       "      <th>Mobile No</th>\n",
       "    </tr>\n",
       "  </thead>\n",
       "  <tbody>\n",
       "    <tr>\n",
       "      <th>0</th>\n",
       "      <td>1</td>\n",
       "      <td>23BA1A4271</td>\n",
       "      <td>K.Karthik</td>\n",
       "      <td>karthikkakumanu09@gmail.com</td>\n",
       "      <td>9848139894</td>\n",
       "    </tr>\n",
       "    <tr>\n",
       "      <th>1</th>\n",
       "      <td>2</td>\n",
       "      <td>23BQ1A05N1</td>\n",
       "      <td>Vadlamudi Ramya</td>\n",
       "      <td>vadlamudiramya87@gmail.com</td>\n",
       "      <td>7337001554</td>\n",
       "    </tr>\n",
       "    <tr>\n",
       "      <th>2</th>\n",
       "      <td>3</td>\n",
       "      <td>23BQ1A4201</td>\n",
       "      <td>Adhimulam Bhargav Sai Viswanath</td>\n",
       "      <td>bhargavsaiadhimulam12@gmail.com</td>\n",
       "      <td>7013833594</td>\n",
       "    </tr>\n",
       "    <tr>\n",
       "      <th>3</th>\n",
       "      <td>4</td>\n",
       "      <td>23BQ1A4202</td>\n",
       "      <td>Agepati Venkata Sai Charan</td>\n",
       "      <td>cherry123abba@gmail.com</td>\n",
       "      <td>9618223895</td>\n",
       "    </tr>\n",
       "    <tr>\n",
       "      <th>4</th>\n",
       "      <td>5</td>\n",
       "      <td>23BQ1A4203</td>\n",
       "      <td>Akkala Umesh Karthik</td>\n",
       "      <td>umeshkarthik2006@gmail.com</td>\n",
       "      <td>8329610575</td>\n",
       "    </tr>\n",
       "    <tr>\n",
       "      <th>...</th>\n",
       "      <td>...</td>\n",
       "      <td>...</td>\n",
       "      <td>...</td>\n",
       "      <td>...</td>\n",
       "      <td>...</td>\n",
       "    </tr>\n",
       "    <tr>\n",
       "      <th>379</th>\n",
       "      <td>380</td>\n",
       "      <td>24BQ5A6138</td>\n",
       "      <td>Shaik Vaseem</td>\n",
       "      <td>vaseemshaik090@gmail.com</td>\n",
       "      <td>7995979089</td>\n",
       "    </tr>\n",
       "    <tr>\n",
       "      <th>380</th>\n",
       "      <td>381</td>\n",
       "      <td>24BQ5A6139</td>\n",
       "      <td>Thotakura Amarendra Kumar</td>\n",
       "      <td>kumarthotakuraamarendra@gmail.com</td>\n",
       "      <td>8499903775</td>\n",
       "    </tr>\n",
       "    <tr>\n",
       "      <th>381</th>\n",
       "      <td>382</td>\n",
       "      <td>24BQ5A6140</td>\n",
       "      <td>Thotakura Mahesh</td>\n",
       "      <td>thotakuramahesh0693@gmail.com</td>\n",
       "      <td>9618752221</td>\n",
       "    </tr>\n",
       "    <tr>\n",
       "      <th>382</th>\n",
       "      <td>383</td>\n",
       "      <td>24BQ5A6143</td>\n",
       "      <td>D. Venkatadri Naidu</td>\n",
       "      <td>venkatchowdaryduggineni@gmail.com</td>\n",
       "      <td>9133913683</td>\n",
       "    </tr>\n",
       "    <tr>\n",
       "      <th>383</th>\n",
       "      <td>384</td>\n",
       "      <td>24bq5a6121</td>\n",
       "      <td>Chejarla Vishnu Vardhan</td>\n",
       "      <td>Chejarlavishnuvardhan603@gmail.com</td>\n",
       "      <td>9059471263</td>\n",
       "    </tr>\n",
       "  </tbody>\n",
       "</table>\n",
       "<p>384 rows × 5 columns</p>\n",
       "</div>"
      ],
      "text/plain": [
       "     S.No. Registration Id                             Name  \\\n",
       "0        1      23BA1A4271                        K.Karthik   \n",
       "1        2      23BQ1A05N1                  Vadlamudi Ramya   \n",
       "2        3      23BQ1A4201  Adhimulam Bhargav Sai Viswanath   \n",
       "3        4      23BQ1A4202       Agepati Venkata Sai Charan   \n",
       "4        5      23BQ1A4203             Akkala Umesh Karthik   \n",
       "..     ...             ...                              ...   \n",
       "379    380      24BQ5A6138                     Shaik Vaseem   \n",
       "380    381      24BQ5A6139        Thotakura Amarendra Kumar   \n",
       "381    382      24BQ5A6140                 Thotakura Mahesh   \n",
       "382    383      24BQ5A6143              D. Venkatadri Naidu   \n",
       "383    384      24bq5a6121          Chejarla Vishnu Vardhan   \n",
       "\n",
       "                                  Email   Mobile No  \n",
       "0           karthikkakumanu09@gmail.com  9848139894  \n",
       "1            vadlamudiramya87@gmail.com  7337001554  \n",
       "2       bhargavsaiadhimulam12@gmail.com  7013833594  \n",
       "3               cherry123abba@gmail.com  9618223895  \n",
       "4            umeshkarthik2006@gmail.com  8329610575  \n",
       "..                                  ...         ...  \n",
       "379            vaseemshaik090@gmail.com  7995979089  \n",
       "380   kumarthotakuraamarendra@gmail.com  8499903775  \n",
       "381       thotakuramahesh0693@gmail.com  9618752221  \n",
       "382   venkatchowdaryduggineni@gmail.com  9133913683  \n",
       "383  Chejarlavishnuvardhan603@gmail.com  9059471263  \n",
       "\n",
       "[384 rows x 5 columns]"
      ]
     },
     "execution_count": 8,
     "metadata": {},
     "output_type": "execute_result"
    }
   ],
   "source": [
    "data"
   ]
  },
  {
   "cell_type": "code",
   "execution_count": 11,
   "id": "a824c5bc",
   "metadata": {
    "collapsed": true
   },
   "outputs": [
    {
     "ename": "SyntaxError",
     "evalue": "invalid syntax (3796686503.py, line 1)",
     "output_type": "error",
     "traceback": [
      "\u001b[1;36m  File \u001b[1;32m\"C:\\Users\\ruthu\\AppData\\Local\\Temp\\ipykernel_27900\\3796686503.py\"\u001b[1;36m, line \u001b[1;32m1\u001b[0m\n\u001b[1;33m    data.Mobile No\u001b[0m\n\u001b[1;37m                ^\u001b[0m\n\u001b[1;31mSyntaxError\u001b[0m\u001b[1;31m:\u001b[0m invalid syntax\n"
     ]
    }
   ],
   "source": [
    "data.Mobile No # due to the space in the middle of col"
   ]
  },
  {
   "cell_type": "code",
   "execution_count": 12,
   "id": "c2238687",
   "metadata": {
    "collapsed": true
   },
   "outputs": [
    {
     "data": {
      "text/plain": [
       "0      9848139894\n",
       "1      7337001554\n",
       "2      7013833594\n",
       "3      9618223895\n",
       "4      8329610575\n",
       "          ...    \n",
       "379    7995979089\n",
       "380    8499903775\n",
       "381    9618752221\n",
       "382    9133913683\n",
       "383    9059471263\n",
       "Name: Mobile No, Length: 384, dtype: int64"
      ]
     },
     "execution_count": 12,
     "metadata": {},
     "output_type": "execute_result"
    }
   ],
   "source": [
    "data['Mobile No']"
   ]
  },
  {
   "cell_type": "code",
   "execution_count": 13,
   "id": "481dfc1b",
   "metadata": {
    "collapsed": true
   },
   "outputs": [
    {
     "data": {
      "text/plain": [
       "0      False\n",
       "1       True\n",
       "2       True\n",
       "3      False\n",
       "4       True\n",
       "       ...  \n",
       "379     True\n",
       "380     True\n",
       "381    False\n",
       "382    False\n",
       "383    False\n",
       "Name: Mobile No, Length: 384, dtype: bool"
      ]
     },
     "execution_count": 13,
     "metadata": {},
     "output_type": "execute_result"
    }
   ],
   "source": [
    "data['Mobile No']<8907654321"
   ]
  },
  {
   "cell_type": "code",
   "execution_count": 14,
   "id": "a4298eb7",
   "metadata": {
    "collapsed": true
   },
   "outputs": [
    {
     "data": {
      "text/plain": [
       "3357029061039"
      ]
     },
     "execution_count": 14,
     "metadata": {},
     "output_type": "execute_result"
    }
   ],
   "source": [
    "data['Mobile No'].sum()"
   ]
  },
  {
   "cell_type": "code",
   "execution_count": 15,
   "id": "a8addfa2",
   "metadata": {
    "collapsed": true
   },
   "outputs": [
    {
     "data": {
      "text/plain": [
       "'K.KarthikVadlamudi RamyaAdhimulam Bhargav Sai ViswanathAgepati Venkata Sai CharanAkkala Umesh KarthikAkkinapalli VigneshAla Ramya Sesha SriAla Venu GopalAllamudi Ajay SuryaAmara Venkata Lakshmi TanujaAnati Madhu KrishnaAngati Arun PalAnkem Sai DhanushAthmakuri Poorna SahasraBaddigam Venkata TriveniBalabhadra SwathikaBandikatla SeshanjaliBandla VarshithaMohan SrihariMeghana BezawadaBhuvanagiri BhavaniBitra BhavaniBitra Jaya SriBodepudi Naga SoumyaB Vamsi Krishna ReddyBolagani Baby PrasannaB VenkateshBonam Raja SekharCh Gnana DeepCheeraboyina LokeswariCherukuri Supriya SundariChinta Venkata MadhuriChiruguri NissiChodagiri Raja Prabhu Darshan RoyalChandralekhaDarla SrikanthDerangula VishnuvardhanD.Vinay Kumar ReddyDomathoti RahulDudekula Khaja ValiDuggineni PavaniEnakalla Jeevan KumarEvuri Hari Thrinath ReddyGadamsetty.G L Narasimha Hanuma SakethGadde Bhagya AnjaliLohitha GajulaGalla SantoshGanduri RajeshwarGavini KeerthiGhanta Sri KameshuGogula KarthiGollapudi.Sai GeethikaGopidesi Durga BhavaniG.NeelimaGorrepati AbhinayGuddanti Venkata Sai Yateswar RamSrinivasGuntur NavadeepHarsha Vardhan Reddy EmaniIlluri . Rakesh ReddyIntha Pardha Saradhi ReddyJ.SudharaniJ.Dheeraj ChowdaryJoga JhansiLakshmisowmyaJyesta TanujaRahulKanchiboina MeghanaKasa HarendraKatragadda MaheejaKaveri ShruthiKhan Afia TasleemK.Lakshmi SiddharthaKodali PravalikaKodavatiganti Venkata Anantha DeepanjaliKodi Chandana PriyaKonakanchi Hemanth KumarKondapaturi SwargithaKoravi Rama SaiK.SushmaTeja KusumuruLalam GirishmaMaddineni CharishmaMandalapu Lakhmi PriyaDonthiboyina RajeswariKowta Venkata Naga Sai AbhiramMangamuri Varun KumarManjula SrividyaKarthik MannamMarripudi DivyabhanuM SravyaMeda PravallikaMerugu Keerthi BhavaniMogili SumaMohana Siva Naga Jyothi PasupuletiPoojitha MovvaMukkarala Bala Akshya SriMule LavanyaM.K Deva SuryaMulpuru ChinnariMunagala JagadeeswarMungara MeghanaMurakonda ManasaMurikipudi Asritha Venkata Lakshmi VasaviNadamaluru Sampath KumarNaidu Manikanta SaiNalabothu GaneshNalliboyina YogithaNandini Durga SurisettyNandeu TejaNarne BhavishyaNeelam Raja RatnamNandini PamulapatiPandula BhargaviPandula BhargaviPanguluri BhuvanaPathan ChanshareefPathipati VamsikrishnaPatnam Venkata NihithaPaturi AmulyaPeddu TanishkhaPeesabattula Sai CharithaPendikatla Sri RamakanthKarthikeya PentelaPikkili HarikaPodila Saswitha RaniPonduri JagadishPonduri Mahendra NadhPotla VaishnaviPulagam Gnana PrasunaPundla SureshRajolu Usha RaniRayala KavyaVijay RayapudiBurri SusannaSadam LavanyaSam Brandon ValaparlaSana KalpanaS.DeepikaSanisetty Srilakshmi Gopi RajuSaranya Sri GorijalaShaik Abdul KareemShaik AyeshaShaik Baji ValiShaik Fahmiya IffatShaik FirozShaik MominaShaik Shahed AliShaik ShaziaSree Manju VeeranSriram Bhavana Lakshmi DeviTalluri Yogesh ChandraThammisetty Vamsi KrishnaThella Akshay SolmonThirumalareddy Jhansi LakshmiThokala Venkata Siva GopiGayathri ThotaThota RohiniTokala GopichandTokala GopichandTunuguntla D N S V G Meghana SreeUrumu AkhilaVandavasi Bala Sri LakshmiVanukuri.LalithasriVivek BolluVoguri MounishaVuddanti Lakshmi TejaswiniVuggirala Ravi Deva RajuYallavula NikhitaY LokeshYarlagadda Mahesh Chandra BoseYele HarshithaYenuganti SirishaY.Jishnu Ananth SaiYericharla Joys ChristDevireddy Venkata Pavan SathwikPotu BrahmamK KomaliAbdul SabeerAlla Venkata Naga Durga Ganesh SaiBalivada Rama SravyaB.HarshithaBandi PraneethBattini RamakoteswararaoBattula PravallikaBellamkonda Harish BabuBemineni ReshwanthB.KrishnasriB.Sai Hema LathaBodapati AnushaB AbhinayasriBommavarapu VaishnaviB.Aasritha RajBoya.YaminiChakrala VenkatChandra HarshavardhanCherukuri Roshini VarshithaTejaswini ChintakrindiChintapalli Teja SriChunduri Leela ChaitanyaDaggupati NagalakshmiDalveer SinghDanaboyina Vinay KumarDhulipalla Sri HarshiniDuggi Solomon RufusDuggineni SravanthiEjjigani TarunElika AnushaEttela ManeeshGadde Durga Harsha VardhanG Charan KumarGangadhara MeghanaGeeta Malika MaddelaGuddanti Vjaya LakshmiGuduri Lasya DeekshithaGutlapalli VyshnaviGutta SandeepInaganti Kavya RathnaIsukapalli ManasaJasti.LohithaJonnalagadda Harsha Vardhan Sai SumanthKaipu Shashank ReddyKakarla Anil KumarKamepalli Rohit SaiKampa AravindVamsiK.SaiindraneelKandepu HarshithaNikhilaK.Dhanesh BabuKethavath KavyaK GayathriK.V.Vasavi GayathriKommuri Pujitha SiriKonda SowjanyaKondapi Venkata Sai Naga TarunKonni SrijaKothuri Sai HaneeshaKuchipudi PujithaMaddi Venkata SureshM.Pradeep ChandraMamidi VarshaManchi SravanthiMandadapu Venkata Lakshmi AparnaMajeti Venkata AkashMandava Venkata Sai NitishManikala MaheshNarendraMannem Uma MaheswararaoMannepalle PhaneendhraMarepalli FanindraMattupalli RaniMedam Venkata Ajay Kumar ReddyMohammad IrfanMorla ChaitanyaMothukuri Keerthi MedhaMulla Ashraf AliNalla Satya Brahma Harish KumarNamburu AnushaNamburu Mahesh AnandNannapaneni Abhinay SucharithNaveena RunkuPalamarthi Shiva Sai Devi ApoorvaPandrakula SasankParimi NarendraPasangulapati HemanjaliPatalam ArshiyaPatcha Vijaya SriPatchala Naga MahithachowdaryPathan SirajPattem Dolly Sai IswaryaHarsha Vardhan PavuluriPeram AishwaryaPeram Dhanam SrinivasPeruri Venkata Naga Sai VardhishnuPinapati KousalyaPolineni Lakshmi PravallikaPuli Yogendra SaiPusuluri Lakshmi PujakshyaR. JayasreeRamavath Kalyan Kumar NaikRamisetty Mahendra LokeshRavela RupeshRavula VenkateswarluRegalagadda Bhanu PrakashRettedi TripurnaSaiteja DasariS Bhanu VighneshSammeta LokeswariSamudrala SusmithaS.JaswanthSavari Venkata Durga DeepthiSavari Venkata Durga DeepthiShaik Sameera JahaShaik SuhanaShaik UmmaerShaik Zubedha HurmathSikhakolli TejaswiSowdagar ThabasumSyed Apsana ParveenThallapureddy Leela Kumar ReddyThota Lingeswara RaoThota TriveniThulluru Sai SreeTummala GeethamruhtaTummala Swetha ChowdaryTungala JagadeeshUdatha SuvarnaU.Amrutha VarshiniVadapalli Thulasi VaishnaviVadduri Raj Gopala KrishnamurthyVanga Raghurami ReddyVankodoth Bhagavan NaikMihir VelagaVutukuri Yaswanth Ganesh KumarYarraguntla NikhilYemineni Jyothi Madhava SaikrishnaYemineni KarthikYepuri AbhishekKathari MeghanaP Veda PriyankaVarikuti DharaneeswarChinnam AparnaJohn Gi Moses NattalaAlisetty Venkata BhumicaDOKKU BALA THRIPURA SUNDARIKakani Naga Sudha LakshmiKatlagunta Naga Sri NiharikaKorlapati KalyaniChintamaneni Harini SaiAnnapureddy Bala YaswanthBandi Bhagya Sai LakshmiK.Chandra SekharB SumasriCh Sunanda RaniChilakala  Vishnu Vardan ReddyKodali RagitasriKoppula MariyakumariMeduri.HimasriSrinivas Rao PallapuPadavala YaminiPalla VennelaTinnaluri Pavan SaiVellaturi Jyoshna SriVanjarapu LokeshB.ManideepBobbepalli YaswanthChopparapu Veera BrahmamEdiga Arun KumarGoolla SukanyaJyothula AbhishekKaja Sri HarshithaKarumuri Satya SriMeda HarikaMarri Kavya LakshmiMarri Kavya LakshmiPanchumarthi TarunP.Hari Siva PrasadShaik Chinna KhasimSk.FarzanaShaik Heena TabasumThummalagunta SumanthThatha.Archana BhavaniUpputuri PravallikaAbdul AmeerAnde Venkata VaibhavAnde Venkata VaibhavChinthala LavanyaAmulya .DevireddyGajula.SasinaagGamidi RakeshKethineni Naga Phani TejaEswarMunagala Yagnesh NarasimhaNaralasetty Rama SubramanyamP.Chinna KondaiahPerugu Raja VardhanPothula Siva AnandReddy Vishnu Vardhan ReddyShaik VaseemThotakura Amarendra KumarThotakura MaheshD. Venkatadri NaiduChejarla Vishnu Vardhan'"
      ]
     },
     "execution_count": 15,
     "metadata": {},
     "output_type": "execute_result"
    }
   ],
   "source": [
    "data['Name'].sum()"
   ]
  },
  {
   "cell_type": "code",
   "execution_count": 16,
   "id": "15c1c248",
   "metadata": {
    "collapsed": true
   },
   "outputs": [
    {
     "ename": "KeyError",
     "evalue": "\"['Name'] not found in axis\"",
     "output_type": "error",
     "traceback": [
      "\u001b[1;31m---------------------------------------------------------------------------\u001b[0m",
      "\u001b[1;31mKeyError\u001b[0m                                  Traceback (most recent call last)",
      "\u001b[1;32m~\\AppData\\Local\\Temp\\ipykernel_27900\\2061115283.py\u001b[0m in \u001b[0;36m<module>\u001b[1;34m\u001b[0m\n\u001b[1;32m----> 1\u001b[1;33m \u001b[0mdata\u001b[0m\u001b[1;33m.\u001b[0m\u001b[0mdrop\u001b[0m\u001b[1;33m(\u001b[0m\u001b[1;34m'Name'\u001b[0m\u001b[1;33m)\u001b[0m\u001b[1;33m\u001b[0m\u001b[1;33m\u001b[0m\u001b[0m\n\u001b[0m",
      "\u001b[1;32m~\\anaconda3\\Anaconda\\lib\\site-packages\\pandas\\util\\_decorators.py\u001b[0m in \u001b[0;36mwrapper\u001b[1;34m(*args, **kwargs)\u001b[0m\n\u001b[0;32m    309\u001b[0m                     \u001b[0mstacklevel\u001b[0m\u001b[1;33m=\u001b[0m\u001b[0mstacklevel\u001b[0m\u001b[1;33m,\u001b[0m\u001b[1;33m\u001b[0m\u001b[1;33m\u001b[0m\u001b[0m\n\u001b[0;32m    310\u001b[0m                 )\n\u001b[1;32m--> 311\u001b[1;33m             \u001b[1;32mreturn\u001b[0m \u001b[0mfunc\u001b[0m\u001b[1;33m(\u001b[0m\u001b[1;33m*\u001b[0m\u001b[0margs\u001b[0m\u001b[1;33m,\u001b[0m \u001b[1;33m**\u001b[0m\u001b[0mkwargs\u001b[0m\u001b[1;33m)\u001b[0m\u001b[1;33m\u001b[0m\u001b[1;33m\u001b[0m\u001b[0m\n\u001b[0m\u001b[0;32m    312\u001b[0m \u001b[1;33m\u001b[0m\u001b[0m\n\u001b[0;32m    313\u001b[0m         \u001b[1;32mreturn\u001b[0m \u001b[0mwrapper\u001b[0m\u001b[1;33m\u001b[0m\u001b[1;33m\u001b[0m\u001b[0m\n",
      "\u001b[1;32m~\\anaconda3\\Anaconda\\lib\\site-packages\\pandas\\core\\frame.py\u001b[0m in \u001b[0;36mdrop\u001b[1;34m(self, labels, axis, index, columns, level, inplace, errors)\u001b[0m\n\u001b[0;32m   4955\u001b[0m                 \u001b[0mweight\u001b[0m  \u001b[1;36m1.0\u001b[0m     \u001b[1;36m0.8\u001b[0m\u001b[1;33m\u001b[0m\u001b[1;33m\u001b[0m\u001b[0m\n\u001b[0;32m   4956\u001b[0m         \"\"\"\n\u001b[1;32m-> 4957\u001b[1;33m         return super().drop(\n\u001b[0m\u001b[0;32m   4958\u001b[0m             \u001b[0mlabels\u001b[0m\u001b[1;33m=\u001b[0m\u001b[0mlabels\u001b[0m\u001b[1;33m,\u001b[0m\u001b[1;33m\u001b[0m\u001b[1;33m\u001b[0m\u001b[0m\n\u001b[0;32m   4959\u001b[0m             \u001b[0maxis\u001b[0m\u001b[1;33m=\u001b[0m\u001b[0maxis\u001b[0m\u001b[1;33m,\u001b[0m\u001b[1;33m\u001b[0m\u001b[1;33m\u001b[0m\u001b[0m\n",
      "\u001b[1;32m~\\anaconda3\\Anaconda\\lib\\site-packages\\pandas\\core\\generic.py\u001b[0m in \u001b[0;36mdrop\u001b[1;34m(self, labels, axis, index, columns, level, inplace, errors)\u001b[0m\n\u001b[0;32m   4265\u001b[0m         \u001b[1;32mfor\u001b[0m \u001b[0maxis\u001b[0m\u001b[1;33m,\u001b[0m \u001b[0mlabels\u001b[0m \u001b[1;32min\u001b[0m \u001b[0maxes\u001b[0m\u001b[1;33m.\u001b[0m\u001b[0mitems\u001b[0m\u001b[1;33m(\u001b[0m\u001b[1;33m)\u001b[0m\u001b[1;33m:\u001b[0m\u001b[1;33m\u001b[0m\u001b[1;33m\u001b[0m\u001b[0m\n\u001b[0;32m   4266\u001b[0m             \u001b[1;32mif\u001b[0m \u001b[0mlabels\u001b[0m \u001b[1;32mis\u001b[0m \u001b[1;32mnot\u001b[0m \u001b[1;32mNone\u001b[0m\u001b[1;33m:\u001b[0m\u001b[1;33m\u001b[0m\u001b[1;33m\u001b[0m\u001b[0m\n\u001b[1;32m-> 4267\u001b[1;33m                 \u001b[0mobj\u001b[0m \u001b[1;33m=\u001b[0m \u001b[0mobj\u001b[0m\u001b[1;33m.\u001b[0m\u001b[0m_drop_axis\u001b[0m\u001b[1;33m(\u001b[0m\u001b[0mlabels\u001b[0m\u001b[1;33m,\u001b[0m \u001b[0maxis\u001b[0m\u001b[1;33m,\u001b[0m \u001b[0mlevel\u001b[0m\u001b[1;33m=\u001b[0m\u001b[0mlevel\u001b[0m\u001b[1;33m,\u001b[0m \u001b[0merrors\u001b[0m\u001b[1;33m=\u001b[0m\u001b[0merrors\u001b[0m\u001b[1;33m)\u001b[0m\u001b[1;33m\u001b[0m\u001b[1;33m\u001b[0m\u001b[0m\n\u001b[0m\u001b[0;32m   4268\u001b[0m \u001b[1;33m\u001b[0m\u001b[0m\n\u001b[0;32m   4269\u001b[0m         \u001b[1;32mif\u001b[0m \u001b[0minplace\u001b[0m\u001b[1;33m:\u001b[0m\u001b[1;33m\u001b[0m\u001b[1;33m\u001b[0m\u001b[0m\n",
      "\u001b[1;32m~\\anaconda3\\Anaconda\\lib\\site-packages\\pandas\\core\\generic.py\u001b[0m in \u001b[0;36m_drop_axis\u001b[1;34m(self, labels, axis, level, errors, consolidate, only_slice)\u001b[0m\n\u001b[0;32m   4309\u001b[0m                 \u001b[0mnew_axis\u001b[0m \u001b[1;33m=\u001b[0m \u001b[0maxis\u001b[0m\u001b[1;33m.\u001b[0m\u001b[0mdrop\u001b[0m\u001b[1;33m(\u001b[0m\u001b[0mlabels\u001b[0m\u001b[1;33m,\u001b[0m \u001b[0mlevel\u001b[0m\u001b[1;33m=\u001b[0m\u001b[0mlevel\u001b[0m\u001b[1;33m,\u001b[0m \u001b[0merrors\u001b[0m\u001b[1;33m=\u001b[0m\u001b[0merrors\u001b[0m\u001b[1;33m)\u001b[0m\u001b[1;33m\u001b[0m\u001b[1;33m\u001b[0m\u001b[0m\n\u001b[0;32m   4310\u001b[0m             \u001b[1;32melse\u001b[0m\u001b[1;33m:\u001b[0m\u001b[1;33m\u001b[0m\u001b[1;33m\u001b[0m\u001b[0m\n\u001b[1;32m-> 4311\u001b[1;33m                 \u001b[0mnew_axis\u001b[0m \u001b[1;33m=\u001b[0m \u001b[0maxis\u001b[0m\u001b[1;33m.\u001b[0m\u001b[0mdrop\u001b[0m\u001b[1;33m(\u001b[0m\u001b[0mlabels\u001b[0m\u001b[1;33m,\u001b[0m \u001b[0merrors\u001b[0m\u001b[1;33m=\u001b[0m\u001b[0merrors\u001b[0m\u001b[1;33m)\u001b[0m\u001b[1;33m\u001b[0m\u001b[1;33m\u001b[0m\u001b[0m\n\u001b[0m\u001b[0;32m   4312\u001b[0m             \u001b[0mindexer\u001b[0m \u001b[1;33m=\u001b[0m \u001b[0maxis\u001b[0m\u001b[1;33m.\u001b[0m\u001b[0mget_indexer\u001b[0m\u001b[1;33m(\u001b[0m\u001b[0mnew_axis\u001b[0m\u001b[1;33m)\u001b[0m\u001b[1;33m\u001b[0m\u001b[1;33m\u001b[0m\u001b[0m\n\u001b[0;32m   4313\u001b[0m \u001b[1;33m\u001b[0m\u001b[0m\n",
      "\u001b[1;32m~\\anaconda3\\Anaconda\\lib\\site-packages\\pandas\\core\\indexes\\base.py\u001b[0m in \u001b[0;36mdrop\u001b[1;34m(self, labels, errors)\u001b[0m\n\u001b[0;32m   6659\u001b[0m         \u001b[1;32mif\u001b[0m \u001b[0mmask\u001b[0m\u001b[1;33m.\u001b[0m\u001b[0many\u001b[0m\u001b[1;33m(\u001b[0m\u001b[1;33m)\u001b[0m\u001b[1;33m:\u001b[0m\u001b[1;33m\u001b[0m\u001b[1;33m\u001b[0m\u001b[0m\n\u001b[0;32m   6660\u001b[0m             \u001b[1;32mif\u001b[0m \u001b[0merrors\u001b[0m \u001b[1;33m!=\u001b[0m \u001b[1;34m\"ignore\"\u001b[0m\u001b[1;33m:\u001b[0m\u001b[1;33m\u001b[0m\u001b[1;33m\u001b[0m\u001b[0m\n\u001b[1;32m-> 6661\u001b[1;33m                 \u001b[1;32mraise\u001b[0m \u001b[0mKeyError\u001b[0m\u001b[1;33m(\u001b[0m\u001b[1;34mf\"{list(labels[mask])} not found in axis\"\u001b[0m\u001b[1;33m)\u001b[0m\u001b[1;33m\u001b[0m\u001b[1;33m\u001b[0m\u001b[0m\n\u001b[0m\u001b[0;32m   6662\u001b[0m             \u001b[0mindexer\u001b[0m \u001b[1;33m=\u001b[0m \u001b[0mindexer\u001b[0m\u001b[1;33m[\u001b[0m\u001b[1;33m~\u001b[0m\u001b[0mmask\u001b[0m\u001b[1;33m]\u001b[0m\u001b[1;33m\u001b[0m\u001b[1;33m\u001b[0m\u001b[0m\n\u001b[0;32m   6663\u001b[0m         \u001b[1;32mreturn\u001b[0m \u001b[0mself\u001b[0m\u001b[1;33m.\u001b[0m\u001b[0mdelete\u001b[0m\u001b[1;33m(\u001b[0m\u001b[0mindexer\u001b[0m\u001b[1;33m)\u001b[0m\u001b[1;33m\u001b[0m\u001b[1;33m\u001b[0m\u001b[0m\n",
      "\u001b[1;31mKeyError\u001b[0m: \"['Name'] not found in axis\""
     ]
    }
   ],
   "source": [
    "data.drop('Name')"
   ]
  },
  {
   "cell_type": "code",
   "execution_count": null,
   "id": "49c98701",
   "metadata": {},
   "outputs": [],
   "source": []
  }
 ],
 "metadata": {
  "kernelspec": {
   "display_name": "Python 3 (ipykernel)",
   "language": "python",
   "name": "python3"
  },
  "language_info": {
   "codemirror_mode": {
    "name": "ipython",
    "version": 3
   },
   "file_extension": ".py",
   "mimetype": "text/x-python",
   "name": "python",
   "nbconvert_exporter": "python",
   "pygments_lexer": "ipython3",
   "version": "3.9.13"
  }
 },
 "nbformat": 4,
 "nbformat_minor": 5
}
